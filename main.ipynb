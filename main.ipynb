{
 "cells": [
  {
   "cell_type": "markdown",
   "id": "da0b6b3a-7a46-4d8a-8dd5-b2a5dae73aa0",
   "metadata": {},
   "source": [
    "# 1. Setup dependencies"
   ]
  },
  {
   "cell_type": "code",
   "execution_count": 7,
   "id": "96c069b1-3f0c-4e9e-a5fe-dbd66419bf2c",
   "metadata": {},
   "outputs": [
    {
     "name": "stdout",
     "output_type": "stream",
     "text": [
      "Requirement already satisfied: pyspark in ./venv/lib64/python3.12/site-packages (3.5.1)\n",
      "Collecting pandas\n",
      "  Using cached pandas-2.2.2-cp312-cp312-manylinux_2_17_x86_64.manylinux2014_x86_64.whl.metadata (19 kB)\n",
      "Requirement already satisfied: py4j==0.10.9.7 in ./venv/lib64/python3.12/site-packages (from pyspark) (0.10.9.7)\n",
      "Collecting numpy>=1.26.0 (from pandas)\n",
      "  Using cached numpy-1.26.4-cp312-cp312-manylinux_2_17_x86_64.manylinux2014_x86_64.whl.metadata (61 kB)\n",
      "Requirement already satisfied: python-dateutil>=2.8.2 in ./venv/lib64/python3.12/site-packages (from pandas) (2.9.0.post0)\n",
      "Collecting pytz>=2020.1 (from pandas)\n",
      "  Using cached pytz-2024.1-py2.py3-none-any.whl.metadata (22 kB)\n",
      "Collecting tzdata>=2022.7 (from pandas)\n",
      "  Using cached tzdata-2024.1-py2.py3-none-any.whl.metadata (1.4 kB)\n",
      "Requirement already satisfied: six>=1.5 in ./venv/lib64/python3.12/site-packages (from python-dateutil>=2.8.2->pandas) (1.16.0)\n",
      "Using cached pandas-2.2.2-cp312-cp312-manylinux_2_17_x86_64.manylinux2014_x86_64.whl (12.7 MB)\n",
      "Using cached numpy-1.26.4-cp312-cp312-manylinux_2_17_x86_64.manylinux2014_x86_64.whl (18.0 MB)\n",
      "Using cached pytz-2024.1-py2.py3-none-any.whl (505 kB)\n",
      "Using cached tzdata-2024.1-py2.py3-none-any.whl (345 kB)\n",
      "Installing collected packages: pytz, tzdata, numpy, pandas\n",
      "Successfully installed numpy-1.26.4 pandas-2.2.2 pytz-2024.1 tzdata-2024.1\n",
      "\n",
      "\u001b[1m[\u001b[0m\u001b[34;49mnotice\u001b[0m\u001b[1;39;49m]\u001b[0m\u001b[39;49m A new release of pip is available: \u001b[0m\u001b[31;49m23.3.2\u001b[0m\u001b[39;49m -> \u001b[0m\u001b[32;49m24.0\u001b[0m\n",
      "\u001b[1m[\u001b[0m\u001b[34;49mnotice\u001b[0m\u001b[1;39;49m]\u001b[0m\u001b[39;49m To update, run: \u001b[0m\u001b[32;49mpip install --upgrade pip\u001b[0m\n"
     ]
    }
   ],
   "source": [
    "!pip install \\\n",
    "    pyspark \\\n",
    "    pandas"
   ]
  },
  {
   "cell_type": "markdown",
   "id": "8618db22-8cb4-4975-8c07-cd1ca99c3e8e",
   "metadata": {},
   "source": [
    "# 2. Imports"
   ]
  },
  {
   "cell_type": "code",
   "execution_count": 8,
   "id": "9a209f8c-35ce-4b99-ba77-82b3da16918c",
   "metadata": {},
   "outputs": [],
   "source": [
    "import pyspark\n",
    "import pandas as pd"
   ]
  },
  {
   "cell_type": "markdown",
   "id": "bb42e1e5-b8fb-42b2-88b5-2cba8120ab9e",
   "metadata": {},
   "source": [
    "# 3. Setup test1.csv data"
   ]
  },
  {
   "cell_type": "code",
   "execution_count": 12,
   "id": "40f3fbff-fb76-4cdf-9e24-87c3f0ed1e30",
   "metadata": {},
   "outputs": [],
   "source": [
    "# Created using Mockaroo\n",
    "with open('test1.csv', mode='w') as f:\n",
    "    f.write('''id,first_name,last_name,email,gender\\n1,Berni,Livzey,blivzey0@yelp.com,Male\\n2,Gill,Shovelton,gshovelton1@spotify.com,Female\\n3,Gabbie,Kleinbaum,gkleinbaum2@latimes.com,Female\\n4,Yanaton,Chipp,ychipp3@themeforest.net,Male\\n5,Bruce,Fearnley,bfearnley4@w3.org,Male\\n6,Misha,Peasgood,mpeasgood5@facebook.com,Female\\n7,Kendrick,Hearle,khearle6@go.com,Male\\n8,Janeen,Cram,jcram7@ucla.edu,Female\\n9,Devland,Triggs,dtriggs8@ycombinator.com,Male\\n10,Dre,Cammidge,dcammidge9@etsy.com,Male\\n11,Harmonia,Akaster,hakastera@twitter.com,Female\\n12,Winna,Goodday,wgooddayb@free.fr,Female\\n13,Lauryn,Yearby,lyearbyc@amazonaws.com,Female\\n14,Gael,Ship,gshipd@storify.com,Female\\n15,Reginald,Birbeck,rbirbecke@skyrock.com,Male\\n16,Shea,Winspurr,swinspurrf@chron.com,Female\\n17,June,de Savery,jdesaveryg@cnet.com,Male\\n18,Abbey,Stollsteiner,astollsteinerh@squarespace.com,Female\\n19,Arda,Berry,aberryi@nbcnews.com,Male\\n20,Mikael,Ginger,mgingerj@diigo.com,Male\\n21,Saidee,Blackborow,sblackborowk@alibaba.com,Female\\n22,Lucretia,Paolone,lpaolonel@cisco.com,Female\\n23,Jasun,Friend,jfriendm@tinyurl.com,Male\\n24,Udell,Haxley,uhaxleyn@rediff.com,Male\\n25,Mickie,Chritchlow,mchritchlowo@edublogs.org,Male\\n26,Binnie,Brislan,bbrislanp@exblog.jp,Female\\n27,Bogart,Sparsholt,bsparsholtq@npr.org,Male\\n28,Mead,Baggs,mbaggsr@free.fr,Male\\n29,Chrissy,Kollatsch,ckollatschs@yolasite.com,Male\\n30,Sofia,Luckes,sluckest@engadget.com,Male\\n31,Pauletta,Corkhill,pcorkhillu@engadget.com,Male\\n32,Rori,Tregale,rtregalev@uol.com.br,Female\\n33,Clovis,Sheaf,csheafw@netlog.com,Male\\n34,Maynard,Bowles,mbowlesx@ted.com,Female\\n35,Fionna,Klazenga,fklazengay@zdnet.com,Female\\n36,Mel,Quene,mquenez@upenn.edu,Female\\n37,Kristofor,Grinnell,kgrinnell10@illinois.edu,Male\\n38,Jedediah,Snape,jsnape11@cornell.edu,Male\\n39,Josephina,Carvill,jcarvill12@jalbum.net,Female\\n40,Tomlin,Buckby,tbuckby13@list-manage.com,Male\\n41,Pammy,Hourahan,phourahan14@weather.com,Female\\n42,Evyn,Avrashin,eavrashin15@ucla.edu,Male\\n43,Ilka,Lowrance,ilowrance16@ucla.edu,Female\\n44,Ludwig,Twinbourne,ltwinbourne17@sciencedaily.com,Male\\n45,Franny,Dobrowski,fdobrowski18@slate.com,Male\\n46,Ada,Daye,adaye19@ebay.co.uk,Female\\n47,Deedee,Kiellor,dkiellor1a@hc360.com,Female\\n48,Athene,Garfield,agarfield1b@google.es,Male\\n49,Gweneth,De Avenell,gdeavenell1c@columbia.edu,Male\\n50,Malina,Bocking,mbocking1d@amazonaws.com,Female\\n51,Burty,Kenealy,bkenealy1e@google.com.hk,Female\\n52,Garreth,Coulter,gcoulter1f@mysql.com,Female\\n53,Jaimie,Karby,jkarby1g@4shared.com,Female\\n54,Barbara,Rizziello,brizziello1h@umn.edu,Female\\n55,Ainslee,Mungham,amungham1i@time.com,Male\\n56,Robinetta,Domenget,rdomenget1j@gov.uk,Female\\n57,Aldwin,Kytley,akytley1k@si.edu,Female\\n58,Addia,Dargie,adargie1l@vk.com,Female\\n59,Arvin,Tilt,atilt1m@shinystat.com,Female\\n60,Pia,Carillo,pcarillo1n@ebay.co.uk,Female\\n61,Ferdinande,Kiehl,fkiehl1o@house.gov,Female\\n62,Crista,McCollum,cmccollum1p@adobe.com,Female\\n63,Gunther,Hurdis,ghurdis1q@360.cn,Male\\n64,Corey,Feldharker,cfeldharker1r@quantcast.com,Male\\n65,Gay,Fergie,gfergie1s@vk.com,Female\\n66,Ingemar,Tomsen,itomsen1t@1688.com,Female\\n67,Sydel,Godbert,sgodbert1u@fda.gov,Female\\n68,Steffi,Pesek,spesek1v@amazon.com,Female\\n69,Thorn,Moors,tmoors1w@merriam-webster.com,Female\\n70,Lisle,Rouchy,lrouchy1x@facebook.com,Male\\n71,Lilli,Suthworth,lsuthworth1y@ifeng.com,Female\\n72,Josefina,Hanner,jhanner1z@github.com,Male\\n73,Shermie,O'Flaherty,soflaherty20@rediff.com,Female\\n74,Odille,Durling,odurling21@youtube.com,Male\\n75,Ivan,Orta,iorta22@omniture.com,Male\\n76,Fons,Bum,fbum23@arizona.edu,Female\\n77,Eldredge,Baughan,ebaughan24@usgs.gov,Female\\n78,Rem,Dungee,rdungee25@wsj.com,Female\\n79,Ingar,Ginni,iginni26@house.gov,Male\\n80,Kerry,Preston,kpreston27@cpanel.net,Female\\n81,Pennie,Demko,pdemko28@diigo.com,Male\\n82,Isacco,Camsey,icamsey29@cdc.gov,Male\\n83,Turner,Alfwy,talfwy2a@tamu.edu,Male\\n84,Raquela,Persich,rpersich2b@163.com,Male\\n85,Kylie,Kilfeather,kkilfeather2c@nps.gov,Female\\n86,Dmitri,Suller,dsuller2d@cdc.gov,Male\\n87,Darbie,Rosier,drosier2e@usa.gov,Male\\n88,Anny,Headly,aheadly2f@reddit.com,Male\\n89,Kassey,Uttridge,kuttridge2g@altervista.org,Male\\n90,Lindsay,Boylund,lboylund2h@netvibes.com,Male\\n91,Jeniffer,Graeme,jgraeme2i@cmu.edu,Female\\n92,Tobiah,Henner,thenner2j@cafepress.com,Male\\n93,Hastie,Klimczak,hklimczak2k@dell.com,Male\\n94,Cullen,Brekonridge,cbrekonridge2l@stumbleupon.com,Female\\n95,Hartley,Emlen,hemlen2m@gnu.org,Male\\n96,Sean,Simka,ssimka2n@intel.com,Male\\n97,Adriane,Bakewell,abakewell2o@cdbaby.com,Female\\n98,Rocky,Hunting,rhunting2p@bravesites.com,Male\\n99,Farris,Bertelsen,fbertelsen2q@uiuc.edu,Male\\n100,Florrie,Tomaini,ftomaini2r@google.com.hk,Male\\n101,Brent,Ranger,branger2s@comcast.net,Female\\n102,Osmund,Dowry,odowry2t@macromedia.com,Male\\n103,Candice,Akred,cakred2u@businessinsider.com,Male\\n104,Berky,Vasilenko,bvasilenko2v@pinterest.com,Female\\n105,Appolonia,Norcliff,anorcliff2w@ucoz.com,Female\\n106,Rolph,Johnstone,rjohnstone2x@ucla.edu,Female\\n107,Wilona,Brumhead,wbrumhead2y@ow.ly,Female\\n108,Georgiana,Kumaar,gkumaar2z@marketwatch.com,Male\\n109,Vinita,MacKissack,vmackissack30@weather.com,Female\\n110,Caria,Faier,cfaier31@prlog.org,Male\\n111,Robinetta,Cater,rcater32@storify.com,Male\\n112,Kirsten,Curgenuer,kcurgenuer33@examiner.com,Male\\n113,Simeon,Creelman,screelman34@thetimes.co.uk,Female\\n114,Callida,Treneer,ctreneer35@mozilla.org,Male\\n115,Evered,Klossek,eklossek36@psu.edu,Female\\n116,Waldon,Cordell,wcordell37@twitpic.com,Female\\n117,Karoly,Hrachovec,khrachovec38@123-reg.co.uk,Female\\n118,Trstram,Tapton,ttapton39@kickstarter.com,Male\\n119,Celeste,Etchell,cetchell3a@naver.com,Male\\n120,Delila,Causbey,dcausbey3b@hubpages.com,Female\\n121,Helaine,Hallor,hhallor3c@stumbleupon.com,Female\\n122,Marys,Tatnell,mtatnell3d@ibm.com,Female\\n123,Sapphira,Elleton,selleton3e@indiegogo.com,Female\\n124,Seymour,Foro,sforo3f@geocities.jp,Female\\n125,Vivianne,Duligall,vduligall3g@parallels.com,Male\\n126,Malinde,Lovering,mlovering3h@wufoo.com,Male\\n127,Estel,Georgot,egeorgot3i@cdbaby.com,Female\\n128,Caye,Swinerd,cswinerd3j@acquirethisname.com,Male\\n129,Amandi,Palister,apalister3k@360.cn,Female\\n130,Perry,Raspin,praspin3l@state.gov,Female\\n131,Jenelle,Pynner,jpynner3m@ow.ly,Female\\n132,Brigit,Funcheon,bfuncheon3n@mayoclinic.com,Female\\n133,Wiley,Skellorne,wskellorne3o@reddit.com,Male\\n134,Virginia,Reinbach,vreinbach3p@1688.com,Male\\n135,Vergil,Tomaszkiewicz,vtomaszkiewicz3q@chicagotribune.com,Female\\n136,Nancey,Bussetti,nbussetti3r@spotify.com,Female\\n137,Tonye,De Gregoli,tdegregoli3s@imgur.com,Female\\n138,Pauly,Domican,pdomican3t@fotki.com,Female\\n139,Erek,Hambly,ehambly3u@answers.com,Male\\n140,Keelby,Argile,kargile3v@spiegel.de,Female\\n141,Leonelle,Cornforth,lcornforth3w@apache.org,Male\\n142,Elden,Talby,etalby3x@newsvine.com,Male\\n143,Normy,Pierton,npierton3y@discovery.com,Male\\n144,Carola,Tilling,ctilling3z@discuz.net,Female\\n145,Winnifred,Gomar,wgomar40@mit.edu,Female\\n146,Augustus,Macquire,amacquire41@mail.ru,Female\\n147,Nevin,Grenfell,ngrenfell42@geocities.jp,Female\\n148,Magnum,Castro,mcastro43@ca.gov,Female\\n149,Diane,Gandy,dgandy44@linkedin.com,Male\\n150,Tessa,Purrington,tpurrington45@businesswire.com,Male\\n151,Felizio,Clampton,fclampton46@prlog.org,Female\\n152,Bird,Rapson,brapson47@npr.org,Female\\n153,Susie,Talton,stalton48@shutterfly.com,Male\\n154,Haley,Lidgertwood,hlidgertwood49@newsvine.com,Female\\n155,Lurlene,Schettini,lschettini4a@geocities.jp,Male\\n156,Ross,Dollimore,rdollimore4b@drupal.org,Female\\n157,Katherine,Brewitt,kbrewitt4c@jalbum.net,Female\\n158,Tate,Lattka,tlattka4d@canalblog.com,Female\\n159,Joanie,McAndie,jmcandie4e@booking.com,Male\\n160,Tiphany,Ayer,tayer4f@bravesites.com,Female\\n161,Tann,Tuiller,ttuiller4g@theglobeandmail.com,Male\\n162,Roscoe,Murden,rmurden4h@wisc.edu,Female\\n163,Krispin,Janaszewski,kjanaszewski4i@t.co,Female\\n164,Brigham,Trenam,btrenam4j@quantcast.com,Female\\n165,Alleen,Rodders,arodders4k@arstechnica.com,Female\\n166,Jennie,Mulholland,jmulholland4l@bing.com,Female\\n167,Francoise,Yitshak,fyitshak4m@blinklist.com,Male\\n168,Zack,Helsby,zhelsby4n@rambler.ru,Male\\n169,Nikki,Petit,npetit4o@t.co,Female\\n170,Holt,Helliker,hhelliker4p@ask.com,Female\\n171,Sherlock,Philcott,sphilcott4q@admin.ch,Male\\n172,Clevey,Drinkhall,cdrinkhall4r@sogou.com,Male\\n173,Paul,Crosser,pcrosser4s@dot.gov,Female\\n174,Garik,Mum,gmum4t@house.gov,Female\\n175,Cloris,Rosevear,crosevear4u@google.es,Male\\n176,Tedman,Demelt,tdemelt4v@scientificamerican.com,Male\\n177,Dav,Griffe,dgriffe4w@google.nl,Male\\n178,Kelcy,Deaton,kdeaton4x@sciencedaily.com,Female\\n179,Karly,Hawsby,khawsby4y@google.de,Male\\n180,Reinwald,Acom,racom4z@marketwatch.com,Female\\n181,Rayna,Routh,rrouth50@deviantart.com,Female\\n182,Alic,Bryers,abryers51@cbslocal.com,Female\\n183,Thatcher,Cawdery,tcawdery52@dell.com,Male\\n184,Roxana,Turford,rturford53@theatlantic.com,Female\\n185,Hyman,Gauge,hgauge54@delicious.com,Female\\n186,Les,Giovannoni,lgiovannoni55@nsw.gov.au,Female\\n187,Cherey,Tassell,ctassell56@whitehouse.gov,Male\\n188,Hulda,Ormiston,hormiston57@dropbox.com,Male\\n189,Astrix,Mishow,amishow58@uol.com.br,Female\\n190,Melodee,Toner,mtoner59@state.tx.us,Female\\n191,Johnette,Bradwell,jbradwell5a@springer.com,Female\\n192,Theodosia,Kennler,tkennler5b@plala.or.jp,Female\\n193,Janka,Gheorghie,jgheorghie5c@si.edu,Female\\n194,Cam,Wetherald,cwetherald5d@google.pl,Male\\n195,Richmound,Sudron,rsudron5e@behance.net,Female\\n196,Magda,MacKimm,mmackimm5f@ocn.ne.jp,Male\\n197,Ryan,Hutchens,rhutchens5g@shop-pro.jp,Female\\n198,Mose,Comberbach,mcomberbach5h@intel.com,Male\\n199,Addison,Porte,aporte5i@indiegogo.com,Female\\n200,Hazlett,Belfitt,hbelfitt5j@xing.com,Female\\n201,Dannie,Joselovitch,djoselovitch5k@nasa.gov,Female\\n202,Angele,Jermey,ajermey5l@instagram.com,Male\\n203,Ketty,Knight,kknight5m@miitbeian.gov.cn,Male\\n204,Bartholomeus,Apfelmann,bapfelmann5n@amazon.co.uk,Female\\n205,Orel,Mayers,omayers5o@europa.eu,Male\\n206,Culley,Ibel,cibel5p@nps.gov,Female\\n207,Reid,Shackel,rshackel5q@unicef.org,Male\\n208,Filippa,Grelak,fgrelak5r@bigcartel.com,Female\\n209,Dorice,Josifovic,djosifovic5s@mac.com,Male\\n210,Anne,Herrieven,aherrieven5t@vkontakte.ru,Female\\n211,Berni,Bagguley,bbagguley5u@eventbrite.com,Male\\n212,Cornall,Godfery,cgodfery5v@ca.gov,Female\\n213,Gelya,Forestall,gforestall5w@storify.com,Female\\n214,Ryley,Enston,renston5x@fotki.com,Female\\n215,Heida,Hedge,hhedge5y@drupal.org,Male\\n216,Townsend,Nansom,tnansom5z@usa.gov,Male\\n217,Vanni,Ashfield,vashfield60@domainmarket.com,Male\\n218,Bernita,Spaldin,bspaldin61@ftc.gov,Male\\n219,Sylvia,Menichi,smenichi62@independent.co.uk,Male\\n220,Lefty,Ravilious,lravilious63@cisco.com,Male\\n221,Irita,Norster,inorster64@google.de,Female\\n222,Teddie,Renak,trenak65@cisco.com,Male\\n223,Loree,Norquay,lnorquay66@dailymotion.com,Female\\n224,Sinclair,Nelthrop,snelthrop67@cam.ac.uk,Male\\n225,Sheeree,Bourdel,sbourdel68@blogs.com,Male\\n226,Jackelyn,Maycock,jmaycock69@cam.ac.uk,Female\\n227,Piggy,Leban,pleban6a@mediafire.com,Male\\n228,Dinah,Feeney,dfeeney6b@arstechnica.com,Female\\n229,Kelley,Merrin,kmerrin6c@cargocollective.com,Female\\n230,Lyndsay,Aronin,laronin6d@salon.com,Female\\n231,Corissa,Faircliff,cfaircliff6e@sogou.com,Male\\n232,Myrvyn,Brain,mbrain6f@yelp.com,Male\\n233,Harv,Georgescu,hgeorgescu6g@shareasale.com,Female\\n234,Mariska,Bogies,mbogies6h@nytimes.com,Female\\n235,Sara,Poone,spoone6i@amazon.de,Female\\n236,Dunn,Inchan,dinchan6j@rambler.ru,Female\\n237,Otha,Ames,oames6k@comsenz.com,Male\\n238,Rosaline,Eccersley,reccersley6l@imdb.com,Female\\n239,Rodney,Filinkov,rfilinkov6m@virginia.edu,Female\\n240,Noelle,Gavozzi,ngavozzi6n@google.ca,Female\\n241,Florette,Bellhanger,fbellhanger6o@moonfruit.com,Female\\n242,Augusto,Bewsy,abewsy6p@cargocollective.com,Male\\n243,Shaughn,Standing,sstanding6q@unblog.fr,Male\\n244,Sauncho,Aylin,saylin6r@latimes.com,Female\\n245,Leslie,Cursey,lcursey6s@lulu.com,Male\\n246,Barret,Besnard,bbesnard6t@facebook.com,Male\\n247,Jen,Doni,jdoni6u@nyu.edu,Male\\n248,Lynelle,Coleby,lcoleby6v@disqus.com,Female\\n249,Garrot,Orrow,gorrow6w@slashdot.org,Male\\n250,Charo,Morhall,cmorhall6x@hao123.com,Male\\n251,Hazel,Schwaiger,hschwaiger6y@nature.com,Female\\n252,Goober,Dorracott,gdorracott6z@gizmodo.com,Male\\n253,Marcos,Readwood,mreadwood70@biblegateway.com,Male\\n254,Briney,De Mattia,bdemattia71@cnbc.com,Female\\n255,Konstance,Ridgwell,kridgwell72@ibm.com,Female\\n256,Rik,Toller,rtoller73@ifeng.com,Male\\n257,Emanuele,Oblein,eoblein74@wp.com,Female\\n258,Nickie,Mason,nmason75@aol.com,Male\\n259,Teddi,Franscioni,tfranscioni76@163.com,Male\\n260,Shannon,Reinger,sreinger77@nationalgeographic.com,Female\\n261,Burg,Lesek,blesek78@mit.edu,Female\\n262,Heddie,Ewbanck,hewbanck79@economist.com,Female\\n263,Tailor,Vossing,tvossing7a@hexun.com,Female\\n264,Brigida,Rosengren,brosengren7b@plala.or.jp,Female\\n265,Ariel,Massimo,amassimo7c@topsy.com,Female\\n266,Clarie,Moxsom,cmoxsom7d@icq.com,Female\\n267,Windy,MacConnulty,wmacconnulty7e@ebay.com,Female\\n268,Nissa,Chidlow,nchidlow7f@diigo.com,Female\\n269,Sheila-kathryn,Leask,sleask7g@phoca.cz,Female\\n270,Essie,Ivins,eivins7h@baidu.com,Female\\n271,Enrique,Belsher,ebelsher7i@ebay.com,Male\\n272,Elwira,Hadingham,ehadingham7j@paginegialle.it,Female\\n273,Garland,Minors,gminors7k@pagesperso-orange.fr,Male\\n274,Renelle,Horney,rhorney7l@google.co.jp,Male\\n275,Gisele,Pietruszka,gpietruszka7m@cnet.com,Male\\n276,Shurlocke,Dows,sdows7n@state.tx.us,Male\\n277,Vinni,Houten,vhouten7o@weather.com,Female\\n278,Jaquelyn,Dullingham,jdullingham7p@apache.org,Male\\n279,Hallsy,Beteriss,hbeteriss7q@google.pl,Male\\n280,Alberik,Goucher,agoucher7r@tamu.edu,Female\\n281,Olivier,Repp,orepp7s@cisco.com,Female\\n282,Milka,Hakewell,mhakewell7t@furl.net,Male\\n283,Kittie,Radeliffe,kradeliffe7u@apple.com,Female\\n284,Vinni,Hickinbottom,vhickinbottom7v@dot.gov,Male\\n285,Joletta,Leatt,jleatt7w@mapy.cz,Female\\n286,Cassondra,Mealham,cmealham7x@huffingtonpost.com,Male\\n287,Julius,Ferreiro,jferreiro7y@homestead.com,Male\\n288,Travers,Deguara,tdeguara7z@domainmarket.com,Female\\n289,Nance,Weber,nweber80@spotify.com,Male\\n290,Westley,Estoile,westoile81@mac.com,Male\\n291,Serena,Flasby,sflasby82@myspace.com,Female\\n292,Reeba,Beincken,rbeincken83@webs.com,Male\\n293,Tricia,Burdon,tburdon84@weather.com,Male\\n294,Odey,Tylor,otylor85@microsoft.com,Female\\n295,Sinclare,Finlason,sfinlason86@toplist.cz,Male\\n296,Lefty,Mooring,lmooring87@live.com,Male\\n297,Junina,Seleway,jseleway88@taobao.com,Female\\n298,Lelia,Lockett,llockett89@1und1.de,Male\\n299,Mathilde,Gossage,mgossage8a@wunderground.com,Female\\n300,Tania,Luckes,tluckes8b@freewebs.com,Female\\n301,Inger,Stirling,istirling8c@people.com.cn,Female\\n302,Hinze,Yuryichev,hyuryichev8d@oracle.com,Female\\n303,Melli,Nuton,mnuton8e@craigslist.org,Female\\n304,Rennie,Leser,rleser8f@dyndns.org,Female\\n305,Nadya,Ezzell,nezzell8g@pcworld.com,Female\\n306,Isacco,Sokale,isokale8h@elpais.com,Female\\n307,Lora,Crates,lcrates8i@tamu.edu,Female\\n308,Ragnar,MacKilroe,rmackilroe8j@cmu.edu,Female\\n309,Erick,Coffin,ecoffin8k@privacy.gov.au,Male\\n310,Carlos,Abrahamsohn,cabrahamsohn8l@ifeng.com,Female\\n311,Zsa zsa,Larvin,zlarvin8m@com.com,Male\\n312,Hedi,Fosken,hfosken8n@wordpress.org,Male\\n313,Bradford,Swancott,bswancott8o@rediff.com,Male\\n314,Virge,Sketchley,vsketchley8p@wisc.edu,Female\\n315,Hermina,Paxton,hpaxton8q@google.ru,Female\\n316,Benyamin,Hulks,bhulks8r@huffingtonpost.com,Male\\n317,Marthe,Gascoyen,mgascoyen8s@nasa.gov,Male\\n318,Hadrian,Scarrisbrick,hscarrisbrick8t@tmall.com,Female\\n319,Gayla,Klimczak,gklimczak8u@mapquest.com,Male\\n320,Vivyanne,Abrahams,vabrahams8v@e-recht24.de,Female\\n321,Louella,Grindell,lgrindell8w@goo.gl,Male\\n322,Eveline,Rayman,erayman8x@nasa.gov,Male\\n323,Bendix,Birth,bbirth8y@squidoo.com,Male\\n324,Ashbey,Case,acase8z@ask.com,Male\\n325,Paulina,Puckrin,ppuckrin90@quantcast.com,Female\\n326,Winona,Eliesco,weliesco91@lycos.com,Female\\n327,Caitrin,Lademann,clademann92@smh.com.au,Male\\n328,Lila,Bellingham,lbellingham93@sohu.com,Female\\n329,Kaleena,Osgood,kosgood94@issuu.com,Male\\n330,Willette,Lissaman,wlissaman95@shareasale.com,Male\\n331,Arel,Hatherill,ahatherill96@ed.gov,Female\\n332,Luisa,McVitty,lmcvitty97@blogspot.com,Male\\n333,Hailey,Seccombe,hseccombe98@ucoz.ru,Female\\n334,Debby,Luciani,dluciani99@google.pl,Female\\n335,Goddart,Stroder,gstroder9a@google.de,Female\\n336,Ernest,Hurdedge,ehurdedge9b@cloudflare.com,Male\\n337,Cletus,Dugdale,cdugdale9c@smh.com.au,Male\\n338,Maire,Lynd,mlynd9d@prlog.org,Female\\n339,Ignacio,Sherlaw,isherlaw9e@opera.com,Female\\n340,Ulrica,Yukhtin,uyukhtin9f@trellian.com,Male\\n341,Xymenes,Sneyd,xsneyd9g@goodreads.com,Male\\n342,Hillier,Claxson,hclaxson9h@salon.com,Female\\n343,Basil,Ruf,bruf9i@nydailynews.com,Female\\n344,Celestia,Frusher,cfrusher9j@sourceforge.net,Male\\n345,Terri-jo,Barnfield,tbarnfield9k@altervista.org,Male\\n346,Gasparo,Leveridge,gleveridge9l@utexas.edu,Female\\n347,Clarey,De Meyer,cdemeyer9m@hatena.ne.jp,Female\\n348,Emiline,Mackrell,emackrell9n@ca.gov,Male\\n349,Jana,Livermore,jlivermore9o@scientificamerican.com,Female\\n350,Raddie,Pauel,rpauel9p@devhub.com,Female\\n351,Nestor,Aitken,naitken9q@cargocollective.com,Male\\n352,Gordie,Andino,gandino9r@usatoday.com,Male\\n353,Sher,Broad,sbroad9s@mac.com,Female\\n354,Clarie,Reeson,creeson9t@oakley.com,Female\\n355,Consolata,McDonnell,cmcdonnell9u@issuu.com,Male\\n356,Francene,Robillard,frobillard9v@npr.org,Male\\n357,Sabrina,Bignall,sbignall9w@ask.com,Male\\n358,Coriss,Crookshanks,ccrookshanks9x@buzzfeed.com,Male\\n359,Kariotta,Attride,kattride9y@sourceforge.net,Male\\n360,Roscoe,Humfrey,rhumfrey9z@acquirethisname.com,Male\\n361,Del,Knifton,dkniftona0@list-manage.com,Male\\n362,Eunice,Starbucke,estarbuckea1@ucsd.edu,Female\\n363,Jannelle,Larcher,jlarchera2@yellowpages.com,Female\\n364,Eliza,Daggett,edaggetta3@boston.com,Female\\n365,Willyt,Kornacki,wkornackia4@sourceforge.net,Male\\n366,Sharleen,Sandle,ssandlea5@blogspot.com,Female\\n367,Andreana,D'Enrico,adenricoa6@altervista.org,Female\\n368,Yovonnda,Callen,ycallena7@tmall.com,Male\\n369,Aubrette,Asson,aassona8@mozilla.org,Male\\n370,Stoddard,Gourdon,sgourdona9@marketwatch.com,Female\\n371,Even,Cahill,ecahillaa@1und1.de,Male\\n372,Charla,Daykin,cdaykinab@quantcast.com,Female\\n373,Christiano,Hillitt,chillittac@stanford.edu,Male\\n374,Mirabel,Harvett,mharvettad@gnu.org,Male\\n375,Fred,Losano,flosanoae@examiner.com,Female\\n376,Emmit,Wilby,ewilbyaf@plala.or.jp,Male\\n377,Carlos,Craddock,ccraddockag@fastcompany.com,Female\\n378,Britney,Fratczak,bfratczakah@chronoengine.com,Male\\n379,Delcine,Elderbrant,delderbrantai@intel.com,Male\\n380,Kelly,Halfacre,khalfacreaj@paginegialle.it,Male\\n381,Reiko,Feldmann,rfeldmannak@goo.gl,Male\\n382,Odelinda,Smurthwaite,osmurthwaiteal@google.fr,Male\\n383,Katheryn,Windeatt,kwindeattam@unicef.org,Male\\n384,Wendie,Leasor,wleasoran@java.com,Female\\n385,Pattin,Giorgini,pgiorginiao@slate.com,Male\\n386,Darlene,Chastel,dchastelap@jigsy.com,Female\\n387,Friederike,Iowarch,fiowarchaq@cmu.edu,Female\\n388,Molly,Sabathe,msabathear@ycombinator.com,Female\\n389,Eward,Daens,edaensas@mapy.cz,Male\\n390,Mikaela,Sazio,msazioat@instagram.com,Female\\n391,Delcine,McCaig,dmccaigau@moonfruit.com,Male\\n392,Stormy,Bagnold,sbagnoldav@furl.net,Female\\n393,Rollins,Morch,rmorchaw@time.com,Male\\n394,Lucila,Manton,lmantonax@netvibes.com,Male\\n395,Burty,Insoll,binsollay@biblegateway.com,Female\\n396,Daisey,Kett,dkettaz@cornell.edu,Male\\n397,Eileen,O'Shee,eosheeb0@wikia.com,Female\\n398,Dorey,Manford,dmanfordb1@berkeley.edu,Female\\n399,Dunc,Beldam,dbeldamb2@imgur.com,Male\\n400,Jacintha,Bauduin,jbauduinb3@woothemes.com,Female\\n401,Hughie,Duffy,hduffyb4@nih.gov,Male\\n402,Derrik,Tomblett,dtomblettb5@telegraph.co.uk,Female\\n403,Kassey,Seiffert,kseiffertb6@intel.com,Female\\n404,Karoly,Preedy,kpreedyb7@prlog.org,Male\\n405,Norrie,Dark,ndarkb8@trellian.com,Male\\n406,Letti,Temperley,ltemperleyb9@hhs.gov,Female\\n407,Arney,Lowle,alowleba@home.pl,Male\\n408,Patty,Towler,ptowlerbb@cam.ac.uk,Female\\n409,Crichton,Hedden,cheddenbc@sitemeter.com,Female\\n410,Gusty,Maddigan,gmaddiganbd@bizjournals.com,Male\\n411,Keriann,McCaster,kmccasterbe@chron.com,Male\\n412,Kati,Campagne,kcampagnebf@npr.org,Female\\n413,Robin,Redferne,rredfernebg@google.es,Male\\n414,Dory,Huws,dhuwsbh@businessinsider.com,Male\\n415,Egon,Yakobowitch,eyakobowitchbi@slideshare.net,Male\\n416,Legra,Fernyhough,lfernyhoughbj@is.gd,Male\\n417,Marshal,Willerton,mwillertonbk@amazon.co.uk,Male\\n418,Verene,Yeudall,vyeudallbl@princeton.edu,Male\\n419,Inge,Peto,ipetobm@chron.com,Male\\n420,Irwinn,Huot,ihuotbn@facebook.com,Female\\n421,Lyle,Rabjohn,lrabjohnbo@archive.org,Female\\n422,Vasili,Sevin,vsevinbp@usatoday.com,Female\\n423,Brigida,Morcombe,bmorcombebq@tiny.cc,Male\\n424,Keene,Caughan,kcaughanbr@ucsd.edu,Female\\n425,Obediah,McMakin,omcmakinbs@home.pl,Female\\n426,Janean,Noke,jnokebt@cdc.gov,Female\\n427,Doti,Gotecliffe,dgotecliffebu@stanford.edu,Female\\n428,Trstram,Aleksandrikin,taleksandrikinbv@printfriendly.com,Male\\n429,Bram,Johns,bjohnsbw@omniture.com,Female\\n430,Natalee,Montford,nmontfordbx@youtube.com,Male\\n431,Lanie,Kuhnert,lkuhnertby@cdc.gov,Female\\n432,Justus,Wimpey,jwimpeybz@theglobeandmail.com,Male\\n433,Lyon,Borrie,lborriec0@irs.gov,Female\\n434,Arlena,Youson,ayousonc1@themeforest.net,Male\\n435,Arleyne,Beazleigh,abeazleighc2@booking.com,Female\\n436,Brinna,Pardal,bpardalc3@360.cn,Male\\n437,Jessika,Ginie,jginiec4@google.de,Male\\n438,Oliviero,Bagott,obagottc5@xinhuanet.com,Male\\n439,Ruttger,Hatliff,rhatliffc6@issuu.com,Male\\n440,Edyth,Rozalski,erozalskic7@mapquest.com,Male\\n441,Wilden,Skelington,wskelingtonc8@ameblo.jp,Male\\n442,James,Athridge,jathridgec9@mac.com,Male\\n443,Tobiah,Shiril,tshirilca@facebook.com,Female\\n444,Agnese,Bredes,abredescb@timesonline.co.uk,Male\\n445,Yorke,Daybell,ydaybellcc@geocities.com,Female\\n446,Janene,Hawtry,jhawtrycd@springer.com,Female\\n447,Hadley,Glasscock,hglasscockce@myspace.com,Male\\n448,Layne,Geale,lgealecf@tmall.com,Female\\n449,Gale,Rissom,grissomcg@nih.gov,Male\\n450,Rufus,Matschoss,rmatschossch@redcross.org,Male\\n451,Dalston,Borg-Bartolo,dborgbartoloci@accuweather.com,Male\\n452,Weylin,Grimm,wgrimmcj@java.com,Male\\n453,Sisely,Surgeoner,ssurgeonerck@sourceforge.net,Female\\n454,Sloane,Rowat,srowatcl@is.gd,Female\\n455,Enos,Whenham,ewhenhamcm@tripadvisor.com,Female\\n456,Ruperta,Saer,rsaercn@comcast.net,Female\\n457,Lavena,Necrews,lnecrewsco@blog.com,Female\\n458,Shamus,Royle,sroylecp@buzzfeed.com,Male\\n459,Kikelia,Staries,kstariescq@nytimes.com,Female\\n460,Janifer,Herche,jherchecr@google.fr,Male\\n461,Alis,Wyre,awyrecs@nymag.com,Male\\n462,Brenn,Josephs,bjosephsct@joomla.org,Male\\n463,Tamera,Carnoghan,tcarnoghancu@t.co,Male\\n464,Hilarius,Urling,hurlingcv@odnoklassniki.ru,Male\\n465,Mallorie,Ponte,mpontecw@friendfeed.com,Male\\n466,Jacklin,Conningham,jconninghamcx@cbc.ca,Female\\n467,Gill,Seleway,gselewaycy@sina.com.cn,Male\\n468,Avictor,LAbbet,alabbetcz@yelp.com,Male\\n469,Ailyn,Coucha,acouchad0@123-reg.co.uk,Female\\n470,Klara,Grigolashvill,kgrigolashvilld1@lulu.com,Female\\n471,Enrico,Millgate,emillgated2@nbcnews.com,Male\\n472,Dunn,Farryan,dfarryand3@studiopress.com,Female\\n473,Dynah,MacChaell,dmacchaelld4@fc2.com,Female\\n474,Monti,Gerty,mgertyd5@sogou.com,Female\\n475,Daisy,Hornig,dhornigd6@pagesperso-orange.fr,Female\\n476,Shannah,Ennor,sennord7@hugedomains.com,Female\\n477,Ruprecht,Woodwin,rwoodwind8@virginia.edu,Female\\n478,Richmound,McMarquis,rmcmarquisd9@cnbc.com,Male\\n479,Natal,Cockerill,ncockerillda@eepurl.com,Female\\n480,Minette,Brocklebank,mbrocklebankdb@kickstarter.com,Male\\n481,Alexine,Guislin,aguislindc@omniture.com,Male\\n482,Rosina,Spark,rsparkdd@omniture.com,Male\\n483,Benjy,Schade,bschadede@dell.com,Male\\n484,Dorice,Conigsby,dconigsbydf@census.gov,Male\\n485,Philly,Harrold,pharrolddg@buzzfeed.com,Male\\n486,Dell,Fadell,dfadelldh@wikispaces.com,Male\\n487,Kit,Paddison,kpaddisondi@apache.org,Male\\n488,Allene,Motte,amottedj@yahoo.com,Female\\n489,Ardisj,Siehard,asieharddk@wikispaces.com,Male\\n490,Yoshiko,MacMeeking,ymacmeekingdl@tuttocitta.it,Male\\n491,Hugibert,Paquet,hpaquetdm@who.int,Female\\n492,Charleen,Peyro,cpeyrodn@noaa.gov,Male\\n493,Ansell,Gamblin,agamblindo@tripadvisor.com,Female\\n494,Ambros,Whittington,awhittingtondp@issuu.com,Male\\n495,Mufinella,Bloggett,mbloggettdq@artisteer.com,Female\\n496,Neil,Penswick,npenswickdr@hp.com,Female\\n497,Torrin,Grinter,tgrinterds@1688.com,Female\\n498,Chaunce,Schott,cschottdt@imageshack.us,Female\\n499,Netta,Devin,ndevindu@amazon.co.uk,Male\\n500,Roseanne,Badwick,rbadwickdv@npr.org,Male\\n501,Gennie,Heugle,gheugledw@blogger.com,Male\\n502,Flemming,Nockalls,fnockallsdx@rambler.ru,Male\\n503,Perle,Quin,pquindy@chicagotribune.com,Male\\n504,Fraze,Ellacombe,fellacombedz@cocolog-nifty.com,Male\\n505,Melody,Hayball,mhayballe0@eventbrite.com,Female\\n506,Roldan,Batey,rbateye1@addtoany.com,Female\\n507,Ninnetta,Eschalette,neschalettee2@biblegateway.com,Male\\n508,Booth,De Gregario,bdegregarioe3@cbsnews.com,Male\\n509,Sebastien,Spragge,sspraggee4@ed.gov,Male\\n510,Carey,Blazewicz,cblazewicze5@blogger.com,Female\\n511,Dilly,Payton,dpaytone6@statcounter.com,Male\\n512,Husain,Lyburn,hlyburne7@ca.gov,Male\\n513,Lennie,Hulett,lhulette8@google.de,Male\\n514,Lezlie,Bielfeldt,lbielfeldte9@biblegateway.com,Male\\n515,Ninetta,Toman,ntomanea@seattletimes.com,Male\\n516,Dinnie,Poli,dpolieb@creativecommons.org,Female\\n517,Odette,Libbie,olibbieec@skyrock.com,Male\\n518,Brinn,Larderot,blarderoted@sogou.com,Male\\n519,Thalia,Shedd,tsheddee@salon.com,Female\\n520,Gracia,Mecozzi,gmecozzief@shareasale.com,Female\\n521,Nelli,Jandel,njandeleg@g.co,Male\\n522,Brad,Ebdin,bebdineh@netlog.com,Female\\n523,Sergeant,Plaice,splaiceei@alexa.com,Female\\n524,Janet,Adamowitz,jadamowitzej@nature.com,Male\\n525,Phyllys,Archer,parcherek@ucla.edu,Male\\n526,Amandi,Anear,aanearel@moonfruit.com,Female\\n527,Kirby,Whitwell,kwhitwellem@sciencedaily.com,Female\\n528,Arabel,Kalisch,akalischen@sitemeter.com,Male\\n529,Anselm,Kiffe,akiffeeo@umich.edu,Female\\n530,Drona,Han,dhanep@nydailynews.com,Male\\n531,Barr,Petrosian,bpetrosianeq@shutterfly.com,Male\\n532,Felice,Grutchfield,fgrutchfielder@time.com,Male\\n533,Ricca,Deetch,rdeetches@imgur.com,Female\\n534,Noak,Bonnaire,nbonnaireet@istockphoto.com,Male\\n535,Torie,Denziloe,tdenziloeeu@homestead.com,Male\\n536,Cammie,Weeden,cweedenev@bloomberg.com,Male\\n537,Garry,Wasson,gwassonew@goodreads.com,Male\\n538,Anett,Berzen,aberzenex@vistaprint.com,Male\\n539,Fifine,Deware,fdewareey@meetup.com,Female\\n540,Dominik,Thurlbourne,dthurlbourneez@intel.com,Female\\n541,Frasquito,Tuting,ftutingf0@phoca.cz,Male\\n542,Brewster,Joret,bjoretf1@sourceforge.net,Male\\n543,Darell,Gallant,dgallantf2@seattletimes.com,Male\\n544,Kevina,Goulbourn,kgoulbournf3@icio.us,Male\\n545,Kylie,Stuckow,kstuckowf4@wordpress.com,Male\\n546,Lilah,Thoms,lthomsf5@biblegateway.com,Male\\n547,Jenifer,Fearick,jfearickf6@twitter.com,Female\\n548,Vitoria,Chauvey,vchauveyf7@t.co,Female\\n549,Benito,Limeburner,blimeburnerf8@examiner.com,Male\\n550,Janka,Warham,jwarhamf9@latimes.com,Female\\n551,Rosalynd,Cronshaw,rcronshawfa@marketwatch.com,Female\\n552,Melly,Hulle,mhullefb@4shared.com,Male\\n553,Brinn,Searson,bsearsonfc@g.co,Female\\n554,Gordy,Ablett,gablettfd@creativecommons.org,Female\\n555,Elie,Rishman,erishmanfe@comcast.net,Male\\n556,Joeann,Ivanets,jivanetsff@wikimedia.org,Male\\n557,Kristal,Dorey,kdoreyfg@unesco.org,Female\\n558,Coleen,Ciabatteri,cciabatterifh@businessweek.com,Female\\n559,Kittie,Brugemann,kbrugemannfi@xinhuanet.com,Female\\n560,Sigismond,Fransson,sfranssonfj@pinterest.com,Female\\n561,Linus,Borge,lborgefk@wp.com,Female\\n562,Charisse,Bees,cbeesfl@nih.gov,Male\\n563,Thorny,Fines,tfinesfm@economist.com,Female\\n564,Eulalie,Stroban,estrobanfn@bigcartel.com,Male\\n565,Westbrooke,Vanelli,wvanellifo@seesaa.net,Male\\n566,Tedra,Filoniere,tfilonierefp@macromedia.com,Female\\n567,Raddie,Jovicevic,rjovicevicfq@umich.edu,Male\\n568,Charlotta,Petera,cpeterafr@feedburner.com,Male\\n569,Lethia,Schaffel,lschaffelfs@paypal.com,Female\\n570,Leese,Paike,lpaikeft@sina.com.cn,Female\\n571,Sig,Dukes,sdukesfu@elpais.com,Male\\n572,Linus,Curcher,lcurcherfv@salon.com,Female\\n573,Caron,Goldstraw,cgoldstrawfw@addtoany.com,Male\\n574,Obed,Witton,owittonfx@cbc.ca,Female\\n575,Jedediah,Heggie,jheggiefy@sakura.ne.jp,Female\\n576,Merrill,Tant,mtantfz@google.co.jp,Male\\n577,Barbey,Brunon,bbrunong0@youku.com,Female\\n578,Brannon,Bramelt,bbrameltg1@purevolume.com,Male\\n579,Jaimie,McHan,jmchang2@hp.com,Male\\n580,Emmye,Smallridge,esmallridgeg3@slate.com,Male\\n581,Kiley,Ellam,kellamg4@berkeley.edu,Female\\n582,Egan,Spraggon,espraggong5@booking.com,Male\\n583,Leigh,Comazzo,lcomazzog6@networkadvertising.org,Male\\n584,Ricca,Storie,rstorieg7@surveymonkey.com,Female\\n585,Angel,Larrie,alarrieg8@narod.ru,Male\\n586,Allianora,Gomar,agomarg9@bandcamp.com,Male\\n587,Maurene,Singyard,msingyardga@deliciousdays.com,Female\\n588,Arleta,Heningam,aheningamgb@w3.org,Female\\n589,Aggi,McReidy,amcreidygc@nature.com,Male\\n590,Raffaello,Wandless,rwandlessgd@princeton.edu,Male\\n591,Iosep,Kendrick,ikendrickge@ihg.com,Female\\n592,Estelle,Meert,emeertgf@spiegel.de,Male\\n593,Roddie,Sharnock,rsharnockgg@paginegialle.it,Female\\n594,Sherwynd,Lauxmann,slauxmanngh@ca.gov,Female\\n595,Ambrosi,Labbet,alabbetgi@wp.com,Female\\n596,Keenan,Jacobsen,kjacobsengj@unc.edu,Female\\n597,Tim,Coster,tcostergk@jimdo.com,Male\\n598,Hoyt,Greenman,hgreenmangl@abc.net.au,Male\\n599,Maurene,Spanswick,mspanswickgm@naver.com,Female\\n600,Doug,Ellcock,dellcockgn@berkeley.edu,Male\\n601,Garnet,Land,glandgo@geocities.jp,Male\\n602,Morna,Manuely,mmanuelygp@nature.com,Male\\n603,Jemima,Ivkovic,jivkovicgq@example.com,Male\\n604,Lynn,Natalie,lnataliegr@microsoft.com,Female\\n605,Blanche,Fotherby,bfotherbygs@quantcast.com,Male\\n606,Bernie,Mizen,bmizengt@wufoo.com,Male\\n607,Anna-maria,Mariot,amariotgu@nba.com,Male\\n608,Dorie,Lars,dlarsgv@census.gov,Male\\n609,Gertrude,Hyland,ghylandgw@acquirethisname.com,Male\\n610,Esma,Claypole,eclaypolegx@boston.com,Female\\n611,Hillel,Brawley,hbrawleygy@oaic.gov.au,Female\\n612,Caesar,Skryne,cskrynegz@posterous.com,Female\\n613,Rozanne,Breedy,rbreedyh0@mozilla.org,Male\\n614,Stefa,Withey,switheyh1@webeden.co.uk,Male\\n615,Bridget,Feeley,bfeeleyh2@shareasale.com,Female\\n616,Ofilia,Laurence,olaurenceh3@paginegialle.it,Female\\n617,Lisetta,Sobieski,lsobieskih4@eepurl.com,Female\\n618,Jasen,Sales,jsalesh5@goodreads.com,Female\\n619,Chandler,Hastler,chastlerh6@cmu.edu,Female\\n620,Carolynn,Lydall,clydallh7@ning.com,Male\\n621,Corrie,Hacun,chacunh8@parallels.com,Female\\n622,Tonnie,Yeld,tyeldh9@blinklist.com,Female\\n623,Ainslee,Koene,akoeneha@msn.com,Female\\n624,Lancelot,Pinkerton,lpinkertonhb@prnewswire.com,Female\\n625,Joya,Kemshell,jkemshellhc@1688.com,Male\\n626,Cornelia,Ecles,cecleshd@zimbio.com,Female\\n627,Rivkah,Kelsall,rkelsallhe@1688.com,Female\\n628,Jefferey,Ablewhite,jablewhitehf@typepad.com,Female\\n629,Ardisj,Masding,amasdinghg@ucoz.com,Male\\n630,Jessalin,Forsaith,jforsaithhh@pinterest.com,Male\\n631,Patti,Allaker,pallakerhi@delicious.com,Male\\n632,Kristel,Loosley,kloosleyhj@ed.gov,Male\\n633,Nona,Lytell,nlytellhk@skype.com,Male\\n634,Arabel,Linnit,alinnithl@last.fm,Male\\n635,Layney,Proudler,lproudlerhm@home.pl,Male\\n636,Shell,Cobello,scobellohn@soundcloud.com,Female\\n637,Nicolis,Troughton,ntroughtonho@vkontakte.ru,Female\\n638,Rhody,Colombier,rcolombierhp@sphinn.com,Male\\n639,Finlay,Korf,fkorfhq@cbslocal.com,Male\\n640,Merrielle,Skittrell,mskittrellhr@blogs.com,Male\\n641,Maddy,Marder,mmarderhs@liveinternet.ru,Male\\n642,Bili,Dominka,bdominkaht@blogtalkradio.com,Female\\n643,Nelie,Petrik,npetrikhu@telegraph.co.uk,Male\\n644,Jerald,McCusker,jmccuskerhv@cornell.edu,Female\\n645,Annette,Feak,afeakhw@cmu.edu,Female\\n646,Park,Fairlem,pfairlemhx@whitehouse.gov,Female\\n647,Chiarra,Loxston,cloxstonhy@redcross.org,Female\\n648,Kelbee,Spedroni,kspedronihz@amazonaws.com,Female\\n649,Marybeth,Pennuzzi,mpennuzzii0@about.com,Male\\n650,Garik,Rollinshaw,grollinshawi1@purevolume.com,Female\\n651,Erinna,Schrir,eschriri2@hp.com,Male\\n652,Iggy,Gallihawk,igallihawki3@barnesandnoble.com,Male\\n653,Kearney,Shew,kshewi4@ustream.tv,Male\\n654,Rand,Soutter,rsoutteri5@scribd.com,Male\\n655,Mair,Orbon,morboni6@washington.edu,Female\\n656,Penn,Braganza,pbraganzai7@chron.com,Female\\n657,Kerrill,Eaden,keadeni8@feedburner.com,Male\\n658,Inger,Huitson,ihuitsoni9@e-recht24.de,Male\\n659,Hoebart,Tibbetts,htibbettsia@tamu.edu,Male\\n660,Sisile,Manilove,smaniloveib@quantcast.com,Female\\n661,Dan,Valentin,dvalentinic@google.com.au,Male\\n662,Gail,Critch,gcritchid@europa.eu,Male\\n663,Baxy,Whytock,bwhytockie@dyndns.org,Female\\n664,Ennis,Solano,esolanoif@msu.edu,Female\\n665,Garnette,Crutch,gcrutchig@xing.com,Female\\n666,Carlie,Freddi,cfreddiih@tinypic.com,Female\\n667,Lin,Iredale,liredaleii@multiply.com,Male\\n668,Marie-ann,Foston,mfostonij@gizmodo.com,Male\\n669,Zitella,Muselli,zmuselliik@hatena.ne.jp,Male\\n670,Rodina,Korneichuk,rkorneichukil@dion.ne.jp,Male\\n671,Phedra,Wenman,pwenmanim@paginegialle.it,Female\\n672,Maegan,Hannond,mhannondin@uol.com.br,Female\\n673,Gwennie,McCritchie,gmccritchieio@independent.co.uk,Male\\n674,Tanny,Kippie,tkippieip@technorati.com,Male\\n675,Minda,Trainer,mtraineriq@redcross.org,Female\\n676,Ollie,Bonwell,obonwellir@cocolog-nifty.com,Male\\n677,Gaynor,Mosley,gmosleyis@cafepress.com,Male\\n678,Arlin,Kenen,akenenit@google.nl,Male\\n679,Nelie,Spiteri,nspiteriiu@wordpress.org,Female\\n680,Guilbert,Alywin,galywiniv@house.gov,Female\\n681,Leeann,Woehler,lwoehleriw@xrea.com,Female\\n682,Merrielle,Klejin,mklejinix@deliciousdays.com,Female\\n683,Win,Gronav,wgronaviy@creativecommons.org,Male\\n684,Marion,Guyton,mguytoniz@utexas.edu,Male\\n685,Pepi,Bockmaster,pbockmasterj0@marriott.com,Male\\n686,Colan,O'Carmody,cocarmodyj1@ucla.edu,Male\\n687,Mattie,Cicetti,mcicettij2@mozilla.org,Female\\n688,Mirabella,Pasterfield,mpasterfieldj3@reddit.com,Male\\n689,Branden,Haster,bhasterj4@addthis.com,Male\\n690,Christabella,Drohan,cdrohanj5@go.com,Female\\n691,Valli,Gudge,vgudgej6@canalblog.com,Female\\n692,Doug,Brooke,dbrookej7@wired.com,Male\\n693,Melodie,Hubery,mhuberyj8@weebly.com,Male\\n694,Kandace,Cammock,kcammockj9@skype.com,Female\\n695,Fitzgerald,Mulqueeny,fmulqueenyja@state.gov,Male\\n696,Cristobal,Merryweather,cmerryweatherjb@apache.org,Male\\n697,Arnaldo,Sands-Allan,asandsallanjc@netvibes.com,Male\\n698,Boyd,Marsham,bmarshamjd@hao123.com,Female\\n699,Orlan,Bould,obouldje@infoseek.co.jp,Female\\n700,Jamil,Crosseland,jcrosselandjf@disqus.com,Female\\n701,Tina,Creagh,tcreaghjg@people.com.cn,Female\\n702,Tana,Penhearow,tpenhearowjh@goo.ne.jp,Female\\n703,Zonnya,Tyrwhitt,ztyrwhittji@hud.gov,Female\\n704,Algernon,Grcic,agrcicjj@livejournal.com,Male\\n705,Essy,Clewlowe,eclewlowejk@hubpages.com,Male\\n706,Ruben,Monkman,rmonkmanjl@sakura.ne.jp,Male\\n707,Remus,Hinkley,rhinkleyjm@ocn.ne.jp,Male\\n708,Boone,Scothern,bscothernjn@illinois.edu,Male\\n709,Levin,Crummie,lcrummiejo@biglobe.ne.jp,Female\\n710,Jae,Ockleshaw,jockleshawjp@prnewswire.com,Male\\n711,Sebastiano,Kubica,skubicajq@senate.gov,Female\\n712,Dinah,Fancet,dfancetjr@squidoo.com,Female\\n713,Blake,Souch,bsouchjs@bigcartel.com,Female\\n714,Wally,Stansby,wstansbyjt@naver.com,Female\\n715,Mariya,Starking,mstarkingju@bizjournals.com,Male\\n716,Winona,Ferrierio,wferrieriojv@salon.com,Male\\n717,Dre,O' Borne,dobornejw@techcrunch.com,Male\\n718,Weidar,Glencrosche,wglencroschejx@com.com,Female\\n719,Druci,Flanner,dflannerjy@freewebs.com,Female\\n720,Heddi,Keeltagh,hkeeltaghjz@bigcartel.com,Male\\n721,Linnea,Burberye,lburberyek0@weibo.com,Male\\n722,Isa,McTeer,imcteerk1@zimbio.com,Female\\n723,Suki,Roakes,sroakesk2@360.cn,Male\\n724,Cody,Nardoni,cnardonik3@businessweek.com,Female\\n725,Ashia,Panswick,apanswickk4@wp.com,Male\\n726,Helenka,Auguste,haugustek5@topsy.com,Male\\n727,Giustina,Baudou,gbaudouk6@digg.com,Male\\n728,Chantalle,Crandon,ccrandonk7@boston.com,Female\\n729,Zora,Blunt,zbluntk8@dot.gov,Female\\n730,Tye,Groome,tgroomek9@surveymonkey.com,Female\\n731,Sholom,Lyttle,slyttleka@goo.ne.jp,Female\\n732,Karleen,Blofeld,kblofeldkb@google.ru,Male\\n733,Odelinda,Corpe,ocorpekc@cloudflare.com,Female\\n734,Dode,Manners,dmannerskd@sfgate.com,Male\\n735,Bernardine,Ropkes,bropkeske@yale.edu,Female\\n736,Pietra,Acaster,pacasterkf@tripod.com,Male\\n737,Pauline,Scrase,pscrasekg@slate.com,Male\\n738,Cordey,Hatz,chatzkh@hao123.com,Male\\n739,Melisandra,Trippett,mtrippettki@histats.com,Female\\n740,Jere,Medlicott,jmedlicottkj@dion.ne.jp,Male\\n741,Ursula,Lally,ulallykk@bloglines.com,Male\\n742,Brunhilda,Keasey,bkeaseykl@chicagotribune.com,Female\\n743,Itch,Bahl,ibahlkm@weather.com,Female\\n744,Gael,Verry,gverrykn@slideshare.net,Male\\n745,Victor,Lenchenko,vlenchenkoko@virginia.edu,Male\\n746,Tailor,Ainger,taingerkp@sciencedirect.com,Male\\n747,Alana,Dudny,adudnykq@multiply.com,Female\\n748,Andonis,Tiebe,atiebekr@mayoclinic.com,Male\\n749,Chandal,Skehan,cskehanks@foxnews.com,Female\\n750,Aldric,Edghinn,aedghinnkt@imdb.com,Female\\n751,Antonie,Bakhrushkin,abakhrushkinku@com.com,Male\\n752,Brandy,Jamieson,bjamiesonkv@earthlink.net,Male\\n753,Josias,Oseman,josemankw@paginegialle.it,Female\\n754,Nadiya,Walne,nwalnekx@vimeo.com,Female\\n755,Bartholomeo,Egel,begelky@dailymotion.com,Male\\n756,Fanya,Comelli,fcomellikz@npr.org,Male\\n757,Woody,Runcie,wrunciel0@fotki.com,Male\\n758,Pooh,Worsnip,pworsnipl1@themeforest.net,Female\\n759,Aileen,Vennings,avenningsl2@fc2.com,Female\\n760,Abbott,Guilbert,aguilbertl3@hexun.com,Male\\n761,Mellisa,Oldroyd,moldroydl4@si.edu,Male\\n762,Berne,Coakley,bcoakleyl5@imageshack.us,Male\\n763,Garrik,Streat,gstreatl6@360.cn,Female\\n764,Luz,Plumm,lplumml7@yellowbook.com,Male\\n765,Nessie,Alfonsetti,nalfonsettil8@trellian.com,Male\\n766,Wolfy,Gibbonson,wgibbonsonl9@posterous.com,Male\\n767,Dermot,Minnis,dminnisla@reddit.com,Male\\n768,Dory,Axton,daxtonlb@prlog.org,Female\\n769,Dunc,Blewis,dblewislc@wired.com,Female\\n770,Burt,Teulier,bteulierld@discuz.net,Male\\n771,Kris,Hambridge,khambridgele@berkeley.edu,Female\\n772,Knox,Tuffs,ktuffslf@elpais.com,Female\\n773,Guntar,Cunniffe,gcunniffelg@yelp.com,Female\\n774,Stuart,Pargetter,spargetterlh@nydailynews.com,Male\\n775,Siouxie,Cranmore,scranmoreli@canalblog.com,Female\\n776,Jolene,Scanlon,jscanlonlj@ameblo.jp,Female\\n777,Wenda,Ungerecht,wungerechtlk@hugedomains.com,Male\\n778,Den,Tomney,dtomneyll@illinois.edu,Female\\n779,Kandy,Shurrocks,kshurrockslm@nyu.edu,Female\\n780,Nettle,Bonevant,nbonevantln@miitbeian.gov.cn,Male\\n781,Jordain,Mower,jmowerlo@boston.com,Female\\n782,Eveline,Organer,eorganerlp@dailymotion.com,Female\\n783,Mackenzie,Giabucci,mgiabuccilq@imgur.com,Female\\n784,Jared,Getty,jgettylr@baidu.com,Female\\n785,Chev,Leeds,cleedsls@delicious.com,Male\\n786,Merrel,Rosenbusch,mrosenbuschlt@nyu.edu,Male\\n787,Alejoa,Stoke,astokelu@printfriendly.com,Female\\n788,Koenraad,Farnorth,kfarnorthlv@microsoft.com,Male\\n789,Rafi,Powton,rpowtonlw@usgs.gov,Female\\n790,Colette,Johnsey,cjohnseylx@economist.com,Male\\n791,Vera,Babbe,vbabbely@vk.com,Male\\n792,Olin,Kinnerk,okinnerklz@shareasale.com,Female\\n793,Kasey,Tome,ktomem0@imdb.com,Female\\n794,Matty,Dreher,mdreherm1@histats.com,Female\\n795,Berne,Cartwight,bcartwightm2@intel.com,Female\\n796,Elaine,Burrells,eburrellsm3@scientificamerican.com,Female\\n797,Marcellus,Haggish,mhaggishm4@reverbnation.com,Male\\n798,Demott,Sweedland,dsweedlandm5@networkadvertising.org,Male\\n799,Alexa,Dressel,adresselm6@digg.com,Female\\n800,Audy,Trytsman,atrytsmanm7@guardian.co.uk,Male\\n801,Irwin,Underwood,iunderwoodm8@fda.gov,Female\\n802,Jens,Muzzillo,jmuzzillom9@gravatar.com,Female\\n803,Nicolette,Berney,nberneyma@pbs.org,Female\\n804,Vince,MacGahey,vmacgaheymb@economist.com,Female\\n805,Rourke,Shillitto,rshillittomc@ning.com,Male\\n806,Arda,Pester,apestermd@noaa.gov,Female\\n807,Jeddy,Waryk,jwarykme@delicious.com,Female\\n808,Shelagh,Sprigings,ssprigingsmf@chronoengine.com,Female\\n809,Selinda,Ethelstone,sethelstonemg@aol.com,Male\\n810,Davida,Dicks,ddicksmh@bing.com,Male\\n811,Melinda,Finci,mfincimi@senate.gov,Male\\n812,Enid,Godthaab,egodthaabmj@nyu.edu,Male\\n813,Alysia,Castelletti,acastellettimk@soup.io,Male\\n814,Leah,Syson,lsysonml@posterous.com,Female\\n815,Ketty,Perrinchief,kperrinchiefmm@reddit.com,Female\\n816,Hervey,Billie,hbilliemn@bandcamp.com,Female\\n817,Ruben,Kennsley,rkennsleymo@bandcamp.com,Male\\n818,Florella,Rossborough,frossboroughmp@geocities.com,Female\\n819,Antonio,Feldmus,afeldmusmq@ox.ac.uk,Female\\n820,Belvia,Nicklinson,bnicklinsonmr@photobucket.com,Male\\n821,Emily,Chattaway,echattawayms@flavors.me,Male\\n822,Gabriellia,Mowbray,gmowbraymt@indiatimes.com,Male\\n823,Morena,Lindro,mlindromu@yellowbook.com,Male\\n824,Ephrayim,Oslar,eoslarmv@cam.ac.uk,Female\\n825,Walther,Doman,wdomanmw@wiley.com,Male\\n826,Damaris,Toseland,dtoselandmx@i2i.jp,Female\\n827,Andriana,Dalzell,adalzellmy@ucla.edu,Male\\n828,Marcie,Lowre,mlowremz@salon.com,Female\\n829,Tedie,Broster,tbrostern0@hc360.com,Male\\n830,Aubree,Lamminam,alamminamn1@paypal.com,Female\\n831,Urbano,Wheater,uwheatern2@hibu.com,Female\\n832,Tabby,Farden,tfardenn3@nydailynews.com,Female\\n833,Pavlov,Quarry,pquarryn4@vk.com,Female\\n834,Nady,Rakes,nrakesn5@foxnews.com,Female\\n835,Deck,Judson,djudsonn6@google.de,Male\\n836,Thornie,Markwelley,tmarkwelleyn7@blinklist.com,Male\\n837,Sancho,Titchener,stitchenern8@desdev.cn,Female\\n838,Hugh,Arunowicz,harunowiczn9@people.com.cn,Female\\n839,Joete,Pigdon,jpigdonna@digg.com,Male\\n840,Ramon,Vicker,rvickernb@lycos.com,Male\\n841,Shelley,Sandeford,ssandefordnc@aol.com,Female\\n842,Bailey,Hyde-Chambers,bhydechambersnd@i2i.jp,Female\\n843,Paulie,Stevani,pstevanine@msn.com,Female\\n844,Stanislas,Behr,sbehrnf@msn.com,Male\\n845,Harrietta,Anselm,hanselmng@ucoz.ru,Female\\n846,Woodman,Lamlin,wlamlinnh@patch.com,Female\\n847,Rosa,Lowder,rlowderni@ocn.ne.jp,Female\\n848,Gallagher,Ronaldson,gronaldsonnj@fda.gov,Male\\n849,Eddy,Chaulk,echaulknk@sakura.ne.jp,Female\\n850,Ernaline,Copeman,ecopemannl@imdb.com,Male\\n851,Dareen,Glauber,dglaubernm@weibo.com,Male\\n852,Jarrod,Abrahamoff,jabrahamoffnn@techcrunch.com,Female\\n853,Bastian,Slides,bslidesno@usda.gov,Male\\n854,Chantal,Ikin,cikinnp@twitter.com,Male\\n855,Mathew,Dannel,mdannelnq@mozilla.com,Male\\n856,Myriam,Penner,mpennernr@scientificamerican.com,Female\\n857,Barret,Edland,bedlandns@sfgate.com,Female\\n858,Bondon,Freathy,bfreathynt@tinypic.com,Female\\n859,Mariejeanne,Fairham,mfairhamnu@google.de,Male\\n860,Zorana,Shillinglaw,zshillinglawnv@independent.co.uk,Male\\n861,Cyndia,Langmead,clangmeadnw@themeforest.net,Male\\n862,Evangelia,Cogan,ecogannx@aol.com,Male\\n863,Phylis,Malpass,pmalpassny@mapquest.com,Male\\n864,Durward,Pitbladdo,dpitbladdonz@google.ca,Male\\n865,Gale,Goggins,ggogginso0@wufoo.com,Female\\n866,Duky,Chsteney,dchsteneyo1@free.fr,Female\\n867,Forster,Mitchelson,fmitchelsono2@ustream.tv,Female\\n868,Zoe,Prin,zprino3@gov.uk,Male\\n869,Erhart,Duffy,eduffyo4@woothemes.com,Female\\n870,Selle,Berthon,sberthono5@canalblog.com,Male\\n871,Darsie,Conneau,dconneauo6@springer.com,Female\\n872,Teresa,Algar,talgaro7@clickbank.net,Female\\n873,Stevena,Harefoot,sharefooto8@taobao.com,Female\\n874,Maddie,Bibby,mbibbyo9@addtoany.com,Female\\n875,Olivia,Dripps,odrippsoa@barnesandnoble.com,Female\\n876,Eldredge,Moden,emodenob@toplist.cz,Male\\n877,Cammi,Vain,cvainoc@themeforest.net,Female\\n878,Saundra,Skalls,sskallsod@blogspot.com,Female\\n879,Chick,Bartos,cbartosoe@marriott.com,Female\\n880,Midge,Tomaszek,mtomaszekof@tuttocitta.it,Male\\n881,Shurlock,Bugdell,sbugdellog@privacy.gov.au,Female\\n882,Stephanus,Beavers,sbeaversoh@geocities.jp,Female\\n883,Annalise,Domican,adomicanoi@github.com,Male\\n884,Ellswerth,Edward,eedwardoj@theatlantic.com,Male\\n885,Leandra,Abate,labateok@lycos.com,Female\\n886,Serene,Camacke,scamackeol@ucoz.ru,Female\\n887,Kiah,Kahler,kkahlerom@delicious.com,Female\\n888,Mandel,Cardoso,mcardosoon@google.ca,Male\\n889,Tedmund,Rentoll,trentolloo@mapy.cz,Female\\n890,Daffi,Haseley,dhaseleyop@fema.gov,Male\\n891,Woodie,McCallion,wmccallionoq@blogtalkradio.com,Male\\n892,Niall,Bowling,nbowlingor@google.es,Female\\n893,Olimpia,Hansley,ohansleyos@wufoo.com,Female\\n894,Caro,Stroder,cstroderot@answers.com,Female\\n895,Janina,L'argent,jlargentou@house.gov,Male\\n896,Nikkie,Richarz,nricharzov@mtv.com,Male\\n897,Gabriell,Braz,gbrazow@flavors.me,Male\\n898,Tessy,Levin,tlevinox@mac.com,Female\\n899,Erin,Leaman,eleamanoy@newsvine.com,Male\\n900,Dulcinea,Langrish,dlangrishoz@dion.ne.jp,Female\\n901,Lorelei,Levesley,llevesleyp0@earthlink.net,Male\\n902,Marina,Croxley,mcroxleyp1@delicious.com,Female\\n903,Danya,Finessy,dfinessyp2@google.cn,Male\\n904,Dolorita,Wiggam,dwiggamp3@dailymotion.com,Female\\n905,Barn,Bowdery,bbowderyp4@clickbank.net,Female\\n906,Ban,Gatecliff,bgatecliffp5@statcounter.com,Male\\n907,Shem,Dummigan,sdummiganp6@earthlink.net,Male\\n908,Ellis,Ellerton,eellertonp7@theguardian.com,Male\\n909,Nikolas,Shortcliffe,nshortcliffep8@ask.com,Male\\n910,Jacinthe,Meier,jmeierp9@latimes.com,Female\\n911,Gerta,Droogan,gdrooganpa@lulu.com,Female\\n912,Alyda,Pinel,apinelpb@cdc.gov,Female\\n913,Ariel,Quipp,aquipppc@chronoengine.com,Male\\n914,Mickey,Shwenn,mshwennpd@weibo.com,Male\\n915,Chrotoem,Corkish,ccorkishpe@printfriendly.com,Male\\n916,Phip,Thorald,pthoraldpf@bbc.co.uk,Male\\n917,Tammie,Giuron,tgiuronpg@blogs.com,Male\\n918,Shea,Rappoport,srappoportph@craigslist.org,Male\\n919,Mickie,Sirett,msirettpi@constantcontact.com,Female\\n920,Mickie,Abriani,mabrianipj@guardian.co.uk,Male\\n921,Nance,Petrolli,npetrollipk@twitpic.com,Male\\n922,Tracey,Lown,tlownpl@topsy.com,Female\\n923,Neila,Damiata,ndamiatapm@hostgator.com,Male\\n924,Ethelind,Scarf,escarfpn@scientificamerican.com,Male\\n925,Marcille,Grelak,mgrelakpo@intel.com,Female\\n926,Zed,Bradd,zbraddpp@cdc.gov,Female\\n927,Gilberto,Pardon,gpardonpq@tinypic.com,Male\\n928,Spenser,Copley,scopleypr@constantcontact.com,Male\\n929,Sibylle,Wortt,sworttps@phpbb.com,Female\\n930,Kristo,Keith,kkeithpt@infoseek.co.jp,Male\\n931,Serena,Glasper,sglasperpu@salon.com,Male\\n932,Beau,Dederich,bdederichpv@sohu.com,Male\\n933,Stacy,Bartoszewski,sbartoszewskipw@yahoo.co.jp,Male\\n934,Mayer,Philpott,mphilpottpx@epa.gov,Female\\n935,Corella,Cornock,ccornockpy@wikispaces.com,Male\\n936,Godard,Rubinsohn,grubinsohnpz@symantec.com,Male\\n937,Luella,Jennaroy,ljennaroyq0@prlog.org,Female\\n938,Rosa,Shafto,rshaftoq1@redcross.org,Female\\n939,Lesli,Hatchell,lhatchellq2@senate.gov,Male\\n940,Alis,Worsalls,aworsallsq3@weebly.com,Female\\n941,Ganny,Pearle,gpearleq4@mlb.com,Male\\n942,Beret,Laughtisse,blaughtisseq5@goo.gl,Male\\n943,Dru,Sincock,dsincockq6@biblegateway.com,Male\\n944,Agnesse,Parrish,aparrishq7@thetimes.co.uk,Male\\n945,Ferrell,Espinos,fespinosq8@xinhuanet.com,Female\\n946,Robby,Alp,ralpq9@odnoklassniki.ru,Male\\n947,Latisha,Scarce,lscarceqa@51.la,Male\\n948,Bertina,Veillard,bveillardqb@yahoo.co.jp,Female\\n949,Kendre,Dudding,kduddingqc@altervista.org,Female\\n950,Luis,Riddich,lriddichqd@naver.com,Female\\n951,Abelard,Dangerfield,adangerfieldqe@cam.ac.uk,Female\\n952,Thibaut,Ferryman,tferrymanqf@oaic.gov.au,Male\\n953,Malorie,Allabarton,mallabartonqg@patch.com,Female\\n954,Cherye,Braley,cbraleyqh@nifty.com,Male\\n955,Justus,Drinkeld,jdrinkeldqi@unesco.org,Male\\n956,Harlen,Grisbrook,hgrisbrookqj@latimes.com,Male\\n957,Gretal,Natalie,gnatalieqk@theguardian.com,Male\\n958,Debbie,Trevillion,dtrevillionql@wunderground.com,Male\\n959,Kennith,Jossum,kjossumqm@upenn.edu,Male\\n960,Martainn,Filipchikov,mfilipchikovqn@un.org,Female\\n961,Juliana,Luckcock,jluckcockqo@hatena.ne.jp,Female\\n962,Claudelle,Antill,cantillqp@princeton.edu,Male\\n963,Fanechka,Morefield,fmorefieldqq@mozilla.com,Male\\n964,Koressa,Knevet,kknevetqr@nyu.edu,Female\\n965,Eugene,Cleary,eclearyqs@xing.com,Female\\n966,Tory,Schubbert,tschubbertqt@delicious.com,Female\\n967,Aridatha,Pinkard,apinkardqu@unblog.fr,Male\\n968,Cordi,Heephy,cheephyqv@mtv.com,Female\\n969,Christabella,Tremaine,ctremaineqw@cmu.edu,Male\\n970,Gussy,Dikels,gdikelsqx@admin.ch,Female\\n971,Georgianna,O'Halligan,gohalliganqy@cmu.edu,Male\\n972,Michaelina,Ghio,mghioqz@barnesandnoble.com,Male\\n973,Chicky,Thebeaud,cthebeaudr0@tmall.com,Female\\n974,Adelheid,Collings,acollingsr1@phoca.cz,Male\\n975,Wildon,Gouldstone,wgouldstoner2@noaa.gov,Female\\n976,Peter,Frohock,pfrohockr3@homestead.com,Male\\n977,Merwin,Schrinel,mschrinelr4@elpais.com,Female\\n978,Tim,Simakov,tsimakovr5@phoca.cz,Male\\n979,Darnell,Gildea,dgildear6@microsoft.com,Male\\n980,Fee,Alsobrook,falsobrookr7@ocn.ne.jp,Female\\n981,Manda,Mynott,mmynottr8@prnewswire.com,Male\\n982,Stephanus,O'Siaghail,sosiaghailr9@acquirethisname.com,Female\\n983,Mile,Beves,mbevesra@tinypic.com,Male\\n984,Shandeigh,Harg,shargrb@wikipedia.org,Female\\n985,Kerby,Hovie,khovierc@xrea.com,Female\\n986,Perle,Wilkes,pwilkesrd@sina.com.cn,Male\\n987,Wrennie,Hamner,whamnerre@cargocollective.com,Female\\n988,Esmaria,Jowsey,ejowseyrf@columbia.edu,Female\\n989,Terri-jo,McCane,tmccanerg@answers.com,Male\\n990,Lucienne,Aronov,laronovrh@w3.org,Female\\n991,Mano,Moors,mmoorsri@sfgate.com,Female\\n992,Vladamir,Haggleton,vhaggletonrj@jugem.jp,Female\\n993,Karina,Krelle,kkrellerk@yahoo.com,Male\\n994,Wylie,Plimmer,wplimmerrl@wikispaces.com,Male\\n995,Joli,Doughty,jdoughtyrm@naver.com,Female\\n996,Patsy,Drysdale,pdrysdalern@odnoklassniki.ru,Female\\n997,Winonah,Gealy,wgealyro@pinterest.com,Female\\n998,Gisella,Smartman,gsmartmanrp@amazon.co.uk,Male\\n999,Davon,Turland,dturlandrq@com.com,Male\\n1000,Arnuad,Marple,amarplerr@wsj.com,Female\\n''')"
   ]
  },
  {
   "cell_type": "code",
   "execution_count": 16,
   "id": "3fd93379-7a4f-48fa-9d35-6f1aa749cd1e",
   "metadata": {},
   "outputs": [
    {
     "data": {
      "text/html": [
       "<div>\n",
       "<style scoped>\n",
       "    .dataframe tbody tr th:only-of-type {\n",
       "        vertical-align: middle;\n",
       "    }\n",
       "\n",
       "    .dataframe tbody tr th {\n",
       "        vertical-align: top;\n",
       "    }\n",
       "\n",
       "    .dataframe thead th {\n",
       "        text-align: right;\n",
       "    }\n",
       "</style>\n",
       "<table border=\"1\" class=\"dataframe\">\n",
       "  <thead>\n",
       "    <tr style=\"text-align: right;\">\n",
       "      <th></th>\n",
       "      <th>id</th>\n",
       "      <th>first_name</th>\n",
       "      <th>last_name</th>\n",
       "      <th>email</th>\n",
       "      <th>gender</th>\n",
       "    </tr>\n",
       "  </thead>\n",
       "  <tbody>\n",
       "    <tr>\n",
       "      <th>542</th>\n",
       "      <td>543</td>\n",
       "      <td>Darell</td>\n",
       "      <td>Gallant</td>\n",
       "      <td>dgallantf2@seattletimes.com</td>\n",
       "      <td>Male</td>\n",
       "    </tr>\n",
       "    <tr>\n",
       "      <th>163</th>\n",
       "      <td>164</td>\n",
       "      <td>Brigham</td>\n",
       "      <td>Trenam</td>\n",
       "      <td>btrenam4j@quantcast.com</td>\n",
       "      <td>Female</td>\n",
       "    </tr>\n",
       "    <tr>\n",
       "      <th>911</th>\n",
       "      <td>912</td>\n",
       "      <td>Alyda</td>\n",
       "      <td>Pinel</td>\n",
       "      <td>apinelpb@cdc.gov</td>\n",
       "      <td>Female</td>\n",
       "    </tr>\n",
       "    <tr>\n",
       "      <th>650</th>\n",
       "      <td>651</td>\n",
       "      <td>Erinna</td>\n",
       "      <td>Schrir</td>\n",
       "      <td>eschriri2@hp.com</td>\n",
       "      <td>Male</td>\n",
       "    </tr>\n",
       "    <tr>\n",
       "      <th>291</th>\n",
       "      <td>292</td>\n",
       "      <td>Reeba</td>\n",
       "      <td>Beincken</td>\n",
       "      <td>rbeincken83@webs.com</td>\n",
       "      <td>Male</td>\n",
       "    </tr>\n",
       "  </tbody>\n",
       "</table>\n",
       "</div>"
      ],
      "text/plain": [
       "      id first_name last_name                        email  gender\n",
       "542  543     Darell   Gallant  dgallantf2@seattletimes.com    Male\n",
       "163  164    Brigham    Trenam      btrenam4j@quantcast.com  Female\n",
       "911  912      Alyda     Pinel             apinelpb@cdc.gov  Female\n",
       "650  651     Erinna    Schrir             eschriri2@hp.com    Male\n",
       "291  292      Reeba  Beincken         rbeincken83@webs.com    Male"
      ]
     },
     "execution_count": 16,
     "metadata": {},
     "output_type": "execute_result"
    }
   ],
   "source": [
    "df_data = pd.read_csv('test1.csv')\n",
    "df_data.sample(n=5)"
   ]
  },
  {
   "cell_type": "code",
   "execution_count": 21,
   "id": "3f968a33-0a4e-4ec9-a760-9b026266bed8",
   "metadata": {},
   "outputs": [
    {
     "name": "stdout",
     "output_type": "stream",
     "text": [
      "<class 'pandas.core.frame.DataFrame'>\n",
      "RangeIndex: 1000 entries, 0 to 999\n",
      "Data columns (total 5 columns):\n",
      " #   Column      Non-Null Count  Dtype \n",
      "---  ------      --------------  ----- \n",
      " 0   id          1000 non-null   int64 \n",
      " 1   first_name  1000 non-null   object\n",
      " 2   last_name   1000 non-null   object\n",
      " 3   email       1000 non-null   object\n",
      " 4   gender      1000 non-null   object\n",
      "dtypes: int64(1), object(4)\n",
      "memory usage: 39.2+ KB\n"
     ]
    }
   ],
   "source": [
    "df_data.info()"
   ]
  },
  {
   "cell_type": "markdown",
   "id": "93f6af38-5219-4b05-846d-d4273a64f086",
   "metadata": {},
   "source": [
    "# 4. Setup PySpark"
   ]
  },
  {
   "cell_type": "code",
   "execution_count": 22,
   "id": "ad2ac730-52c0-4f83-98a8-65e39277e6f5",
   "metadata": {},
   "outputs": [],
   "source": [
    "from pyspark.sql import SparkSession"
   ]
  },
  {
   "cell_type": "code",
   "execution_count": 23,
   "id": "6e3f0d7d-8d79-4655-b12b-d3c1f6316a1d",
   "metadata": {},
   "outputs": [
    {
     "name": "stderr",
     "output_type": "stream",
     "text": [
      "Setting default log level to \"WARN\".\n",
      "To adjust logging level use sc.setLogLevel(newLevel). For SparkR, use setLogLevel(newLevel).\n",
      "24/05/17 22:04:05 WARN NativeCodeLoader: Unable to load native-hadoop library for your platform... using builtin-java classes where applicable\n"
     ]
    },
    {
     "data": {
      "text/html": [
       "\n",
       "            <div>\n",
       "                <p><b>SparkSession - in-memory</b></p>\n",
       "                \n",
       "        <div>\n",
       "            <p><b>SparkContext</b></p>\n",
       "\n",
       "            <p><a href=\"http://fedora:4040\">Spark UI</a></p>\n",
       "\n",
       "            <dl>\n",
       "              <dt>Version</dt>\n",
       "                <dd><code>v3.5.1</code></dd>\n",
       "              <dt>Master</dt>\n",
       "                <dd><code>local[*]</code></dd>\n",
       "              <dt>AppName</dt>\n",
       "                <dd><code>Mockaroo</code></dd>\n",
       "            </dl>\n",
       "        </div>\n",
       "        \n",
       "            </div>\n",
       "        "
      ],
      "text/plain": [
       "<pyspark.sql.session.SparkSession at 0x7f8a75530a10>"
      ]
     },
     "execution_count": 23,
     "metadata": {},
     "output_type": "execute_result"
    },
    {
     "name": "stderr",
     "output_type": "stream",
     "text": [
      "24/05/17 22:04:22 WARN GarbageCollectionMetrics: To enable non-built-in garbage collector(s) List(G1 Concurrent GC), users should configure it(them) to spark.eventLog.gcMetrics.youngGenerationGarbageCollectors or spark.eventLog.gcMetrics.oldGenerationGarbageCollectors\n"
     ]
    }
   ],
   "source": [
    "spark = SparkSession.builder.appName('Mockaroo').getOrCreate()\n",
    "spark"
   ]
  },
  {
   "cell_type": "markdown",
   "id": "bc2f4ea0-81e5-48ad-b816-34682f51d15f",
   "metadata": {},
   "source": [
    "# 5. Load data using PySpark"
   ]
  },
  {
   "cell_type": "code",
   "execution_count": 57,
   "id": "018b9949-564e-44bc-bdb5-50eb93aa63b2",
   "metadata": {},
   "outputs": [
    {
     "name": "stdout",
     "output_type": "stream",
     "text": [
      "+---+----------+------------+--------------------+------+\n",
      "| id|first_name|   last_name|               email|gender|\n",
      "+---+----------+------------+--------------------+------+\n",
      "|  1|     Berni|      Livzey|   blivzey0@yelp.com|  Male|\n",
      "|  2|      Gill|   Shovelton|gshovelton1@spoti...|Female|\n",
      "|  3|    Gabbie|   Kleinbaum|gkleinbaum2@latim...|Female|\n",
      "|  4|   Yanaton|       Chipp|ychipp3@themefore...|  Male|\n",
      "|  5|     Bruce|    Fearnley|   bfearnley4@w3.org|  Male|\n",
      "|  6|     Misha|    Peasgood|mpeasgood5@facebo...|Female|\n",
      "|  7|  Kendrick|      Hearle|     khearle6@go.com|  Male|\n",
      "|  8|    Janeen|        Cram|     jcram7@ucla.edu|Female|\n",
      "|  9|   Devland|      Triggs|dtriggs8@ycombina...|  Male|\n",
      "| 10|       Dre|    Cammidge| dcammidge9@etsy.com|  Male|\n",
      "| 11|  Harmonia|     Akaster|hakastera@twitter...|Female|\n",
      "| 12|     Winna|     Goodday|   wgooddayb@free.fr|Female|\n",
      "| 13|    Lauryn|      Yearby|lyearbyc@amazonaw...|Female|\n",
      "| 14|      Gael|        Ship|  gshipd@storify.com|Female|\n",
      "| 15|  Reginald|     Birbeck|rbirbecke@skyrock...|  Male|\n",
      "| 16|      Shea|    Winspurr|swinspurrf@chron.com|Female|\n",
      "| 17|      June|   de Savery| jdesaveryg@cnet.com|  Male|\n",
      "| 18|     Abbey|Stollsteiner|astollsteinerh@sq...|Female|\n",
      "| 19|      Arda|       Berry| aberryi@nbcnews.com|  Male|\n",
      "| 20|    Mikael|      Ginger|  mgingerj@diigo.com|  Male|\n",
      "+---+----------+------------+--------------------+------+\n",
      "only showing top 20 rows\n",
      "\n"
     ]
    },
    {
     "data": {
      "text/plain": [
       "pyspark.sql.dataframe.DataFrame"
      ]
     },
     "execution_count": 57,
     "metadata": {},
     "output_type": "execute_result"
    }
   ],
   "source": [
    "df_spark = spark.read.csv(\n",
    "    path='test1.csv',\n",
    "    header=True,\n",
    "    inferSchema=True\n",
    ")\n",
    "df_spark.show()\n",
    "type(df_spark)"
   ]
  },
  {
   "cell_type": "code",
   "execution_count": 34,
   "id": "13c446b0-0a33-4485-b389-7fc0a4d963c0",
   "metadata": {},
   "outputs": [
    {
     "name": "stdout",
     "output_type": "stream",
     "text": [
      "root\n",
      " |-- id: integer (nullable = true)\n",
      " |-- first_name: string (nullable = true)\n",
      " |-- last_name: string (nullable = true)\n",
      " |-- email: string (nullable = true)\n",
      " |-- gender: string (nullable = true)\n",
      "\n"
     ]
    }
   ],
   "source": [
    "df_spark.printSchema()"
   ]
  },
  {
   "cell_type": "code",
   "execution_count": 35,
   "id": "f9aadb7c-c2c0-48f6-9a02-4a86ac584a9d",
   "metadata": {},
   "outputs": [
    {
     "data": {
      "text/plain": [
       "['id', 'first_name', 'last_name', 'email', 'gender']"
      ]
     },
     "execution_count": 35,
     "metadata": {},
     "output_type": "execute_result"
    }
   ],
   "source": [
    "df_spark.columns"
   ]
  },
  {
   "cell_type": "markdown",
   "id": "f1084e77-7d31-46db-b985-6c693bd1dbfe",
   "metadata": {},
   "source": [
    "# 6. PySpark Read Operations"
   ]
  },
  {
   "cell_type": "code",
   "execution_count": 45,
   "id": "0cad249b-500c-4a7c-96f0-14dfa3769029",
   "metadata": {},
   "outputs": [
    {
     "name": "stdout",
     "output_type": "stream",
     "text": [
      "+----------+\n",
      "|first_name|\n",
      "+----------+\n",
      "|     Berni|\n",
      "|      Gill|\n",
      "|    Gabbie|\n",
      "|   Yanaton|\n",
      "|     Bruce|\n",
      "|     Misha|\n",
      "|  Kendrick|\n",
      "|    Janeen|\n",
      "|   Devland|\n",
      "|       Dre|\n",
      "|  Harmonia|\n",
      "|     Winna|\n",
      "|    Lauryn|\n",
      "|      Gael|\n",
      "|  Reginald|\n",
      "|      Shea|\n",
      "|      June|\n",
      "|     Abbey|\n",
      "|      Arda|\n",
      "|    Mikael|\n",
      "+----------+\n",
      "only showing top 20 rows\n",
      "\n",
      "+----------+------------+\n",
      "|first_name|   last_name|\n",
      "+----------+------------+\n",
      "|     Berni|      Livzey|\n",
      "|      Gill|   Shovelton|\n",
      "|    Gabbie|   Kleinbaum|\n",
      "|   Yanaton|       Chipp|\n",
      "|     Bruce|    Fearnley|\n",
      "|     Misha|    Peasgood|\n",
      "|  Kendrick|      Hearle|\n",
      "|    Janeen|        Cram|\n",
      "|   Devland|      Triggs|\n",
      "|       Dre|    Cammidge|\n",
      "|  Harmonia|     Akaster|\n",
      "|     Winna|     Goodday|\n",
      "|    Lauryn|      Yearby|\n",
      "|      Gael|        Ship|\n",
      "|  Reginald|     Birbeck|\n",
      "|      Shea|    Winspurr|\n",
      "|      June|   de Savery|\n",
      "|     Abbey|Stollsteiner|\n",
      "|      Arda|       Berry|\n",
      "|    Mikael|      Ginger|\n",
      "+----------+------------+\n",
      "only showing top 20 rows\n",
      "\n"
     ]
    }
   ],
   "source": [
    "df_spark.select('first_name').show()\n",
    "df_spark.select(['first_name', 'last_name']).show()\n",
    "# df_spark['first_name'].show() # Error, cannot call show directly in column"
   ]
  },
  {
   "cell_type": "code",
   "execution_count": 46,
   "id": "293c2aa5-8c2a-403e-8d18-a261b9998147",
   "metadata": {},
   "outputs": [
    {
     "name": "stdout",
     "output_type": "stream",
     "text": [
      "+-------+-----------------+----------+---------+--------------------+------+\n",
      "|summary|               id|first_name|last_name|               email|gender|\n",
      "+-------+-----------------+----------+---------+--------------------+------+\n",
      "|  count|             1000|      1000|     1000|                1000|  1000|\n",
      "|   mean|            500.5|      NULL|     NULL|                NULL|  NULL|\n",
      "| stddev|288.8194360957494|      NULL|     NULL|                NULL|  NULL|\n",
      "|    min|                1|     Abbey|    Abate|aanearel@moonfrui...|Female|\n",
      "|    max|             1000|   Zsa zsa|de Savery| ztyrwhittji@hud.gov|  Male|\n",
      "+-------+-----------------+----------+---------+--------------------+------+\n",
      "\n"
     ]
    }
   ],
   "source": [
    "df_spark.describe().show()"
   ]
  },
  {
   "cell_type": "markdown",
   "id": "8d205c23-5d15-444c-9142-a1ea530b6864",
   "metadata": {},
   "source": [
    "# 7. PySpark Column Operations"
   ]
  },
  {
   "cell_type": "markdown",
   "id": "4aef5b08-b965-4622-85f4-2255e726443b",
   "metadata": {},
   "source": [
    "## 7.1. Get column (or create if not exists) and assign a value"
   ]
  },
  {
   "cell_type": "code",
   "execution_count": 58,
   "id": "8cd0c399-717f-4f89-8ee4-e7ea70d68ddf",
   "metadata": {},
   "outputs": [
    {
     "name": "stdout",
     "output_type": "stream",
     "text": [
      "+---+----------+------------+--------------------+------+---+\n",
      "| id|first_name|   last_name|               email|gender|age|\n",
      "+---+----------+------------+--------------------+------+---+\n",
      "|  1|     Berni|      Livzey|   blivzey0@yelp.com|  Male|  4|\n",
      "|  2|      Gill|   Shovelton|gshovelton1@spoti...|Female|  5|\n",
      "|  3|    Gabbie|   Kleinbaum|gkleinbaum2@latim...|Female|  6|\n",
      "|  4|   Yanaton|       Chipp|ychipp3@themefore...|  Male|  7|\n",
      "|  5|     Bruce|    Fearnley|   bfearnley4@w3.org|  Male|  8|\n",
      "|  6|     Misha|    Peasgood|mpeasgood5@facebo...|Female|  9|\n",
      "|  7|  Kendrick|      Hearle|     khearle6@go.com|  Male| 10|\n",
      "|  8|    Janeen|        Cram|     jcram7@ucla.edu|Female| 11|\n",
      "|  9|   Devland|      Triggs|dtriggs8@ycombina...|  Male| 12|\n",
      "| 10|       Dre|    Cammidge| dcammidge9@etsy.com|  Male| 13|\n",
      "| 11|  Harmonia|     Akaster|hakastera@twitter...|Female| 14|\n",
      "| 12|     Winna|     Goodday|   wgooddayb@free.fr|Female| 15|\n",
      "| 13|    Lauryn|      Yearby|lyearbyc@amazonaw...|Female| 16|\n",
      "| 14|      Gael|        Ship|  gshipd@storify.com|Female| 17|\n",
      "| 15|  Reginald|     Birbeck|rbirbecke@skyrock...|  Male| 18|\n",
      "| 16|      Shea|    Winspurr|swinspurrf@chron.com|Female| 19|\n",
      "| 17|      June|   de Savery| jdesaveryg@cnet.com|  Male| 20|\n",
      "| 18|     Abbey|Stollsteiner|astollsteinerh@sq...|Female| 21|\n",
      "| 19|      Arda|       Berry| aberryi@nbcnews.com|  Male| 22|\n",
      "| 20|    Mikael|      Ginger|  mgingerj@diigo.com|  Male| 23|\n",
      "+---+----------+------------+--------------------+------+---+\n",
      "only showing top 20 rows\n",
      "\n"
     ]
    }
   ],
   "source": [
    "df_spark = df_spark.withColumn('age', df_spark['id']+3)\n",
    "df_spark.show()"
   ]
  },
  {
   "cell_type": "markdown",
   "id": "25277c53-20be-4d4d-a7dc-53819a5499d0",
   "metadata": {},
   "source": [
    "## 7.2. Drop column(s)"
   ]
  },
  {
   "cell_type": "code",
   "execution_count": 59,
   "id": "337d1372-2726-4666-ad30-9a899269640b",
   "metadata": {},
   "outputs": [
    {
     "name": "stdout",
     "output_type": "stream",
     "text": [
      "+---+----------+------------+---+\n",
      "| id|first_name|   last_name|age|\n",
      "+---+----------+------------+---+\n",
      "|  1|     Berni|      Livzey|  4|\n",
      "|  2|      Gill|   Shovelton|  5|\n",
      "|  3|    Gabbie|   Kleinbaum|  6|\n",
      "|  4|   Yanaton|       Chipp|  7|\n",
      "|  5|     Bruce|    Fearnley|  8|\n",
      "|  6|     Misha|    Peasgood|  9|\n",
      "|  7|  Kendrick|      Hearle| 10|\n",
      "|  8|    Janeen|        Cram| 11|\n",
      "|  9|   Devland|      Triggs| 12|\n",
      "| 10|       Dre|    Cammidge| 13|\n",
      "| 11|  Harmonia|     Akaster| 14|\n",
      "| 12|     Winna|     Goodday| 15|\n",
      "| 13|    Lauryn|      Yearby| 16|\n",
      "| 14|      Gael|        Ship| 17|\n",
      "| 15|  Reginald|     Birbeck| 18|\n",
      "| 16|      Shea|    Winspurr| 19|\n",
      "| 17|      June|   de Savery| 20|\n",
      "| 18|     Abbey|Stollsteiner| 21|\n",
      "| 19|      Arda|       Berry| 22|\n",
      "| 20|    Mikael|      Ginger| 23|\n",
      "+---+----------+------------+---+\n",
      "only showing top 20 rows\n",
      "\n"
     ]
    }
   ],
   "source": [
    "df_spark = df_spark.drop('email', 'gender')\n",
    "df_spark.show()"
   ]
  },
  {
   "cell_type": "markdown",
   "id": "5dab2bc8-e68c-488b-898c-0813b0002869",
   "metadata": {},
   "source": [
    "## 7.3. Rename column"
   ]
  },
  {
   "cell_type": "code",
   "execution_count": 60,
   "id": "038a04e1-d782-48a7-87bc-a9059ec857a1",
   "metadata": {},
   "outputs": [
    {
     "name": "stdout",
     "output_type": "stream",
     "text": [
      "+---+----------+------------+-----------------+\n",
      "| id|first_name|   last_name|years_since_birth|\n",
      "+---+----------+------------+-----------------+\n",
      "|  1|     Berni|      Livzey|                4|\n",
      "|  2|      Gill|   Shovelton|                5|\n",
      "|  3|    Gabbie|   Kleinbaum|                6|\n",
      "|  4|   Yanaton|       Chipp|                7|\n",
      "|  5|     Bruce|    Fearnley|                8|\n",
      "|  6|     Misha|    Peasgood|                9|\n",
      "|  7|  Kendrick|      Hearle|               10|\n",
      "|  8|    Janeen|        Cram|               11|\n",
      "|  9|   Devland|      Triggs|               12|\n",
      "| 10|       Dre|    Cammidge|               13|\n",
      "| 11|  Harmonia|     Akaster|               14|\n",
      "| 12|     Winna|     Goodday|               15|\n",
      "| 13|    Lauryn|      Yearby|               16|\n",
      "| 14|      Gael|        Ship|               17|\n",
      "| 15|  Reginald|     Birbeck|               18|\n",
      "| 16|      Shea|    Winspurr|               19|\n",
      "| 17|      June|   de Savery|               20|\n",
      "| 18|     Abbey|Stollsteiner|               21|\n",
      "| 19|      Arda|       Berry|               22|\n",
      "| 20|    Mikael|      Ginger|               23|\n",
      "+---+----------+------------+-----------------+\n",
      "only showing top 20 rows\n",
      "\n"
     ]
    }
   ],
   "source": [
    "df_spark = df_spark.withColumnRenamed('age', 'years_since_birth')\n",
    "df_spark.show()"
   ]
  }
 ],
 "metadata": {
  "kernelspec": {
   "display_name": "Python 3 (ipykernel)",
   "language": "python",
   "name": "python3"
  },
  "language_info": {
   "codemirror_mode": {
    "name": "ipython",
    "version": 3
   },
   "file_extension": ".py",
   "mimetype": "text/x-python",
   "name": "python",
   "nbconvert_exporter": "python",
   "pygments_lexer": "ipython3",
   "version": "3.12.3"
  }
 },
 "nbformat": 4,
 "nbformat_minor": 5
}
