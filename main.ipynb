{
 "cells": [
  {
   "cell_type": "markdown",
   "id": "da0b6b3a-7a46-4d8a-8dd5-b2a5dae73aa0",
   "metadata": {},
   "source": [
    "# 1. Setup dependencies"
   ]
  },
  {
   "cell_type": "code",
   "execution_count": 1,
   "id": "96c069b1-3f0c-4e9e-a5fe-dbd66419bf2c",
   "metadata": {},
   "outputs": [
    {
     "name": "stdout",
     "output_type": "stream",
     "text": [
      "Requirement already satisfied: pyspark in ./venv/lib64/python3.12/site-packages (3.5.1)\n",
      "Requirement already satisfied: pandas in ./venv/lib64/python3.12/site-packages (2.2.2)\n",
      "Requirement already satisfied: py4j==0.10.9.7 in ./venv/lib64/python3.12/site-packages (from pyspark) (0.10.9.7)\n",
      "Requirement already satisfied: numpy>=1.26.0 in ./venv/lib64/python3.12/site-packages (from pandas) (1.26.4)\n",
      "Requirement already satisfied: python-dateutil>=2.8.2 in ./venv/lib64/python3.12/site-packages (from pandas) (2.9.0.post0)\n",
      "Requirement already satisfied: pytz>=2020.1 in ./venv/lib64/python3.12/site-packages (from pandas) (2024.1)\n",
      "Requirement already satisfied: tzdata>=2022.7 in ./venv/lib64/python3.12/site-packages (from pandas) (2024.1)\n",
      "Requirement already satisfied: six>=1.5 in ./venv/lib64/python3.12/site-packages (from python-dateutil>=2.8.2->pandas) (1.16.0)\n",
      "\n",
      "\u001b[1m[\u001b[0m\u001b[34;49mnotice\u001b[0m\u001b[1;39;49m]\u001b[0m\u001b[39;49m A new release of pip is available: \u001b[0m\u001b[31;49m23.3.2\u001b[0m\u001b[39;49m -> \u001b[0m\u001b[32;49m24.0\u001b[0m\n",
      "\u001b[1m[\u001b[0m\u001b[34;49mnotice\u001b[0m\u001b[1;39;49m]\u001b[0m\u001b[39;49m To update, run: \u001b[0m\u001b[32;49mpip install --upgrade pip\u001b[0m\n"
     ]
    }
   ],
   "source": [
    "!pip install \\\n",
    "    pyspark \\\n",
    "    pandas"
   ]
  },
  {
   "cell_type": "markdown",
   "id": "8618db22-8cb4-4975-8c07-cd1ca99c3e8e",
   "metadata": {},
   "source": [
    "# 2. Imports"
   ]
  },
  {
   "cell_type": "code",
   "execution_count": 2,
   "id": "9a209f8c-35ce-4b99-ba77-82b3da16918c",
   "metadata": {},
   "outputs": [],
   "source": [
    "import pyspark\n",
    "import pandas as pd"
   ]
  },
  {
   "cell_type": "markdown",
   "id": "bb42e1e5-b8fb-42b2-88b5-2cba8120ab9e",
   "metadata": {},
   "source": [
    "# 3. Setup test1.csv data"
   ]
  },
  {
   "cell_type": "code",
   "execution_count": 3,
   "id": "40f3fbff-fb76-4cdf-9e24-87c3f0ed1e30",
   "metadata": {},
   "outputs": [],
   "source": [
    "# Created using Mockaroo\n",
    "with open('test1.csv', mode='w') as f:\n",
    "    f.write('''id,first_name,last_name,email,gender\\n1,Berni,Livzey,blivzey0@yelp.com,Male\\n2,Gill,Shovelton,gshovelton1@spotify.com,Female\\n3,Gabbie,Kleinbaum,gkleinbaum2@latimes.com,Female\\n4,Yanaton,Chipp,ychipp3@themeforest.net,Male\\n5,Bruce,Fearnley,bfearnley4@w3.org,Male\\n6,Misha,Peasgood,mpeasgood5@facebook.com,Female\\n7,Kendrick,Hearle,khearle6@go.com,Male\\n8,Janeen,Cram,jcram7@ucla.edu,Female\\n9,Devland,Triggs,dtriggs8@ycombinator.com,Male\\n10,Dre,Cammidge,dcammidge9@etsy.com,Male\\n11,Harmonia,Akaster,hakastera@twitter.com,Female\\n12,Winna,Goodday,wgooddayb@free.fr,Female\\n13,Lauryn,Yearby,lyearbyc@amazonaws.com,Female\\n14,Gael,Ship,gshipd@storify.com,Female\\n15,Reginald,Birbeck,rbirbecke@skyrock.com,Male\\n16,Shea,Winspurr,swinspurrf@chron.com,Female\\n17,June,de Savery,jdesaveryg@cnet.com,Male\\n18,Abbey,Stollsteiner,astollsteinerh@squarespace.com,Female\\n19,Arda,Berry,aberryi@nbcnews.com,Male\\n20,Mikael,Ginger,mgingerj@diigo.com,Male\\n21,Saidee,Blackborow,sblackborowk@alibaba.com,Female\\n22,Lucretia,Paolone,lpaolonel@cisco.com,Female\\n23,Jasun,Friend,jfriendm@tinyurl.com,Male\\n24,Udell,Haxley,uhaxleyn@rediff.com,Male\\n25,Mickie,Chritchlow,mchritchlowo@edublogs.org,Male\\n26,Binnie,Brislan,bbrislanp@exblog.jp,Female\\n27,Bogart,Sparsholt,bsparsholtq@npr.org,Male\\n28,Mead,Baggs,mbaggsr@free.fr,Male\\n29,Chrissy,Kollatsch,ckollatschs@yolasite.com,Male\\n30,Sofia,Luckes,sluckest@engadget.com,Male\\n31,Pauletta,Corkhill,pcorkhillu@engadget.com,Male\\n32,Rori,Tregale,rtregalev@uol.com.br,Female\\n33,Clovis,Sheaf,csheafw@netlog.com,Male\\n34,Maynard,Bowles,mbowlesx@ted.com,Female\\n35,Fionna,Klazenga,fklazengay@zdnet.com,Female\\n36,Mel,Quene,mquenez@upenn.edu,Female\\n37,Kristofor,Grinnell,kgrinnell10@illinois.edu,Male\\n38,Jedediah,Snape,jsnape11@cornell.edu,Male\\n39,Josephina,Carvill,jcarvill12@jalbum.net,Female\\n40,Tomlin,Buckby,tbuckby13@list-manage.com,Male\\n41,Pammy,Hourahan,phourahan14@weather.com,Female\\n42,Evyn,Avrashin,eavrashin15@ucla.edu,Male\\n43,Ilka,Lowrance,ilowrance16@ucla.edu,Female\\n44,Ludwig,Twinbourne,ltwinbourne17@sciencedaily.com,Male\\n45,Franny,Dobrowski,fdobrowski18@slate.com,Male\\n46,Ada,Daye,adaye19@ebay.co.uk,Female\\n47,Deedee,Kiellor,dkiellor1a@hc360.com,Female\\n48,Athene,Garfield,agarfield1b@google.es,Male\\n49,Gweneth,De Avenell,gdeavenell1c@columbia.edu,Male\\n50,Malina,Bocking,mbocking1d@amazonaws.com,Female\\n51,Burty,Kenealy,bkenealy1e@google.com.hk,Female\\n52,Garreth,Coulter,gcoulter1f@mysql.com,Female\\n53,Jaimie,Karby,jkarby1g@4shared.com,Female\\n54,Barbara,Rizziello,brizziello1h@umn.edu,Female\\n55,Ainslee,Mungham,amungham1i@time.com,Male\\n56,Robinetta,Domenget,rdomenget1j@gov.uk,Female\\n57,Aldwin,Kytley,akytley1k@si.edu,Female\\n58,Addia,Dargie,adargie1l@vk.com,Female\\n59,Arvin,Tilt,atilt1m@shinystat.com,Female\\n60,Pia,Carillo,pcarillo1n@ebay.co.uk,Female\\n61,Ferdinande,Kiehl,fkiehl1o@house.gov,Female\\n62,Crista,McCollum,cmccollum1p@adobe.com,Female\\n63,Gunther,Hurdis,ghurdis1q@360.cn,Male\\n64,Corey,Feldharker,cfeldharker1r@quantcast.com,Male\\n65,Gay,Fergie,gfergie1s@vk.com,Female\\n66,Ingemar,Tomsen,itomsen1t@1688.com,Female\\n67,Sydel,Godbert,sgodbert1u@fda.gov,Female\\n68,Steffi,Pesek,spesek1v@amazon.com,Female\\n69,Thorn,Moors,tmoors1w@merriam-webster.com,Female\\n70,Lisle,Rouchy,lrouchy1x@facebook.com,Male\\n71,Lilli,Suthworth,lsuthworth1y@ifeng.com,Female\\n72,Josefina,Hanner,jhanner1z@github.com,Male\\n73,Shermie,O'Flaherty,soflaherty20@rediff.com,Female\\n74,Odille,Durling,odurling21@youtube.com,Male\\n75,Ivan,Orta,iorta22@omniture.com,Male\\n76,Fons,Bum,fbum23@arizona.edu,Female\\n77,Eldredge,Baughan,ebaughan24@usgs.gov,Female\\n78,Rem,Dungee,rdungee25@wsj.com,Female\\n79,Ingar,Ginni,iginni26@house.gov,Male\\n80,Kerry,Preston,kpreston27@cpanel.net,Female\\n81,Pennie,Demko,pdemko28@diigo.com,Male\\n82,Isacco,Camsey,icamsey29@cdc.gov,Male\\n83,Turner,Alfwy,talfwy2a@tamu.edu,Male\\n84,Raquela,Persich,rpersich2b@163.com,Male\\n85,Kylie,Kilfeather,kkilfeather2c@nps.gov,Female\\n86,Dmitri,Suller,dsuller2d@cdc.gov,Male\\n87,Darbie,Rosier,drosier2e@usa.gov,Male\\n88,Anny,Headly,aheadly2f@reddit.com,Male\\n89,Kassey,Uttridge,kuttridge2g@altervista.org,Male\\n90,Lindsay,Boylund,lboylund2h@netvibes.com,Male\\n91,Jeniffer,Graeme,jgraeme2i@cmu.edu,Female\\n92,Tobiah,Henner,thenner2j@cafepress.com,Male\\n93,Hastie,Klimczak,hklimczak2k@dell.com,Male\\n94,Cullen,Brekonridge,cbrekonridge2l@stumbleupon.com,Female\\n95,Hartley,Emlen,hemlen2m@gnu.org,Male\\n96,Sean,Simka,ssimka2n@intel.com,Male\\n97,Adriane,Bakewell,abakewell2o@cdbaby.com,Female\\n98,Rocky,Hunting,rhunting2p@bravesites.com,Male\\n99,Farris,Bertelsen,fbertelsen2q@uiuc.edu,Male\\n100,Florrie,Tomaini,ftomaini2r@google.com.hk,Male\\n101,Brent,Ranger,branger2s@comcast.net,Female\\n102,Osmund,Dowry,odowry2t@macromedia.com,Male\\n103,Candice,Akred,cakred2u@businessinsider.com,Male\\n104,Berky,Vasilenko,bvasilenko2v@pinterest.com,Female\\n105,Appolonia,Norcliff,anorcliff2w@ucoz.com,Female\\n106,Rolph,Johnstone,rjohnstone2x@ucla.edu,Female\\n107,Wilona,Brumhead,wbrumhead2y@ow.ly,Female\\n108,Georgiana,Kumaar,gkumaar2z@marketwatch.com,Male\\n109,Vinita,MacKissack,vmackissack30@weather.com,Female\\n110,Caria,Faier,cfaier31@prlog.org,Male\\n111,Robinetta,Cater,rcater32@storify.com,Male\\n112,Kirsten,Curgenuer,kcurgenuer33@examiner.com,Male\\n113,Simeon,Creelman,screelman34@thetimes.co.uk,Female\\n114,Callida,Treneer,ctreneer35@mozilla.org,Male\\n115,Evered,Klossek,eklossek36@psu.edu,Female\\n116,Waldon,Cordell,wcordell37@twitpic.com,Female\\n117,Karoly,Hrachovec,khrachovec38@123-reg.co.uk,Female\\n118,Trstram,Tapton,ttapton39@kickstarter.com,Male\\n119,Celeste,Etchell,cetchell3a@naver.com,Male\\n120,Delila,Causbey,dcausbey3b@hubpages.com,Female\\n121,Helaine,Hallor,hhallor3c@stumbleupon.com,Female\\n122,Marys,Tatnell,mtatnell3d@ibm.com,Female\\n123,Sapphira,Elleton,selleton3e@indiegogo.com,Female\\n124,Seymour,Foro,sforo3f@geocities.jp,Female\\n125,Vivianne,Duligall,vduligall3g@parallels.com,Male\\n126,Malinde,Lovering,mlovering3h@wufoo.com,Male\\n127,Estel,Georgot,egeorgot3i@cdbaby.com,Female\\n128,Caye,Swinerd,cswinerd3j@acquirethisname.com,Male\\n129,Amandi,Palister,apalister3k@360.cn,Female\\n130,Perry,Raspin,praspin3l@state.gov,Female\\n131,Jenelle,Pynner,jpynner3m@ow.ly,Female\\n132,Brigit,Funcheon,bfuncheon3n@mayoclinic.com,Female\\n133,Wiley,Skellorne,wskellorne3o@reddit.com,Male\\n134,Virginia,Reinbach,vreinbach3p@1688.com,Male\\n135,Vergil,Tomaszkiewicz,vtomaszkiewicz3q@chicagotribune.com,Female\\n136,Nancey,Bussetti,nbussetti3r@spotify.com,Female\\n137,Tonye,De Gregoli,tdegregoli3s@imgur.com,Female\\n138,Pauly,Domican,pdomican3t@fotki.com,Female\\n139,Erek,Hambly,ehambly3u@answers.com,Male\\n140,Keelby,Argile,kargile3v@spiegel.de,Female\\n141,Leonelle,Cornforth,lcornforth3w@apache.org,Male\\n142,Elden,Talby,etalby3x@newsvine.com,Male\\n143,Normy,Pierton,npierton3y@discovery.com,Male\\n144,Carola,Tilling,ctilling3z@discuz.net,Female\\n145,Winnifred,Gomar,wgomar40@mit.edu,Female\\n146,Augustus,Macquire,amacquire41@mail.ru,Female\\n147,Nevin,Grenfell,ngrenfell42@geocities.jp,Female\\n148,Magnum,Castro,mcastro43@ca.gov,Female\\n149,Diane,Gandy,dgandy44@linkedin.com,Male\\n150,Tessa,Purrington,tpurrington45@businesswire.com,Male\\n151,Felizio,Clampton,fclampton46@prlog.org,Female\\n152,Bird,Rapson,brapson47@npr.org,Female\\n153,Susie,Talton,stalton48@shutterfly.com,Male\\n154,Haley,Lidgertwood,hlidgertwood49@newsvine.com,Female\\n155,Lurlene,Schettini,lschettini4a@geocities.jp,Male\\n156,Ross,Dollimore,rdollimore4b@drupal.org,Female\\n157,Katherine,Brewitt,kbrewitt4c@jalbum.net,Female\\n158,Tate,Lattka,tlattka4d@canalblog.com,Female\\n159,Joanie,McAndie,jmcandie4e@booking.com,Male\\n160,Tiphany,Ayer,tayer4f@bravesites.com,Female\\n161,Tann,Tuiller,ttuiller4g@theglobeandmail.com,Male\\n162,Roscoe,Murden,rmurden4h@wisc.edu,Female\\n163,Krispin,Janaszewski,kjanaszewski4i@t.co,Female\\n164,Brigham,Trenam,btrenam4j@quantcast.com,Female\\n165,Alleen,Rodders,arodders4k@arstechnica.com,Female\\n166,Jennie,Mulholland,jmulholland4l@bing.com,Female\\n167,Francoise,Yitshak,fyitshak4m@blinklist.com,Male\\n168,Zack,Helsby,zhelsby4n@rambler.ru,Male\\n169,Nikki,Petit,npetit4o@t.co,Female\\n170,Holt,Helliker,hhelliker4p@ask.com,Female\\n171,Sherlock,Philcott,sphilcott4q@admin.ch,Male\\n172,Clevey,Drinkhall,cdrinkhall4r@sogou.com,Male\\n173,Paul,Crosser,pcrosser4s@dot.gov,Female\\n174,Garik,Mum,gmum4t@house.gov,Female\\n175,Cloris,Rosevear,crosevear4u@google.es,Male\\n176,Tedman,Demelt,tdemelt4v@scientificamerican.com,Male\\n177,Dav,Griffe,dgriffe4w@google.nl,Male\\n178,Kelcy,Deaton,kdeaton4x@sciencedaily.com,Female\\n179,Karly,Hawsby,khawsby4y@google.de,Male\\n180,Reinwald,Acom,racom4z@marketwatch.com,Female\\n181,Rayna,Routh,rrouth50@deviantart.com,Female\\n182,Alic,Bryers,abryers51@cbslocal.com,Female\\n183,Thatcher,Cawdery,tcawdery52@dell.com,Male\\n184,Roxana,Turford,rturford53@theatlantic.com,Female\\n185,Hyman,Gauge,hgauge54@delicious.com,Female\\n186,Les,Giovannoni,lgiovannoni55@nsw.gov.au,Female\\n187,Cherey,Tassell,ctassell56@whitehouse.gov,Male\\n188,Hulda,Ormiston,hormiston57@dropbox.com,Male\\n189,Astrix,Mishow,amishow58@uol.com.br,Female\\n190,Melodee,Toner,mtoner59@state.tx.us,Female\\n191,Johnette,Bradwell,jbradwell5a@springer.com,Female\\n192,Theodosia,Kennler,tkennler5b@plala.or.jp,Female\\n193,Janka,Gheorghie,jgheorghie5c@si.edu,Female\\n194,Cam,Wetherald,cwetherald5d@google.pl,Male\\n195,Richmound,Sudron,rsudron5e@behance.net,Female\\n196,Magda,MacKimm,mmackimm5f@ocn.ne.jp,Male\\n197,Ryan,Hutchens,rhutchens5g@shop-pro.jp,Female\\n198,Mose,Comberbach,mcomberbach5h@intel.com,Male\\n199,Addison,Porte,aporte5i@indiegogo.com,Female\\n200,Hazlett,Belfitt,hbelfitt5j@xing.com,Female\\n201,Dannie,Joselovitch,djoselovitch5k@nasa.gov,Female\\n202,Angele,Jermey,ajermey5l@instagram.com,Male\\n203,Ketty,Knight,kknight5m@miitbeian.gov.cn,Male\\n204,Bartholomeus,Apfelmann,bapfelmann5n@amazon.co.uk,Female\\n205,Orel,Mayers,omayers5o@europa.eu,Male\\n206,Culley,Ibel,cibel5p@nps.gov,Female\\n207,Reid,Shackel,rshackel5q@unicef.org,Male\\n208,Filippa,Grelak,fgrelak5r@bigcartel.com,Female\\n209,Dorice,Josifovic,djosifovic5s@mac.com,Male\\n210,Anne,Herrieven,aherrieven5t@vkontakte.ru,Female\\n211,Berni,Bagguley,bbagguley5u@eventbrite.com,Male\\n212,Cornall,Godfery,cgodfery5v@ca.gov,Female\\n213,Gelya,Forestall,gforestall5w@storify.com,Female\\n214,Ryley,Enston,renston5x@fotki.com,Female\\n215,Heida,Hedge,hhedge5y@drupal.org,Male\\n216,Townsend,Nansom,tnansom5z@usa.gov,Male\\n217,Vanni,Ashfield,vashfield60@domainmarket.com,Male\\n218,Bernita,Spaldin,bspaldin61@ftc.gov,Male\\n219,Sylvia,Menichi,smenichi62@independent.co.uk,Male\\n220,Lefty,Ravilious,lravilious63@cisco.com,Male\\n221,Irita,Norster,inorster64@google.de,Female\\n222,Teddie,Renak,trenak65@cisco.com,Male\\n223,Loree,Norquay,lnorquay66@dailymotion.com,Female\\n224,Sinclair,Nelthrop,snelthrop67@cam.ac.uk,Male\\n225,Sheeree,Bourdel,sbourdel68@blogs.com,Male\\n226,Jackelyn,Maycock,jmaycock69@cam.ac.uk,Female\\n227,Piggy,Leban,pleban6a@mediafire.com,Male\\n228,Dinah,Feeney,dfeeney6b@arstechnica.com,Female\\n229,Kelley,Merrin,kmerrin6c@cargocollective.com,Female\\n230,Lyndsay,Aronin,laronin6d@salon.com,Female\\n231,Corissa,Faircliff,cfaircliff6e@sogou.com,Male\\n232,Myrvyn,Brain,mbrain6f@yelp.com,Male\\n233,Harv,Georgescu,hgeorgescu6g@shareasale.com,Female\\n234,Mariska,Bogies,mbogies6h@nytimes.com,Female\\n235,Sara,Poone,spoone6i@amazon.de,Female\\n236,Dunn,Inchan,dinchan6j@rambler.ru,Female\\n237,Otha,Ames,oames6k@comsenz.com,Male\\n238,Rosaline,Eccersley,reccersley6l@imdb.com,Female\\n239,Rodney,Filinkov,rfilinkov6m@virginia.edu,Female\\n240,Noelle,Gavozzi,ngavozzi6n@google.ca,Female\\n241,Florette,Bellhanger,fbellhanger6o@moonfruit.com,Female\\n242,Augusto,Bewsy,abewsy6p@cargocollective.com,Male\\n243,Shaughn,Standing,sstanding6q@unblog.fr,Male\\n244,Sauncho,Aylin,saylin6r@latimes.com,Female\\n245,Leslie,Cursey,lcursey6s@lulu.com,Male\\n246,Barret,Besnard,bbesnard6t@facebook.com,Male\\n247,Jen,Doni,jdoni6u@nyu.edu,Male\\n248,Lynelle,Coleby,lcoleby6v@disqus.com,Female\\n249,Garrot,Orrow,gorrow6w@slashdot.org,Male\\n250,Charo,Morhall,cmorhall6x@hao123.com,Male\\n251,Hazel,Schwaiger,hschwaiger6y@nature.com,Female\\n252,Goober,Dorracott,gdorracott6z@gizmodo.com,Male\\n253,Marcos,Readwood,mreadwood70@biblegateway.com,Male\\n254,Briney,De Mattia,bdemattia71@cnbc.com,Female\\n255,Konstance,Ridgwell,kridgwell72@ibm.com,Female\\n256,Rik,Toller,rtoller73@ifeng.com,Male\\n257,Emanuele,Oblein,eoblein74@wp.com,Female\\n258,Nickie,Mason,nmason75@aol.com,Male\\n259,Teddi,Franscioni,tfranscioni76@163.com,Male\\n260,Shannon,Reinger,sreinger77@nationalgeographic.com,Female\\n261,Burg,Lesek,blesek78@mit.edu,Female\\n262,Heddie,Ewbanck,hewbanck79@economist.com,Female\\n263,Tailor,Vossing,tvossing7a@hexun.com,Female\\n264,Brigida,Rosengren,brosengren7b@plala.or.jp,Female\\n265,Ariel,Massimo,amassimo7c@topsy.com,Female\\n266,Clarie,Moxsom,cmoxsom7d@icq.com,Female\\n267,Windy,MacConnulty,wmacconnulty7e@ebay.com,Female\\n268,Nissa,Chidlow,nchidlow7f@diigo.com,Female\\n269,Sheila-kathryn,Leask,sleask7g@phoca.cz,Female\\n270,Essie,Ivins,eivins7h@baidu.com,Female\\n271,Enrique,Belsher,ebelsher7i@ebay.com,Male\\n272,Elwira,Hadingham,ehadingham7j@paginegialle.it,Female\\n273,Garland,Minors,gminors7k@pagesperso-orange.fr,Male\\n274,Renelle,Horney,rhorney7l@google.co.jp,Male\\n275,Gisele,Pietruszka,gpietruszka7m@cnet.com,Male\\n276,Shurlocke,Dows,sdows7n@state.tx.us,Male\\n277,Vinni,Houten,vhouten7o@weather.com,Female\\n278,Jaquelyn,Dullingham,jdullingham7p@apache.org,Male\\n279,Hallsy,Beteriss,hbeteriss7q@google.pl,Male\\n280,Alberik,Goucher,agoucher7r@tamu.edu,Female\\n281,Olivier,Repp,orepp7s@cisco.com,Female\\n282,Milka,Hakewell,mhakewell7t@furl.net,Male\\n283,Kittie,Radeliffe,kradeliffe7u@apple.com,Female\\n284,Vinni,Hickinbottom,vhickinbottom7v@dot.gov,Male\\n285,Joletta,Leatt,jleatt7w@mapy.cz,Female\\n286,Cassondra,Mealham,cmealham7x@huffingtonpost.com,Male\\n287,Julius,Ferreiro,jferreiro7y@homestead.com,Male\\n288,Travers,Deguara,tdeguara7z@domainmarket.com,Female\\n289,Nance,Weber,nweber80@spotify.com,Male\\n290,Westley,Estoile,westoile81@mac.com,Male\\n291,Serena,Flasby,sflasby82@myspace.com,Female\\n292,Reeba,Beincken,rbeincken83@webs.com,Male\\n293,Tricia,Burdon,tburdon84@weather.com,Male\\n294,Odey,Tylor,otylor85@microsoft.com,Female\\n295,Sinclare,Finlason,sfinlason86@toplist.cz,Male\\n296,Lefty,Mooring,lmooring87@live.com,Male\\n297,Junina,Seleway,jseleway88@taobao.com,Female\\n298,Lelia,Lockett,llockett89@1und1.de,Male\\n299,Mathilde,Gossage,mgossage8a@wunderground.com,Female\\n300,Tania,Luckes,tluckes8b@freewebs.com,Female\\n301,Inger,Stirling,istirling8c@people.com.cn,Female\\n302,Hinze,Yuryichev,hyuryichev8d@oracle.com,Female\\n303,Melli,Nuton,mnuton8e@craigslist.org,Female\\n304,Rennie,Leser,rleser8f@dyndns.org,Female\\n305,Nadya,Ezzell,nezzell8g@pcworld.com,Female\\n306,Isacco,Sokale,isokale8h@elpais.com,Female\\n307,Lora,Crates,lcrates8i@tamu.edu,Female\\n308,Ragnar,MacKilroe,rmackilroe8j@cmu.edu,Female\\n309,Erick,Coffin,ecoffin8k@privacy.gov.au,Male\\n310,Carlos,Abrahamsohn,cabrahamsohn8l@ifeng.com,Female\\n311,Zsa zsa,Larvin,zlarvin8m@com.com,Male\\n312,Hedi,Fosken,hfosken8n@wordpress.org,Male\\n313,Bradford,Swancott,bswancott8o@rediff.com,Male\\n314,Virge,Sketchley,vsketchley8p@wisc.edu,Female\\n315,Hermina,Paxton,hpaxton8q@google.ru,Female\\n316,Benyamin,Hulks,bhulks8r@huffingtonpost.com,Male\\n317,Marthe,Gascoyen,mgascoyen8s@nasa.gov,Male\\n318,Hadrian,Scarrisbrick,hscarrisbrick8t@tmall.com,Female\\n319,Gayla,Klimczak,gklimczak8u@mapquest.com,Male\\n320,Vivyanne,Abrahams,vabrahams8v@e-recht24.de,Female\\n321,Louella,Grindell,lgrindell8w@goo.gl,Male\\n322,Eveline,Rayman,erayman8x@nasa.gov,Male\\n323,Bendix,Birth,bbirth8y@squidoo.com,Male\\n324,Ashbey,Case,acase8z@ask.com,Male\\n325,Paulina,Puckrin,ppuckrin90@quantcast.com,Female\\n326,Winona,Eliesco,weliesco91@lycos.com,Female\\n327,Caitrin,Lademann,clademann92@smh.com.au,Male\\n328,Lila,Bellingham,lbellingham93@sohu.com,Female\\n329,Kaleena,Osgood,kosgood94@issuu.com,Male\\n330,Willette,Lissaman,wlissaman95@shareasale.com,Male\\n331,Arel,Hatherill,ahatherill96@ed.gov,Female\\n332,Luisa,McVitty,lmcvitty97@blogspot.com,Male\\n333,Hailey,Seccombe,hseccombe98@ucoz.ru,Female\\n334,Debby,Luciani,dluciani99@google.pl,Female\\n335,Goddart,Stroder,gstroder9a@google.de,Female\\n336,Ernest,Hurdedge,ehurdedge9b@cloudflare.com,Male\\n337,Cletus,Dugdale,cdugdale9c@smh.com.au,Male\\n338,Maire,Lynd,mlynd9d@prlog.org,Female\\n339,Ignacio,Sherlaw,isherlaw9e@opera.com,Female\\n340,Ulrica,Yukhtin,uyukhtin9f@trellian.com,Male\\n341,Xymenes,Sneyd,xsneyd9g@goodreads.com,Male\\n342,Hillier,Claxson,hclaxson9h@salon.com,Female\\n343,Basil,Ruf,bruf9i@nydailynews.com,Female\\n344,Celestia,Frusher,cfrusher9j@sourceforge.net,Male\\n345,Terri-jo,Barnfield,tbarnfield9k@altervista.org,Male\\n346,Gasparo,Leveridge,gleveridge9l@utexas.edu,Female\\n347,Clarey,De Meyer,cdemeyer9m@hatena.ne.jp,Female\\n348,Emiline,Mackrell,emackrell9n@ca.gov,Male\\n349,Jana,Livermore,jlivermore9o@scientificamerican.com,Female\\n350,Raddie,Pauel,rpauel9p@devhub.com,Female\\n351,Nestor,Aitken,naitken9q@cargocollective.com,Male\\n352,Gordie,Andino,gandino9r@usatoday.com,Male\\n353,Sher,Broad,sbroad9s@mac.com,Female\\n354,Clarie,Reeson,creeson9t@oakley.com,Female\\n355,Consolata,McDonnell,cmcdonnell9u@issuu.com,Male\\n356,Francene,Robillard,frobillard9v@npr.org,Male\\n357,Sabrina,Bignall,sbignall9w@ask.com,Male\\n358,Coriss,Crookshanks,ccrookshanks9x@buzzfeed.com,Male\\n359,Kariotta,Attride,kattride9y@sourceforge.net,Male\\n360,Roscoe,Humfrey,rhumfrey9z@acquirethisname.com,Male\\n361,Del,Knifton,dkniftona0@list-manage.com,Male\\n362,Eunice,Starbucke,estarbuckea1@ucsd.edu,Female\\n363,Jannelle,Larcher,jlarchera2@yellowpages.com,Female\\n364,Eliza,Daggett,edaggetta3@boston.com,Female\\n365,Willyt,Kornacki,wkornackia4@sourceforge.net,Male\\n366,Sharleen,Sandle,ssandlea5@blogspot.com,Female\\n367,Andreana,D'Enrico,adenricoa6@altervista.org,Female\\n368,Yovonnda,Callen,ycallena7@tmall.com,Male\\n369,Aubrette,Asson,aassona8@mozilla.org,Male\\n370,Stoddard,Gourdon,sgourdona9@marketwatch.com,Female\\n371,Even,Cahill,ecahillaa@1und1.de,Male\\n372,Charla,Daykin,cdaykinab@quantcast.com,Female\\n373,Christiano,Hillitt,chillittac@stanford.edu,Male\\n374,Mirabel,Harvett,mharvettad@gnu.org,Male\\n375,Fred,Losano,flosanoae@examiner.com,Female\\n376,Emmit,Wilby,ewilbyaf@plala.or.jp,Male\\n377,Carlos,Craddock,ccraddockag@fastcompany.com,Female\\n378,Britney,Fratczak,bfratczakah@chronoengine.com,Male\\n379,Delcine,Elderbrant,delderbrantai@intel.com,Male\\n380,Kelly,Halfacre,khalfacreaj@paginegialle.it,Male\\n381,Reiko,Feldmann,rfeldmannak@goo.gl,Male\\n382,Odelinda,Smurthwaite,osmurthwaiteal@google.fr,Male\\n383,Katheryn,Windeatt,kwindeattam@unicef.org,Male\\n384,Wendie,Leasor,wleasoran@java.com,Female\\n385,Pattin,Giorgini,pgiorginiao@slate.com,Male\\n386,Darlene,Chastel,dchastelap@jigsy.com,Female\\n387,Friederike,Iowarch,fiowarchaq@cmu.edu,Female\\n388,Molly,Sabathe,msabathear@ycombinator.com,Female\\n389,Eward,Daens,edaensas@mapy.cz,Male\\n390,Mikaela,Sazio,msazioat@instagram.com,Female\\n391,Delcine,McCaig,dmccaigau@moonfruit.com,Male\\n392,Stormy,Bagnold,sbagnoldav@furl.net,Female\\n393,Rollins,Morch,rmorchaw@time.com,Male\\n394,Lucila,Manton,lmantonax@netvibes.com,Male\\n395,Burty,Insoll,binsollay@biblegateway.com,Female\\n396,Daisey,Kett,dkettaz@cornell.edu,Male\\n397,Eileen,O'Shee,eosheeb0@wikia.com,Female\\n398,Dorey,Manford,dmanfordb1@berkeley.edu,Female\\n399,Dunc,Beldam,dbeldamb2@imgur.com,Male\\n400,Jacintha,Bauduin,jbauduinb3@woothemes.com,Female\\n401,Hughie,Duffy,hduffyb4@nih.gov,Male\\n402,Derrik,Tomblett,dtomblettb5@telegraph.co.uk,Female\\n403,Kassey,Seiffert,kseiffertb6@intel.com,Female\\n404,Karoly,Preedy,kpreedyb7@prlog.org,Male\\n405,Norrie,Dark,ndarkb8@trellian.com,Male\\n406,Letti,Temperley,ltemperleyb9@hhs.gov,Female\\n407,Arney,Lowle,alowleba@home.pl,Male\\n408,Patty,Towler,ptowlerbb@cam.ac.uk,Female\\n409,Crichton,Hedden,cheddenbc@sitemeter.com,Female\\n410,Gusty,Maddigan,gmaddiganbd@bizjournals.com,Male\\n411,Keriann,McCaster,kmccasterbe@chron.com,Male\\n412,Kati,Campagne,kcampagnebf@npr.org,Female\\n413,Robin,Redferne,rredfernebg@google.es,Male\\n414,Dory,Huws,dhuwsbh@businessinsider.com,Male\\n415,Egon,Yakobowitch,eyakobowitchbi@slideshare.net,Male\\n416,Legra,Fernyhough,lfernyhoughbj@is.gd,Male\\n417,Marshal,Willerton,mwillertonbk@amazon.co.uk,Male\\n418,Verene,Yeudall,vyeudallbl@princeton.edu,Male\\n419,Inge,Peto,ipetobm@chron.com,Male\\n420,Irwinn,Huot,ihuotbn@facebook.com,Female\\n421,Lyle,Rabjohn,lrabjohnbo@archive.org,Female\\n422,Vasili,Sevin,vsevinbp@usatoday.com,Female\\n423,Brigida,Morcombe,bmorcombebq@tiny.cc,Male\\n424,Keene,Caughan,kcaughanbr@ucsd.edu,Female\\n425,Obediah,McMakin,omcmakinbs@home.pl,Female\\n426,Janean,Noke,jnokebt@cdc.gov,Female\\n427,Doti,Gotecliffe,dgotecliffebu@stanford.edu,Female\\n428,Trstram,Aleksandrikin,taleksandrikinbv@printfriendly.com,Male\\n429,Bram,Johns,bjohnsbw@omniture.com,Female\\n430,Natalee,Montford,nmontfordbx@youtube.com,Male\\n431,Lanie,Kuhnert,lkuhnertby@cdc.gov,Female\\n432,Justus,Wimpey,jwimpeybz@theglobeandmail.com,Male\\n433,Lyon,Borrie,lborriec0@irs.gov,Female\\n434,Arlena,Youson,ayousonc1@themeforest.net,Male\\n435,Arleyne,Beazleigh,abeazleighc2@booking.com,Female\\n436,Brinna,Pardal,bpardalc3@360.cn,Male\\n437,Jessika,Ginie,jginiec4@google.de,Male\\n438,Oliviero,Bagott,obagottc5@xinhuanet.com,Male\\n439,Ruttger,Hatliff,rhatliffc6@issuu.com,Male\\n440,Edyth,Rozalski,erozalskic7@mapquest.com,Male\\n441,Wilden,Skelington,wskelingtonc8@ameblo.jp,Male\\n442,James,Athridge,jathridgec9@mac.com,Male\\n443,Tobiah,Shiril,tshirilca@facebook.com,Female\\n444,Agnese,Bredes,abredescb@timesonline.co.uk,Male\\n445,Yorke,Daybell,ydaybellcc@geocities.com,Female\\n446,Janene,Hawtry,jhawtrycd@springer.com,Female\\n447,Hadley,Glasscock,hglasscockce@myspace.com,Male\\n448,Layne,Geale,lgealecf@tmall.com,Female\\n449,Gale,Rissom,grissomcg@nih.gov,Male\\n450,Rufus,Matschoss,rmatschossch@redcross.org,Male\\n451,Dalston,Borg-Bartolo,dborgbartoloci@accuweather.com,Male\\n452,Weylin,Grimm,wgrimmcj@java.com,Male\\n453,Sisely,Surgeoner,ssurgeonerck@sourceforge.net,Female\\n454,Sloane,Rowat,srowatcl@is.gd,Female\\n455,Enos,Whenham,ewhenhamcm@tripadvisor.com,Female\\n456,Ruperta,Saer,rsaercn@comcast.net,Female\\n457,Lavena,Necrews,lnecrewsco@blog.com,Female\\n458,Shamus,Royle,sroylecp@buzzfeed.com,Male\\n459,Kikelia,Staries,kstariescq@nytimes.com,Female\\n460,Janifer,Herche,jherchecr@google.fr,Male\\n461,Alis,Wyre,awyrecs@nymag.com,Male\\n462,Brenn,Josephs,bjosephsct@joomla.org,Male\\n463,Tamera,Carnoghan,tcarnoghancu@t.co,Male\\n464,Hilarius,Urling,hurlingcv@odnoklassniki.ru,Male\\n465,Mallorie,Ponte,mpontecw@friendfeed.com,Male\\n466,Jacklin,Conningham,jconninghamcx@cbc.ca,Female\\n467,Gill,Seleway,gselewaycy@sina.com.cn,Male\\n468,Avictor,LAbbet,alabbetcz@yelp.com,Male\\n469,Ailyn,Coucha,acouchad0@123-reg.co.uk,Female\\n470,Klara,Grigolashvill,kgrigolashvilld1@lulu.com,Female\\n471,Enrico,Millgate,emillgated2@nbcnews.com,Male\\n472,Dunn,Farryan,dfarryand3@studiopress.com,Female\\n473,Dynah,MacChaell,dmacchaelld4@fc2.com,Female\\n474,Monti,Gerty,mgertyd5@sogou.com,Female\\n475,Daisy,Hornig,dhornigd6@pagesperso-orange.fr,Female\\n476,Shannah,Ennor,sennord7@hugedomains.com,Female\\n477,Ruprecht,Woodwin,rwoodwind8@virginia.edu,Female\\n478,Richmound,McMarquis,rmcmarquisd9@cnbc.com,Male\\n479,Natal,Cockerill,ncockerillda@eepurl.com,Female\\n480,Minette,Brocklebank,mbrocklebankdb@kickstarter.com,Male\\n481,Alexine,Guislin,aguislindc@omniture.com,Male\\n482,Rosina,Spark,rsparkdd@omniture.com,Male\\n483,Benjy,Schade,bschadede@dell.com,Male\\n484,Dorice,Conigsby,dconigsbydf@census.gov,Male\\n485,Philly,Harrold,pharrolddg@buzzfeed.com,Male\\n486,Dell,Fadell,dfadelldh@wikispaces.com,Male\\n487,Kit,Paddison,kpaddisondi@apache.org,Male\\n488,Allene,Motte,amottedj@yahoo.com,Female\\n489,Ardisj,Siehard,asieharddk@wikispaces.com,Male\\n490,Yoshiko,MacMeeking,ymacmeekingdl@tuttocitta.it,Male\\n491,Hugibert,Paquet,hpaquetdm@who.int,Female\\n492,Charleen,Peyro,cpeyrodn@noaa.gov,Male\\n493,Ansell,Gamblin,agamblindo@tripadvisor.com,Female\\n494,Ambros,Whittington,awhittingtondp@issuu.com,Male\\n495,Mufinella,Bloggett,mbloggettdq@artisteer.com,Female\\n496,Neil,Penswick,npenswickdr@hp.com,Female\\n497,Torrin,Grinter,tgrinterds@1688.com,Female\\n498,Chaunce,Schott,cschottdt@imageshack.us,Female\\n499,Netta,Devin,ndevindu@amazon.co.uk,Male\\n500,Roseanne,Badwick,rbadwickdv@npr.org,Male\\n501,Gennie,Heugle,gheugledw@blogger.com,Male\\n502,Flemming,Nockalls,fnockallsdx@rambler.ru,Male\\n503,Perle,Quin,pquindy@chicagotribune.com,Male\\n504,Fraze,Ellacombe,fellacombedz@cocolog-nifty.com,Male\\n505,Melody,Hayball,mhayballe0@eventbrite.com,Female\\n506,Roldan,Batey,rbateye1@addtoany.com,Female\\n507,Ninnetta,Eschalette,neschalettee2@biblegateway.com,Male\\n508,Booth,De Gregario,bdegregarioe3@cbsnews.com,Male\\n509,Sebastien,Spragge,sspraggee4@ed.gov,Male\\n510,Carey,Blazewicz,cblazewicze5@blogger.com,Female\\n511,Dilly,Payton,dpaytone6@statcounter.com,Male\\n512,Husain,Lyburn,hlyburne7@ca.gov,Male\\n513,Lennie,Hulett,lhulette8@google.de,Male\\n514,Lezlie,Bielfeldt,lbielfeldte9@biblegateway.com,Male\\n515,Ninetta,Toman,ntomanea@seattletimes.com,Male\\n516,Dinnie,Poli,dpolieb@creativecommons.org,Female\\n517,Odette,Libbie,olibbieec@skyrock.com,Male\\n518,Brinn,Larderot,blarderoted@sogou.com,Male\\n519,Thalia,Shedd,tsheddee@salon.com,Female\\n520,Gracia,Mecozzi,gmecozzief@shareasale.com,Female\\n521,Nelli,Jandel,njandeleg@g.co,Male\\n522,Brad,Ebdin,bebdineh@netlog.com,Female\\n523,Sergeant,Plaice,splaiceei@alexa.com,Female\\n524,Janet,Adamowitz,jadamowitzej@nature.com,Male\\n525,Phyllys,Archer,parcherek@ucla.edu,Male\\n526,Amandi,Anear,aanearel@moonfruit.com,Female\\n527,Kirby,Whitwell,kwhitwellem@sciencedaily.com,Female\\n528,Arabel,Kalisch,akalischen@sitemeter.com,Male\\n529,Anselm,Kiffe,akiffeeo@umich.edu,Female\\n530,Drona,Han,dhanep@nydailynews.com,Male\\n531,Barr,Petrosian,bpetrosianeq@shutterfly.com,Male\\n532,Felice,Grutchfield,fgrutchfielder@time.com,Male\\n533,Ricca,Deetch,rdeetches@imgur.com,Female\\n534,Noak,Bonnaire,nbonnaireet@istockphoto.com,Male\\n535,Torie,Denziloe,tdenziloeeu@homestead.com,Male\\n536,Cammie,Weeden,cweedenev@bloomberg.com,Male\\n537,Garry,Wasson,gwassonew@goodreads.com,Male\\n538,Anett,Berzen,aberzenex@vistaprint.com,Male\\n539,Fifine,Deware,fdewareey@meetup.com,Female\\n540,Dominik,Thurlbourne,dthurlbourneez@intel.com,Female\\n541,Frasquito,Tuting,ftutingf0@phoca.cz,Male\\n542,Brewster,Joret,bjoretf1@sourceforge.net,Male\\n543,Darell,Gallant,dgallantf2@seattletimes.com,Male\\n544,Kevina,Goulbourn,kgoulbournf3@icio.us,Male\\n545,Kylie,Stuckow,kstuckowf4@wordpress.com,Male\\n546,Lilah,Thoms,lthomsf5@biblegateway.com,Male\\n547,Jenifer,Fearick,jfearickf6@twitter.com,Female\\n548,Vitoria,Chauvey,vchauveyf7@t.co,Female\\n549,Benito,Limeburner,blimeburnerf8@examiner.com,Male\\n550,Janka,Warham,jwarhamf9@latimes.com,Female\\n551,Rosalynd,Cronshaw,rcronshawfa@marketwatch.com,Female\\n552,Melly,Hulle,mhullefb@4shared.com,Male\\n553,Brinn,Searson,bsearsonfc@g.co,Female\\n554,Gordy,Ablett,gablettfd@creativecommons.org,Female\\n555,Elie,Rishman,erishmanfe@comcast.net,Male\\n556,Joeann,Ivanets,jivanetsff@wikimedia.org,Male\\n557,Kristal,Dorey,kdoreyfg@unesco.org,Female\\n558,Coleen,Ciabatteri,cciabatterifh@businessweek.com,Female\\n559,Kittie,Brugemann,kbrugemannfi@xinhuanet.com,Female\\n560,Sigismond,Fransson,sfranssonfj@pinterest.com,Female\\n561,Linus,Borge,lborgefk@wp.com,Female\\n562,Charisse,Bees,cbeesfl@nih.gov,Male\\n563,Thorny,Fines,tfinesfm@economist.com,Female\\n564,Eulalie,Stroban,estrobanfn@bigcartel.com,Male\\n565,Westbrooke,Vanelli,wvanellifo@seesaa.net,Male\\n566,Tedra,Filoniere,tfilonierefp@macromedia.com,Female\\n567,Raddie,Jovicevic,rjovicevicfq@umich.edu,Male\\n568,Charlotta,Petera,cpeterafr@feedburner.com,Male\\n569,Lethia,Schaffel,lschaffelfs@paypal.com,Female\\n570,Leese,Paike,lpaikeft@sina.com.cn,Female\\n571,Sig,Dukes,sdukesfu@elpais.com,Male\\n572,Linus,Curcher,lcurcherfv@salon.com,Female\\n573,Caron,Goldstraw,cgoldstrawfw@addtoany.com,Male\\n574,Obed,Witton,owittonfx@cbc.ca,Female\\n575,Jedediah,Heggie,jheggiefy@sakura.ne.jp,Female\\n576,Merrill,Tant,mtantfz@google.co.jp,Male\\n577,Barbey,Brunon,bbrunong0@youku.com,Female\\n578,Brannon,Bramelt,bbrameltg1@purevolume.com,Male\\n579,Jaimie,McHan,jmchang2@hp.com,Male\\n580,Emmye,Smallridge,esmallridgeg3@slate.com,Male\\n581,Kiley,Ellam,kellamg4@berkeley.edu,Female\\n582,Egan,Spraggon,espraggong5@booking.com,Male\\n583,Leigh,Comazzo,lcomazzog6@networkadvertising.org,Male\\n584,Ricca,Storie,rstorieg7@surveymonkey.com,Female\\n585,Angel,Larrie,alarrieg8@narod.ru,Male\\n586,Allianora,Gomar,agomarg9@bandcamp.com,Male\\n587,Maurene,Singyard,msingyardga@deliciousdays.com,Female\\n588,Arleta,Heningam,aheningamgb@w3.org,Female\\n589,Aggi,McReidy,amcreidygc@nature.com,Male\\n590,Raffaello,Wandless,rwandlessgd@princeton.edu,Male\\n591,Iosep,Kendrick,ikendrickge@ihg.com,Female\\n592,Estelle,Meert,emeertgf@spiegel.de,Male\\n593,Roddie,Sharnock,rsharnockgg@paginegialle.it,Female\\n594,Sherwynd,Lauxmann,slauxmanngh@ca.gov,Female\\n595,Ambrosi,Labbet,alabbetgi@wp.com,Female\\n596,Keenan,Jacobsen,kjacobsengj@unc.edu,Female\\n597,Tim,Coster,tcostergk@jimdo.com,Male\\n598,Hoyt,Greenman,hgreenmangl@abc.net.au,Male\\n599,Maurene,Spanswick,mspanswickgm@naver.com,Female\\n600,Doug,Ellcock,dellcockgn@berkeley.edu,Male\\n601,Garnet,Land,glandgo@geocities.jp,Male\\n602,Morna,Manuely,mmanuelygp@nature.com,Male\\n603,Jemima,Ivkovic,jivkovicgq@example.com,Male\\n604,Lynn,Natalie,lnataliegr@microsoft.com,Female\\n605,Blanche,Fotherby,bfotherbygs@quantcast.com,Male\\n606,Bernie,Mizen,bmizengt@wufoo.com,Male\\n607,Anna-maria,Mariot,amariotgu@nba.com,Male\\n608,Dorie,Lars,dlarsgv@census.gov,Male\\n609,Gertrude,Hyland,ghylandgw@acquirethisname.com,Male\\n610,Esma,Claypole,eclaypolegx@boston.com,Female\\n611,Hillel,Brawley,hbrawleygy@oaic.gov.au,Female\\n612,Caesar,Skryne,cskrynegz@posterous.com,Female\\n613,Rozanne,Breedy,rbreedyh0@mozilla.org,Male\\n614,Stefa,Withey,switheyh1@webeden.co.uk,Male\\n615,Bridget,Feeley,bfeeleyh2@shareasale.com,Female\\n616,Ofilia,Laurence,olaurenceh3@paginegialle.it,Female\\n617,Lisetta,Sobieski,lsobieskih4@eepurl.com,Female\\n618,Jasen,Sales,jsalesh5@goodreads.com,Female\\n619,Chandler,Hastler,chastlerh6@cmu.edu,Female\\n620,Carolynn,Lydall,clydallh7@ning.com,Male\\n621,Corrie,Hacun,chacunh8@parallels.com,Female\\n622,Tonnie,Yeld,tyeldh9@blinklist.com,Female\\n623,Ainslee,Koene,akoeneha@msn.com,Female\\n624,Lancelot,Pinkerton,lpinkertonhb@prnewswire.com,Female\\n625,Joya,Kemshell,jkemshellhc@1688.com,Male\\n626,Cornelia,Ecles,cecleshd@zimbio.com,Female\\n627,Rivkah,Kelsall,rkelsallhe@1688.com,Female\\n628,Jefferey,Ablewhite,jablewhitehf@typepad.com,Female\\n629,Ardisj,Masding,amasdinghg@ucoz.com,Male\\n630,Jessalin,Forsaith,jforsaithhh@pinterest.com,Male\\n631,Patti,Allaker,pallakerhi@delicious.com,Male\\n632,Kristel,Loosley,kloosleyhj@ed.gov,Male\\n633,Nona,Lytell,nlytellhk@skype.com,Male\\n634,Arabel,Linnit,alinnithl@last.fm,Male\\n635,Layney,Proudler,lproudlerhm@home.pl,Male\\n636,Shell,Cobello,scobellohn@soundcloud.com,Female\\n637,Nicolis,Troughton,ntroughtonho@vkontakte.ru,Female\\n638,Rhody,Colombier,rcolombierhp@sphinn.com,Male\\n639,Finlay,Korf,fkorfhq@cbslocal.com,Male\\n640,Merrielle,Skittrell,mskittrellhr@blogs.com,Male\\n641,Maddy,Marder,mmarderhs@liveinternet.ru,Male\\n642,Bili,Dominka,bdominkaht@blogtalkradio.com,Female\\n643,Nelie,Petrik,npetrikhu@telegraph.co.uk,Male\\n644,Jerald,McCusker,jmccuskerhv@cornell.edu,Female\\n645,Annette,Feak,afeakhw@cmu.edu,Female\\n646,Park,Fairlem,pfairlemhx@whitehouse.gov,Female\\n647,Chiarra,Loxston,cloxstonhy@redcross.org,Female\\n648,Kelbee,Spedroni,kspedronihz@amazonaws.com,Female\\n649,Marybeth,Pennuzzi,mpennuzzii0@about.com,Male\\n650,Garik,Rollinshaw,grollinshawi1@purevolume.com,Female\\n651,Erinna,Schrir,eschriri2@hp.com,Male\\n652,Iggy,Gallihawk,igallihawki3@barnesandnoble.com,Male\\n653,Kearney,Shew,kshewi4@ustream.tv,Male\\n654,Rand,Soutter,rsoutteri5@scribd.com,Male\\n655,Mair,Orbon,morboni6@washington.edu,Female\\n656,Penn,Braganza,pbraganzai7@chron.com,Female\\n657,Kerrill,Eaden,keadeni8@feedburner.com,Male\\n658,Inger,Huitson,ihuitsoni9@e-recht24.de,Male\\n659,Hoebart,Tibbetts,htibbettsia@tamu.edu,Male\\n660,Sisile,Manilove,smaniloveib@quantcast.com,Female\\n661,Dan,Valentin,dvalentinic@google.com.au,Male\\n662,Gail,Critch,gcritchid@europa.eu,Male\\n663,Baxy,Whytock,bwhytockie@dyndns.org,Female\\n664,Ennis,Solano,esolanoif@msu.edu,Female\\n665,Garnette,Crutch,gcrutchig@xing.com,Female\\n666,Carlie,Freddi,cfreddiih@tinypic.com,Female\\n667,Lin,Iredale,liredaleii@multiply.com,Male\\n668,Marie-ann,Foston,mfostonij@gizmodo.com,Male\\n669,Zitella,Muselli,zmuselliik@hatena.ne.jp,Male\\n670,Rodina,Korneichuk,rkorneichukil@dion.ne.jp,Male\\n671,Phedra,Wenman,pwenmanim@paginegialle.it,Female\\n672,Maegan,Hannond,mhannondin@uol.com.br,Female\\n673,Gwennie,McCritchie,gmccritchieio@independent.co.uk,Male\\n674,Tanny,Kippie,tkippieip@technorati.com,Male\\n675,Minda,Trainer,mtraineriq@redcross.org,Female\\n676,Ollie,Bonwell,obonwellir@cocolog-nifty.com,Male\\n677,Gaynor,Mosley,gmosleyis@cafepress.com,Male\\n678,Arlin,Kenen,akenenit@google.nl,Male\\n679,Nelie,Spiteri,nspiteriiu@wordpress.org,Female\\n680,Guilbert,Alywin,galywiniv@house.gov,Female\\n681,Leeann,Woehler,lwoehleriw@xrea.com,Female\\n682,Merrielle,Klejin,mklejinix@deliciousdays.com,Female\\n683,Win,Gronav,wgronaviy@creativecommons.org,Male\\n684,Marion,Guyton,mguytoniz@utexas.edu,Male\\n685,Pepi,Bockmaster,pbockmasterj0@marriott.com,Male\\n686,Colan,O'Carmody,cocarmodyj1@ucla.edu,Male\\n687,Mattie,Cicetti,mcicettij2@mozilla.org,Female\\n688,Mirabella,Pasterfield,mpasterfieldj3@reddit.com,Male\\n689,Branden,Haster,bhasterj4@addthis.com,Male\\n690,Christabella,Drohan,cdrohanj5@go.com,Female\\n691,Valli,Gudge,vgudgej6@canalblog.com,Female\\n692,Doug,Brooke,dbrookej7@wired.com,Male\\n693,Melodie,Hubery,mhuberyj8@weebly.com,Male\\n694,Kandace,Cammock,kcammockj9@skype.com,Female\\n695,Fitzgerald,Mulqueeny,fmulqueenyja@state.gov,Male\\n696,Cristobal,Merryweather,cmerryweatherjb@apache.org,Male\\n697,Arnaldo,Sands-Allan,asandsallanjc@netvibes.com,Male\\n698,Boyd,Marsham,bmarshamjd@hao123.com,Female\\n699,Orlan,Bould,obouldje@infoseek.co.jp,Female\\n700,Jamil,Crosseland,jcrosselandjf@disqus.com,Female\\n701,Tina,Creagh,tcreaghjg@people.com.cn,Female\\n702,Tana,Penhearow,tpenhearowjh@goo.ne.jp,Female\\n703,Zonnya,Tyrwhitt,ztyrwhittji@hud.gov,Female\\n704,Algernon,Grcic,agrcicjj@livejournal.com,Male\\n705,Essy,Clewlowe,eclewlowejk@hubpages.com,Male\\n706,Ruben,Monkman,rmonkmanjl@sakura.ne.jp,Male\\n707,Remus,Hinkley,rhinkleyjm@ocn.ne.jp,Male\\n708,Boone,Scothern,bscothernjn@illinois.edu,Male\\n709,Levin,Crummie,lcrummiejo@biglobe.ne.jp,Female\\n710,Jae,Ockleshaw,jockleshawjp@prnewswire.com,Male\\n711,Sebastiano,Kubica,skubicajq@senate.gov,Female\\n712,Dinah,Fancet,dfancetjr@squidoo.com,Female\\n713,Blake,Souch,bsouchjs@bigcartel.com,Female\\n714,Wally,Stansby,wstansbyjt@naver.com,Female\\n715,Mariya,Starking,mstarkingju@bizjournals.com,Male\\n716,Winona,Ferrierio,wferrieriojv@salon.com,Male\\n717,Dre,O' Borne,dobornejw@techcrunch.com,Male\\n718,Weidar,Glencrosche,wglencroschejx@com.com,Female\\n719,Druci,Flanner,dflannerjy@freewebs.com,Female\\n720,Heddi,Keeltagh,hkeeltaghjz@bigcartel.com,Male\\n721,Linnea,Burberye,lburberyek0@weibo.com,Male\\n722,Isa,McTeer,imcteerk1@zimbio.com,Female\\n723,Suki,Roakes,sroakesk2@360.cn,Male\\n724,Cody,Nardoni,cnardonik3@businessweek.com,Female\\n725,Ashia,Panswick,apanswickk4@wp.com,Male\\n726,Helenka,Auguste,haugustek5@topsy.com,Male\\n727,Giustina,Baudou,gbaudouk6@digg.com,Male\\n728,Chantalle,Crandon,ccrandonk7@boston.com,Female\\n729,Zora,Blunt,zbluntk8@dot.gov,Female\\n730,Tye,Groome,tgroomek9@surveymonkey.com,Female\\n731,Sholom,Lyttle,slyttleka@goo.ne.jp,Female\\n732,Karleen,Blofeld,kblofeldkb@google.ru,Male\\n733,Odelinda,Corpe,ocorpekc@cloudflare.com,Female\\n734,Dode,Manners,dmannerskd@sfgate.com,Male\\n735,Bernardine,Ropkes,bropkeske@yale.edu,Female\\n736,Pietra,Acaster,pacasterkf@tripod.com,Male\\n737,Pauline,Scrase,pscrasekg@slate.com,Male\\n738,Cordey,Hatz,chatzkh@hao123.com,Male\\n739,Melisandra,Trippett,mtrippettki@histats.com,Female\\n740,Jere,Medlicott,jmedlicottkj@dion.ne.jp,Male\\n741,Ursula,Lally,ulallykk@bloglines.com,Male\\n742,Brunhilda,Keasey,bkeaseykl@chicagotribune.com,Female\\n743,Itch,Bahl,ibahlkm@weather.com,Female\\n744,Gael,Verry,gverrykn@slideshare.net,Male\\n745,Victor,Lenchenko,vlenchenkoko@virginia.edu,Male\\n746,Tailor,Ainger,taingerkp@sciencedirect.com,Male\\n747,Alana,Dudny,adudnykq@multiply.com,Female\\n748,Andonis,Tiebe,atiebekr@mayoclinic.com,Male\\n749,Chandal,Skehan,cskehanks@foxnews.com,Female\\n750,Aldric,Edghinn,aedghinnkt@imdb.com,Female\\n751,Antonie,Bakhrushkin,abakhrushkinku@com.com,Male\\n752,Brandy,Jamieson,bjamiesonkv@earthlink.net,Male\\n753,Josias,Oseman,josemankw@paginegialle.it,Female\\n754,Nadiya,Walne,nwalnekx@vimeo.com,Female\\n755,Bartholomeo,Egel,begelky@dailymotion.com,Male\\n756,Fanya,Comelli,fcomellikz@npr.org,Male\\n757,Woody,Runcie,wrunciel0@fotki.com,Male\\n758,Pooh,Worsnip,pworsnipl1@themeforest.net,Female\\n759,Aileen,Vennings,avenningsl2@fc2.com,Female\\n760,Abbott,Guilbert,aguilbertl3@hexun.com,Male\\n761,Mellisa,Oldroyd,moldroydl4@si.edu,Male\\n762,Berne,Coakley,bcoakleyl5@imageshack.us,Male\\n763,Garrik,Streat,gstreatl6@360.cn,Female\\n764,Luz,Plumm,lplumml7@yellowbook.com,Male\\n765,Nessie,Alfonsetti,nalfonsettil8@trellian.com,Male\\n766,Wolfy,Gibbonson,wgibbonsonl9@posterous.com,Male\\n767,Dermot,Minnis,dminnisla@reddit.com,Male\\n768,Dory,Axton,daxtonlb@prlog.org,Female\\n769,Dunc,Blewis,dblewislc@wired.com,Female\\n770,Burt,Teulier,bteulierld@discuz.net,Male\\n771,Kris,Hambridge,khambridgele@berkeley.edu,Female\\n772,Knox,Tuffs,ktuffslf@elpais.com,Female\\n773,Guntar,Cunniffe,gcunniffelg@yelp.com,Female\\n774,Stuart,Pargetter,spargetterlh@nydailynews.com,Male\\n775,Siouxie,Cranmore,scranmoreli@canalblog.com,Female\\n776,Jolene,Scanlon,jscanlonlj@ameblo.jp,Female\\n777,Wenda,Ungerecht,wungerechtlk@hugedomains.com,Male\\n778,Den,Tomney,dtomneyll@illinois.edu,Female\\n779,Kandy,Shurrocks,kshurrockslm@nyu.edu,Female\\n780,Nettle,Bonevant,nbonevantln@miitbeian.gov.cn,Male\\n781,Jordain,Mower,jmowerlo@boston.com,Female\\n782,Eveline,Organer,eorganerlp@dailymotion.com,Female\\n783,Mackenzie,Giabucci,mgiabuccilq@imgur.com,Female\\n784,Jared,Getty,jgettylr@baidu.com,Female\\n785,Chev,Leeds,cleedsls@delicious.com,Male\\n786,Merrel,Rosenbusch,mrosenbuschlt@nyu.edu,Male\\n787,Alejoa,Stoke,astokelu@printfriendly.com,Female\\n788,Koenraad,Farnorth,kfarnorthlv@microsoft.com,Male\\n789,Rafi,Powton,rpowtonlw@usgs.gov,Female\\n790,Colette,Johnsey,cjohnseylx@economist.com,Male\\n791,Vera,Babbe,vbabbely@vk.com,Male\\n792,Olin,Kinnerk,okinnerklz@shareasale.com,Female\\n793,Kasey,Tome,ktomem0@imdb.com,Female\\n794,Matty,Dreher,mdreherm1@histats.com,Female\\n795,Berne,Cartwight,bcartwightm2@intel.com,Female\\n796,Elaine,Burrells,eburrellsm3@scientificamerican.com,Female\\n797,Marcellus,Haggish,mhaggishm4@reverbnation.com,Male\\n798,Demott,Sweedland,dsweedlandm5@networkadvertising.org,Male\\n799,Alexa,Dressel,adresselm6@digg.com,Female\\n800,Audy,Trytsman,atrytsmanm7@guardian.co.uk,Male\\n801,Irwin,Underwood,iunderwoodm8@fda.gov,Female\\n802,Jens,Muzzillo,jmuzzillom9@gravatar.com,Female\\n803,Nicolette,Berney,nberneyma@pbs.org,Female\\n804,Vince,MacGahey,vmacgaheymb@economist.com,Female\\n805,Rourke,Shillitto,rshillittomc@ning.com,Male\\n806,Arda,Pester,apestermd@noaa.gov,Female\\n807,Jeddy,Waryk,jwarykme@delicious.com,Female\\n808,Shelagh,Sprigings,ssprigingsmf@chronoengine.com,Female\\n809,Selinda,Ethelstone,sethelstonemg@aol.com,Male\\n810,Davida,Dicks,ddicksmh@bing.com,Male\\n811,Melinda,Finci,mfincimi@senate.gov,Male\\n812,Enid,Godthaab,egodthaabmj@nyu.edu,Male\\n813,Alysia,Castelletti,acastellettimk@soup.io,Male\\n814,Leah,Syson,lsysonml@posterous.com,Female\\n815,Ketty,Perrinchief,kperrinchiefmm@reddit.com,Female\\n816,Hervey,Billie,hbilliemn@bandcamp.com,Female\\n817,Ruben,Kennsley,rkennsleymo@bandcamp.com,Male\\n818,Florella,Rossborough,frossboroughmp@geocities.com,Female\\n819,Antonio,Feldmus,afeldmusmq@ox.ac.uk,Female\\n820,Belvia,Nicklinson,bnicklinsonmr@photobucket.com,Male\\n821,Emily,Chattaway,echattawayms@flavors.me,Male\\n822,Gabriellia,Mowbray,gmowbraymt@indiatimes.com,Male\\n823,Morena,Lindro,mlindromu@yellowbook.com,Male\\n824,Ephrayim,Oslar,eoslarmv@cam.ac.uk,Female\\n825,Walther,Doman,wdomanmw@wiley.com,Male\\n826,Damaris,Toseland,dtoselandmx@i2i.jp,Female\\n827,Andriana,Dalzell,adalzellmy@ucla.edu,Male\\n828,Marcie,Lowre,mlowremz@salon.com,Female\\n829,Tedie,Broster,tbrostern0@hc360.com,Male\\n830,Aubree,Lamminam,alamminamn1@paypal.com,Female\\n831,Urbano,Wheater,uwheatern2@hibu.com,Female\\n832,Tabby,Farden,tfardenn3@nydailynews.com,Female\\n833,Pavlov,Quarry,pquarryn4@vk.com,Female\\n834,Nady,Rakes,nrakesn5@foxnews.com,Female\\n835,Deck,Judson,djudsonn6@google.de,Male\\n836,Thornie,Markwelley,tmarkwelleyn7@blinklist.com,Male\\n837,Sancho,Titchener,stitchenern8@desdev.cn,Female\\n838,Hugh,Arunowicz,harunowiczn9@people.com.cn,Female\\n839,Joete,Pigdon,jpigdonna@digg.com,Male\\n840,Ramon,Vicker,rvickernb@lycos.com,Male\\n841,Shelley,Sandeford,ssandefordnc@aol.com,Female\\n842,Bailey,Hyde-Chambers,bhydechambersnd@i2i.jp,Female\\n843,Paulie,Stevani,pstevanine@msn.com,Female\\n844,Stanislas,Behr,sbehrnf@msn.com,Male\\n845,Harrietta,Anselm,hanselmng@ucoz.ru,Female\\n846,Woodman,Lamlin,wlamlinnh@patch.com,Female\\n847,Rosa,Lowder,rlowderni@ocn.ne.jp,Female\\n848,Gallagher,Ronaldson,gronaldsonnj@fda.gov,Male\\n849,Eddy,Chaulk,echaulknk@sakura.ne.jp,Female\\n850,Ernaline,Copeman,ecopemannl@imdb.com,Male\\n851,Dareen,Glauber,dglaubernm@weibo.com,Male\\n852,Jarrod,Abrahamoff,jabrahamoffnn@techcrunch.com,Female\\n853,Bastian,Slides,bslidesno@usda.gov,Male\\n854,Chantal,Ikin,cikinnp@twitter.com,Male\\n855,Mathew,Dannel,mdannelnq@mozilla.com,Male\\n856,Myriam,Penner,mpennernr@scientificamerican.com,Female\\n857,Barret,Edland,bedlandns@sfgate.com,Female\\n858,Bondon,Freathy,bfreathynt@tinypic.com,Female\\n859,Mariejeanne,Fairham,mfairhamnu@google.de,Male\\n860,Zorana,Shillinglaw,zshillinglawnv@independent.co.uk,Male\\n861,Cyndia,Langmead,clangmeadnw@themeforest.net,Male\\n862,Evangelia,Cogan,ecogannx@aol.com,Male\\n863,Phylis,Malpass,pmalpassny@mapquest.com,Male\\n864,Durward,Pitbladdo,dpitbladdonz@google.ca,Male\\n865,Gale,Goggins,ggogginso0@wufoo.com,Female\\n866,Duky,Chsteney,dchsteneyo1@free.fr,Female\\n867,Forster,Mitchelson,fmitchelsono2@ustream.tv,Female\\n868,Zoe,Prin,zprino3@gov.uk,Male\\n869,Erhart,Duffy,eduffyo4@woothemes.com,Female\\n870,Selle,Berthon,sberthono5@canalblog.com,Male\\n871,Darsie,Conneau,dconneauo6@springer.com,Female\\n872,Teresa,Algar,talgaro7@clickbank.net,Female\\n873,Stevena,Harefoot,sharefooto8@taobao.com,Female\\n874,Maddie,Bibby,mbibbyo9@addtoany.com,Female\\n875,Olivia,Dripps,odrippsoa@barnesandnoble.com,Female\\n876,Eldredge,Moden,emodenob@toplist.cz,Male\\n877,Cammi,Vain,cvainoc@themeforest.net,Female\\n878,Saundra,Skalls,sskallsod@blogspot.com,Female\\n879,Chick,Bartos,cbartosoe@marriott.com,Female\\n880,Midge,Tomaszek,mtomaszekof@tuttocitta.it,Male\\n881,Shurlock,Bugdell,sbugdellog@privacy.gov.au,Female\\n882,Stephanus,Beavers,sbeaversoh@geocities.jp,Female\\n883,Annalise,Domican,adomicanoi@github.com,Male\\n884,Ellswerth,Edward,eedwardoj@theatlantic.com,Male\\n885,Leandra,Abate,labateok@lycos.com,Female\\n886,Serene,Camacke,scamackeol@ucoz.ru,Female\\n887,Kiah,Kahler,kkahlerom@delicious.com,Female\\n888,Mandel,Cardoso,mcardosoon@google.ca,Male\\n889,Tedmund,Rentoll,trentolloo@mapy.cz,Female\\n890,Daffi,Haseley,dhaseleyop@fema.gov,Male\\n891,Woodie,McCallion,wmccallionoq@blogtalkradio.com,Male\\n892,Niall,Bowling,nbowlingor@google.es,Female\\n893,Olimpia,Hansley,ohansleyos@wufoo.com,Female\\n894,Caro,Stroder,cstroderot@answers.com,Female\\n895,Janina,L'argent,jlargentou@house.gov,Male\\n896,Nikkie,Richarz,nricharzov@mtv.com,Male\\n897,Gabriell,Braz,gbrazow@flavors.me,Male\\n898,Tessy,Levin,tlevinox@mac.com,Female\\n899,Erin,Leaman,eleamanoy@newsvine.com,Male\\n900,Dulcinea,Langrish,dlangrishoz@dion.ne.jp,Female\\n901,Lorelei,Levesley,llevesleyp0@earthlink.net,Male\\n902,Marina,Croxley,mcroxleyp1@delicious.com,Female\\n903,Danya,Finessy,dfinessyp2@google.cn,Male\\n904,Dolorita,Wiggam,dwiggamp3@dailymotion.com,Female\\n905,Barn,Bowdery,bbowderyp4@clickbank.net,Female\\n906,Ban,Gatecliff,bgatecliffp5@statcounter.com,Male\\n907,Shem,Dummigan,sdummiganp6@earthlink.net,Male\\n908,Ellis,Ellerton,eellertonp7@theguardian.com,Male\\n909,Nikolas,Shortcliffe,nshortcliffep8@ask.com,Male\\n910,Jacinthe,Meier,jmeierp9@latimes.com,Female\\n911,Gerta,Droogan,gdrooganpa@lulu.com,Female\\n912,Alyda,Pinel,apinelpb@cdc.gov,Female\\n913,Ariel,Quipp,aquipppc@chronoengine.com,Male\\n914,Mickey,Shwenn,mshwennpd@weibo.com,Male\\n915,Chrotoem,Corkish,ccorkishpe@printfriendly.com,Male\\n916,Phip,Thorald,pthoraldpf@bbc.co.uk,Male\\n917,Tammie,Giuron,tgiuronpg@blogs.com,Male\\n918,Shea,Rappoport,srappoportph@craigslist.org,Male\\n919,Mickie,Sirett,msirettpi@constantcontact.com,Female\\n920,Mickie,Abriani,mabrianipj@guardian.co.uk,Male\\n921,Nance,Petrolli,npetrollipk@twitpic.com,Male\\n922,Tracey,Lown,tlownpl@topsy.com,Female\\n923,Neila,Damiata,ndamiatapm@hostgator.com,Male\\n924,Ethelind,Scarf,escarfpn@scientificamerican.com,Male\\n925,Marcille,Grelak,mgrelakpo@intel.com,Female\\n926,Zed,Bradd,zbraddpp@cdc.gov,Female\\n927,Gilberto,Pardon,gpardonpq@tinypic.com,Male\\n928,Spenser,Copley,scopleypr@constantcontact.com,Male\\n929,Sibylle,Wortt,sworttps@phpbb.com,Female\\n930,Kristo,Keith,kkeithpt@infoseek.co.jp,Male\\n931,Serena,Glasper,sglasperpu@salon.com,Male\\n932,Beau,Dederich,bdederichpv@sohu.com,Male\\n933,Stacy,Bartoszewski,sbartoszewskipw@yahoo.co.jp,Male\\n934,Mayer,Philpott,mphilpottpx@epa.gov,Female\\n935,Corella,Cornock,ccornockpy@wikispaces.com,Male\\n936,Godard,Rubinsohn,grubinsohnpz@symantec.com,Male\\n937,Luella,Jennaroy,ljennaroyq0@prlog.org,Female\\n938,Rosa,Shafto,rshaftoq1@redcross.org,Female\\n939,Lesli,Hatchell,lhatchellq2@senate.gov,Male\\n940,Alis,Worsalls,aworsallsq3@weebly.com,Female\\n941,Ganny,Pearle,gpearleq4@mlb.com,Male\\n942,Beret,Laughtisse,blaughtisseq5@goo.gl,Male\\n943,Dru,Sincock,dsincockq6@biblegateway.com,Male\\n944,Agnesse,Parrish,aparrishq7@thetimes.co.uk,Male\\n945,Ferrell,Espinos,fespinosq8@xinhuanet.com,Female\\n946,Robby,Alp,ralpq9@odnoklassniki.ru,Male\\n947,Latisha,Scarce,lscarceqa@51.la,Male\\n948,Bertina,Veillard,bveillardqb@yahoo.co.jp,Female\\n949,Kendre,Dudding,kduddingqc@altervista.org,Female\\n950,Luis,Riddich,lriddichqd@naver.com,Female\\n951,Abelard,Dangerfield,adangerfieldqe@cam.ac.uk,Female\\n952,Thibaut,Ferryman,tferrymanqf@oaic.gov.au,Male\\n953,Malorie,Allabarton,mallabartonqg@patch.com,Female\\n954,Cherye,Braley,cbraleyqh@nifty.com,Male\\n955,Justus,Drinkeld,jdrinkeldqi@unesco.org,Male\\n956,Harlen,Grisbrook,hgrisbrookqj@latimes.com,Male\\n957,Gretal,Natalie,gnatalieqk@theguardian.com,Male\\n958,Debbie,Trevillion,dtrevillionql@wunderground.com,Male\\n959,Kennith,Jossum,kjossumqm@upenn.edu,Male\\n960,Martainn,Filipchikov,mfilipchikovqn@un.org,Female\\n961,Juliana,Luckcock,jluckcockqo@hatena.ne.jp,Female\\n962,Claudelle,Antill,cantillqp@princeton.edu,Male\\n963,Fanechka,Morefield,fmorefieldqq@mozilla.com,Male\\n964,Koressa,Knevet,kknevetqr@nyu.edu,Female\\n965,Eugene,Cleary,eclearyqs@xing.com,Female\\n966,Tory,Schubbert,tschubbertqt@delicious.com,Female\\n967,Aridatha,Pinkard,apinkardqu@unblog.fr,Male\\n968,Cordi,Heephy,cheephyqv@mtv.com,Female\\n969,Christabella,Tremaine,ctremaineqw@cmu.edu,Male\\n970,Gussy,Dikels,gdikelsqx@admin.ch,Female\\n971,Georgianna,O'Halligan,gohalliganqy@cmu.edu,Male\\n972,Michaelina,Ghio,mghioqz@barnesandnoble.com,Male\\n973,Chicky,Thebeaud,cthebeaudr0@tmall.com,Female\\n974,Adelheid,Collings,acollingsr1@phoca.cz,Male\\n975,Wildon,Gouldstone,wgouldstoner2@noaa.gov,Female\\n976,Peter,Frohock,pfrohockr3@homestead.com,Male\\n977,Merwin,Schrinel,mschrinelr4@elpais.com,Female\\n978,Tim,Simakov,tsimakovr5@phoca.cz,Male\\n979,Darnell,Gildea,dgildear6@microsoft.com,Male\\n980,Fee,Alsobrook,falsobrookr7@ocn.ne.jp,Female\\n981,Manda,Mynott,mmynottr8@prnewswire.com,Male\\n982,Stephanus,O'Siaghail,sosiaghailr9@acquirethisname.com,Female\\n983,Mile,Beves,mbevesra@tinypic.com,Male\\n984,Shandeigh,Harg,shargrb@wikipedia.org,Female\\n985,Kerby,Hovie,khovierc@xrea.com,Female\\n986,Perle,Wilkes,pwilkesrd@sina.com.cn,Male\\n987,Wrennie,Hamner,whamnerre@cargocollective.com,Female\\n988,Esmaria,Jowsey,ejowseyrf@columbia.edu,Female\\n989,Terri-jo,McCane,tmccanerg@answers.com,Male\\n990,Lucienne,Aronov,laronovrh@w3.org,Female\\n991,Mano,Moors,mmoorsri@sfgate.com,Female\\n992,Vladamir,Haggleton,vhaggletonrj@jugem.jp,Female\\n993,Karina,Krelle,kkrellerk@yahoo.com,Male\\n994,Wylie,Plimmer,wplimmerrl@wikispaces.com,Male\\n995,Joli,Doughty,jdoughtyrm@naver.com,Female\\n996,Patsy,Drysdale,pdrysdalern@odnoklassniki.ru,Female\\n997,Winonah,Gealy,wgealyro@pinterest.com,Female\\n998,Gisella,Smartman,gsmartmanrp@amazon.co.uk,Male\\n999,Davon,Turland,dturlandrq@com.com,Male\\n1000,Arnuad,Marple,amarplerr@wsj.com,Female\\n''')"
   ]
  },
  {
   "cell_type": "code",
   "execution_count": 4,
   "id": "3fd93379-7a4f-48fa-9d35-6f1aa749cd1e",
   "metadata": {},
   "outputs": [
    {
     "data": {
      "text/html": [
       "<div>\n",
       "<style scoped>\n",
       "    .dataframe tbody tr th:only-of-type {\n",
       "        vertical-align: middle;\n",
       "    }\n",
       "\n",
       "    .dataframe tbody tr th {\n",
       "        vertical-align: top;\n",
       "    }\n",
       "\n",
       "    .dataframe thead th {\n",
       "        text-align: right;\n",
       "    }\n",
       "</style>\n",
       "<table border=\"1\" class=\"dataframe\">\n",
       "  <thead>\n",
       "    <tr style=\"text-align: right;\">\n",
       "      <th></th>\n",
       "      <th>id</th>\n",
       "      <th>first_name</th>\n",
       "      <th>last_name</th>\n",
       "      <th>email</th>\n",
       "      <th>gender</th>\n",
       "    </tr>\n",
       "  </thead>\n",
       "  <tbody>\n",
       "    <tr>\n",
       "      <th>381</th>\n",
       "      <td>382</td>\n",
       "      <td>Odelinda</td>\n",
       "      <td>Smurthwaite</td>\n",
       "      <td>osmurthwaiteal@google.fr</td>\n",
       "      <td>Male</td>\n",
       "    </tr>\n",
       "    <tr>\n",
       "      <th>375</th>\n",
       "      <td>376</td>\n",
       "      <td>Emmit</td>\n",
       "      <td>Wilby</td>\n",
       "      <td>ewilbyaf@plala.or.jp</td>\n",
       "      <td>Male</td>\n",
       "    </tr>\n",
       "    <tr>\n",
       "      <th>3</th>\n",
       "      <td>4</td>\n",
       "      <td>Yanaton</td>\n",
       "      <td>Chipp</td>\n",
       "      <td>ychipp3@themeforest.net</td>\n",
       "      <td>Male</td>\n",
       "    </tr>\n",
       "    <tr>\n",
       "      <th>960</th>\n",
       "      <td>961</td>\n",
       "      <td>Juliana</td>\n",
       "      <td>Luckcock</td>\n",
       "      <td>jluckcockqo@hatena.ne.jp</td>\n",
       "      <td>Female</td>\n",
       "    </tr>\n",
       "    <tr>\n",
       "      <th>13</th>\n",
       "      <td>14</td>\n",
       "      <td>Gael</td>\n",
       "      <td>Ship</td>\n",
       "      <td>gshipd@storify.com</td>\n",
       "      <td>Female</td>\n",
       "    </tr>\n",
       "  </tbody>\n",
       "</table>\n",
       "</div>"
      ],
      "text/plain": [
       "      id first_name    last_name                     email  gender\n",
       "381  382   Odelinda  Smurthwaite  osmurthwaiteal@google.fr    Male\n",
       "375  376      Emmit        Wilby      ewilbyaf@plala.or.jp    Male\n",
       "3      4    Yanaton        Chipp   ychipp3@themeforest.net    Male\n",
       "960  961    Juliana     Luckcock  jluckcockqo@hatena.ne.jp  Female\n",
       "13    14       Gael         Ship        gshipd@storify.com  Female"
      ]
     },
     "execution_count": 4,
     "metadata": {},
     "output_type": "execute_result"
    }
   ],
   "source": [
    "df_data = pd.read_csv('test1.csv')\n",
    "df_data.sample(n=5)"
   ]
  },
  {
   "cell_type": "code",
   "execution_count": 5,
   "id": "3f968a33-0a4e-4ec9-a760-9b026266bed8",
   "metadata": {},
   "outputs": [
    {
     "name": "stdout",
     "output_type": "stream",
     "text": [
      "<class 'pandas.core.frame.DataFrame'>\n",
      "RangeIndex: 1000 entries, 0 to 999\n",
      "Data columns (total 5 columns):\n",
      " #   Column      Non-Null Count  Dtype \n",
      "---  ------      --------------  ----- \n",
      " 0   id          1000 non-null   int64 \n",
      " 1   first_name  1000 non-null   object\n",
      " 2   last_name   1000 non-null   object\n",
      " 3   email       1000 non-null   object\n",
      " 4   gender      1000 non-null   object\n",
      "dtypes: int64(1), object(4)\n",
      "memory usage: 39.2+ KB\n"
     ]
    }
   ],
   "source": [
    "df_data.info()"
   ]
  },
  {
   "cell_type": "markdown",
   "id": "93f6af38-5219-4b05-846d-d4273a64f086",
   "metadata": {},
   "source": [
    "# 4. Setup PySpark"
   ]
  },
  {
   "cell_type": "code",
   "execution_count": 6,
   "id": "ad2ac730-52c0-4f83-98a8-65e39277e6f5",
   "metadata": {},
   "outputs": [],
   "source": [
    "from pyspark.sql import SparkSession"
   ]
  },
  {
   "cell_type": "code",
   "execution_count": 7,
   "id": "6e3f0d7d-8d79-4655-b12b-d3c1f6316a1d",
   "metadata": {},
   "outputs": [
    {
     "name": "stderr",
     "output_type": "stream",
     "text": [
      "Setting default log level to \"WARN\".\n",
      "To adjust logging level use sc.setLogLevel(newLevel). For SparkR, use setLogLevel(newLevel).\n",
      "24/05/18 15:39:44 WARN NativeCodeLoader: Unable to load native-hadoop library for your platform... using builtin-java classes where applicable\n"
     ]
    },
    {
     "data": {
      "text/html": [
       "\n",
       "            <div>\n",
       "                <p><b>SparkSession - in-memory</b></p>\n",
       "                \n",
       "        <div>\n",
       "            <p><b>SparkContext</b></p>\n",
       "\n",
       "            <p><a href=\"http://fedora:4040\">Spark UI</a></p>\n",
       "\n",
       "            <dl>\n",
       "              <dt>Version</dt>\n",
       "                <dd><code>v3.5.1</code></dd>\n",
       "              <dt>Master</dt>\n",
       "                <dd><code>local[*]</code></dd>\n",
       "              <dt>AppName</dt>\n",
       "                <dd><code>Mockaroo</code></dd>\n",
       "            </dl>\n",
       "        </div>\n",
       "        \n",
       "            </div>\n",
       "        "
      ],
      "text/plain": [
       "<pyspark.sql.session.SparkSession at 0x7fa947f947d0>"
      ]
     },
     "execution_count": 7,
     "metadata": {},
     "output_type": "execute_result"
    }
   ],
   "source": [
    "spark = SparkSession.builder.appName('Mockaroo').getOrCreate()\n",
    "spark"
   ]
  },
  {
   "cell_type": "markdown",
   "id": "bc2f4ea0-81e5-48ad-b816-34682f51d15f",
   "metadata": {},
   "source": [
    "# 5. Load data using PySpark"
   ]
  },
  {
   "cell_type": "code",
   "execution_count": 8,
   "id": "018b9949-564e-44bc-bdb5-50eb93aa63b2",
   "metadata": {},
   "outputs": [
    {
     "name": "stdout",
     "output_type": "stream",
     "text": [
      "+---+----------+------------+--------------------+------+\n",
      "| id|first_name|   last_name|               email|gender|\n",
      "+---+----------+------------+--------------------+------+\n",
      "|  1|     Berni|      Livzey|   blivzey0@yelp.com|  Male|\n",
      "|  2|      Gill|   Shovelton|gshovelton1@spoti...|Female|\n",
      "|  3|    Gabbie|   Kleinbaum|gkleinbaum2@latim...|Female|\n",
      "|  4|   Yanaton|       Chipp|ychipp3@themefore...|  Male|\n",
      "|  5|     Bruce|    Fearnley|   bfearnley4@w3.org|  Male|\n",
      "|  6|     Misha|    Peasgood|mpeasgood5@facebo...|Female|\n",
      "|  7|  Kendrick|      Hearle|     khearle6@go.com|  Male|\n",
      "|  8|    Janeen|        Cram|     jcram7@ucla.edu|Female|\n",
      "|  9|   Devland|      Triggs|dtriggs8@ycombina...|  Male|\n",
      "| 10|       Dre|    Cammidge| dcammidge9@etsy.com|  Male|\n",
      "| 11|  Harmonia|     Akaster|hakastera@twitter...|Female|\n",
      "| 12|     Winna|     Goodday|   wgooddayb@free.fr|Female|\n",
      "| 13|    Lauryn|      Yearby|lyearbyc@amazonaw...|Female|\n",
      "| 14|      Gael|        Ship|  gshipd@storify.com|Female|\n",
      "| 15|  Reginald|     Birbeck|rbirbecke@skyrock...|  Male|\n",
      "| 16|      Shea|    Winspurr|swinspurrf@chron.com|Female|\n",
      "| 17|      June|   de Savery| jdesaveryg@cnet.com|  Male|\n",
      "| 18|     Abbey|Stollsteiner|astollsteinerh@sq...|Female|\n",
      "| 19|      Arda|       Berry| aberryi@nbcnews.com|  Male|\n",
      "| 20|    Mikael|      Ginger|  mgingerj@diigo.com|  Male|\n",
      "+---+----------+------------+--------------------+------+\n",
      "only showing top 20 rows\n",
      "\n"
     ]
    },
    {
     "data": {
      "text/plain": [
       "pyspark.sql.dataframe.DataFrame"
      ]
     },
     "execution_count": 8,
     "metadata": {},
     "output_type": "execute_result"
    }
   ],
   "source": [
    "df_spark = spark.read.csv(\n",
    "    path='test1.csv',\n",
    "    header=True,\n",
    "    inferSchema=True\n",
    ")\n",
    "df_spark.show()\n",
    "type(df_spark)"
   ]
  },
  {
   "cell_type": "code",
   "execution_count": 9,
   "id": "13c446b0-0a33-4485-b389-7fc0a4d963c0",
   "metadata": {},
   "outputs": [
    {
     "name": "stdout",
     "output_type": "stream",
     "text": [
      "root\n",
      " |-- id: integer (nullable = true)\n",
      " |-- first_name: string (nullable = true)\n",
      " |-- last_name: string (nullable = true)\n",
      " |-- email: string (nullable = true)\n",
      " |-- gender: string (nullable = true)\n",
      "\n"
     ]
    }
   ],
   "source": [
    "df_spark.printSchema()"
   ]
  },
  {
   "cell_type": "code",
   "execution_count": 10,
   "id": "f9aadb7c-c2c0-48f6-9a02-4a86ac584a9d",
   "metadata": {},
   "outputs": [
    {
     "data": {
      "text/plain": [
       "['id', 'first_name', 'last_name', 'email', 'gender']"
      ]
     },
     "execution_count": 10,
     "metadata": {},
     "output_type": "execute_result"
    }
   ],
   "source": [
    "df_spark.columns"
   ]
  },
  {
   "cell_type": "markdown",
   "id": "f1084e77-7d31-46db-b985-6c693bd1dbfe",
   "metadata": {},
   "source": [
    "# 6. PySpark Read Operations"
   ]
  },
  {
   "cell_type": "code",
   "execution_count": 11,
   "id": "0cad249b-500c-4a7c-96f0-14dfa3769029",
   "metadata": {},
   "outputs": [
    {
     "name": "stdout",
     "output_type": "stream",
     "text": [
      "+----------+\n",
      "|first_name|\n",
      "+----------+\n",
      "|     Berni|\n",
      "|      Gill|\n",
      "|    Gabbie|\n",
      "|   Yanaton|\n",
      "|     Bruce|\n",
      "|     Misha|\n",
      "|  Kendrick|\n",
      "|    Janeen|\n",
      "|   Devland|\n",
      "|       Dre|\n",
      "|  Harmonia|\n",
      "|     Winna|\n",
      "|    Lauryn|\n",
      "|      Gael|\n",
      "|  Reginald|\n",
      "|      Shea|\n",
      "|      June|\n",
      "|     Abbey|\n",
      "|      Arda|\n",
      "|    Mikael|\n",
      "+----------+\n",
      "only showing top 20 rows\n",
      "\n",
      "+----------+------------+\n",
      "|first_name|   last_name|\n",
      "+----------+------------+\n",
      "|     Berni|      Livzey|\n",
      "|      Gill|   Shovelton|\n",
      "|    Gabbie|   Kleinbaum|\n",
      "|   Yanaton|       Chipp|\n",
      "|     Bruce|    Fearnley|\n",
      "|     Misha|    Peasgood|\n",
      "|  Kendrick|      Hearle|\n",
      "|    Janeen|        Cram|\n",
      "|   Devland|      Triggs|\n",
      "|       Dre|    Cammidge|\n",
      "|  Harmonia|     Akaster|\n",
      "|     Winna|     Goodday|\n",
      "|    Lauryn|      Yearby|\n",
      "|      Gael|        Ship|\n",
      "|  Reginald|     Birbeck|\n",
      "|      Shea|    Winspurr|\n",
      "|      June|   de Savery|\n",
      "|     Abbey|Stollsteiner|\n",
      "|      Arda|       Berry|\n",
      "|    Mikael|      Ginger|\n",
      "+----------+------------+\n",
      "only showing top 20 rows\n",
      "\n"
     ]
    }
   ],
   "source": [
    "df_spark.select('first_name').show()\n",
    "df_spark.select(['first_name', 'last_name']).show()\n",
    "# df_spark['first_name'].show() # Error, cannot call show directly in column"
   ]
  },
  {
   "cell_type": "code",
   "execution_count": 12,
   "id": "293c2aa5-8c2a-403e-8d18-a261b9998147",
   "metadata": {},
   "outputs": [
    {
     "name": "stderr",
     "output_type": "stream",
     "text": [
      "24/05/18 15:39:51 WARN SparkStringUtils: Truncated the string representation of a plan since it was too large. This behavior can be adjusted by setting 'spark.sql.debug.maxToStringFields'.\n"
     ]
    },
    {
     "name": "stdout",
     "output_type": "stream",
     "text": [
      "+-------+-----------------+----------+---------+--------------------+------+\n",
      "|summary|               id|first_name|last_name|               email|gender|\n",
      "+-------+-----------------+----------+---------+--------------------+------+\n",
      "|  count|             1000|      1000|     1000|                1000|  1000|\n",
      "|   mean|            500.5|      NULL|     NULL|                NULL|  NULL|\n",
      "| stddev|288.8194360957494|      NULL|     NULL|                NULL|  NULL|\n",
      "|    min|                1|     Abbey|    Abate|aanearel@moonfrui...|Female|\n",
      "|    max|             1000|   Zsa zsa|de Savery| ztyrwhittji@hud.gov|  Male|\n",
      "+-------+-----------------+----------+---------+--------------------+------+\n",
      "\n"
     ]
    }
   ],
   "source": [
    "df_spark.describe().show()"
   ]
  },
  {
   "cell_type": "markdown",
   "id": "8d205c23-5d15-444c-9142-a1ea530b6864",
   "metadata": {},
   "source": [
    "# 7. PySpark Column Operations"
   ]
  },
  {
   "cell_type": "markdown",
   "id": "4aef5b08-b965-4622-85f4-2255e726443b",
   "metadata": {},
   "source": [
    "## 7.1. Get column (or create if not exists) and assign a value"
   ]
  },
  {
   "cell_type": "code",
   "execution_count": 13,
   "id": "8cd0c399-717f-4f89-8ee4-e7ea70d68ddf",
   "metadata": {},
   "outputs": [
    {
     "name": "stdout",
     "output_type": "stream",
     "text": [
      "+---+----------+------------+--------------------+------+---+\n",
      "| id|first_name|   last_name|               email|gender|age|\n",
      "+---+----------+------------+--------------------+------+---+\n",
      "|  1|     Berni|      Livzey|   blivzey0@yelp.com|  Male|  4|\n",
      "|  2|      Gill|   Shovelton|gshovelton1@spoti...|Female|  5|\n",
      "|  3|    Gabbie|   Kleinbaum|gkleinbaum2@latim...|Female|  6|\n",
      "|  4|   Yanaton|       Chipp|ychipp3@themefore...|  Male|  7|\n",
      "|  5|     Bruce|    Fearnley|   bfearnley4@w3.org|  Male|  8|\n",
      "|  6|     Misha|    Peasgood|mpeasgood5@facebo...|Female|  9|\n",
      "|  7|  Kendrick|      Hearle|     khearle6@go.com|  Male| 10|\n",
      "|  8|    Janeen|        Cram|     jcram7@ucla.edu|Female| 11|\n",
      "|  9|   Devland|      Triggs|dtriggs8@ycombina...|  Male| 12|\n",
      "| 10|       Dre|    Cammidge| dcammidge9@etsy.com|  Male| 13|\n",
      "| 11|  Harmonia|     Akaster|hakastera@twitter...|Female| 14|\n",
      "| 12|     Winna|     Goodday|   wgooddayb@free.fr|Female| 15|\n",
      "| 13|    Lauryn|      Yearby|lyearbyc@amazonaw...|Female| 16|\n",
      "| 14|      Gael|        Ship|  gshipd@storify.com|Female| 17|\n",
      "| 15|  Reginald|     Birbeck|rbirbecke@skyrock...|  Male| 18|\n",
      "| 16|      Shea|    Winspurr|swinspurrf@chron.com|Female| 19|\n",
      "| 17|      June|   de Savery| jdesaveryg@cnet.com|  Male| 20|\n",
      "| 18|     Abbey|Stollsteiner|astollsteinerh@sq...|Female| 21|\n",
      "| 19|      Arda|       Berry| aberryi@nbcnews.com|  Male| 22|\n",
      "| 20|    Mikael|      Ginger|  mgingerj@diigo.com|  Male| 23|\n",
      "+---+----------+------------+--------------------+------+---+\n",
      "only showing top 20 rows\n",
      "\n"
     ]
    }
   ],
   "source": [
    "df_spark = df_spark.withColumn('age', df_spark['id']+3)\n",
    "df_spark.show()"
   ]
  },
  {
   "cell_type": "markdown",
   "id": "25277c53-20be-4d4d-a7dc-53819a5499d0",
   "metadata": {},
   "source": [
    "## 7.2. Drop column(s)"
   ]
  },
  {
   "cell_type": "code",
   "execution_count": 14,
   "id": "337d1372-2726-4666-ad30-9a899269640b",
   "metadata": {},
   "outputs": [
    {
     "name": "stdout",
     "output_type": "stream",
     "text": [
      "+---+----------+------------+---+\n",
      "| id|first_name|   last_name|age|\n",
      "+---+----------+------------+---+\n",
      "|  1|     Berni|      Livzey|  4|\n",
      "|  2|      Gill|   Shovelton|  5|\n",
      "|  3|    Gabbie|   Kleinbaum|  6|\n",
      "|  4|   Yanaton|       Chipp|  7|\n",
      "|  5|     Bruce|    Fearnley|  8|\n",
      "|  6|     Misha|    Peasgood|  9|\n",
      "|  7|  Kendrick|      Hearle| 10|\n",
      "|  8|    Janeen|        Cram| 11|\n",
      "|  9|   Devland|      Triggs| 12|\n",
      "| 10|       Dre|    Cammidge| 13|\n",
      "| 11|  Harmonia|     Akaster| 14|\n",
      "| 12|     Winna|     Goodday| 15|\n",
      "| 13|    Lauryn|      Yearby| 16|\n",
      "| 14|      Gael|        Ship| 17|\n",
      "| 15|  Reginald|     Birbeck| 18|\n",
      "| 16|      Shea|    Winspurr| 19|\n",
      "| 17|      June|   de Savery| 20|\n",
      "| 18|     Abbey|Stollsteiner| 21|\n",
      "| 19|      Arda|       Berry| 22|\n",
      "| 20|    Mikael|      Ginger| 23|\n",
      "+---+----------+------------+---+\n",
      "only showing top 20 rows\n",
      "\n"
     ]
    }
   ],
   "source": [
    "df_spark = df_spark.drop('email', 'gender')\n",
    "df_spark.show()"
   ]
  },
  {
   "cell_type": "markdown",
   "id": "5dab2bc8-e68c-488b-898c-0813b0002869",
   "metadata": {},
   "source": [
    "## 7.3. Rename column"
   ]
  },
  {
   "cell_type": "code",
   "execution_count": 15,
   "id": "038a04e1-d782-48a7-87bc-a9059ec857a1",
   "metadata": {},
   "outputs": [
    {
     "name": "stdout",
     "output_type": "stream",
     "text": [
      "+---+----------+------------+-----------------+\n",
      "| id|first_name|   last_name|years_since_birth|\n",
      "+---+----------+------------+-----------------+\n",
      "|  1|     Berni|      Livzey|                4|\n",
      "|  2|      Gill|   Shovelton|                5|\n",
      "|  3|    Gabbie|   Kleinbaum|                6|\n",
      "|  4|   Yanaton|       Chipp|                7|\n",
      "|  5|     Bruce|    Fearnley|                8|\n",
      "|  6|     Misha|    Peasgood|                9|\n",
      "|  7|  Kendrick|      Hearle|               10|\n",
      "|  8|    Janeen|        Cram|               11|\n",
      "|  9|   Devland|      Triggs|               12|\n",
      "| 10|       Dre|    Cammidge|               13|\n",
      "| 11|  Harmonia|     Akaster|               14|\n",
      "| 12|     Winna|     Goodday|               15|\n",
      "| 13|    Lauryn|      Yearby|               16|\n",
      "| 14|      Gael|        Ship|               17|\n",
      "| 15|  Reginald|     Birbeck|               18|\n",
      "| 16|      Shea|    Winspurr|               19|\n",
      "| 17|      June|   de Savery|               20|\n",
      "| 18|     Abbey|Stollsteiner|               21|\n",
      "| 19|      Arda|       Berry|               22|\n",
      "| 20|    Mikael|      Ginger|               23|\n",
      "+---+----------+------------+-----------------+\n",
      "only showing top 20 rows\n",
      "\n"
     ]
    }
   ],
   "source": [
    "df_spark = df_spark.withColumnRenamed('age', 'years_since_birth')\n",
    "df_spark.show()"
   ]
  },
  {
   "cell_type": "markdown",
   "id": "dfc3c785-f392-4579-b520-d5237eecda52",
   "metadata": {},
   "source": [
    "# 8. Error Handling"
   ]
  },
  {
   "cell_type": "markdown",
   "id": "746d2621-7974-40c1-a353-7667f5f4b06b",
   "metadata": {},
   "source": [
    "## 8.1. Setup data with errors"
   ]
  },
  {
   "cell_type": "code",
   "execution_count": 16,
   "id": "fbc1a529-3f1f-46a3-a488-005e0efadc3a",
   "metadata": {},
   "outputs": [],
   "source": [
    "# Created using Mockaroo\n",
    "with open('test2.csv', mode='w') as f:\n",
    "    f.write('''id,first_name,last_name,email,gender,age,username,location\\n1,Chip,Gannaway,,Female,1,cgannaway0,\\n2,Benny,Habbon,bhabbon1@hatena.ne.jp,,,bhabbon1,\\n3,Ev,Foyster,efoyster2@nature.com,Male,,efoyster2,2948 Badeau Street\\n4,Ailene,Orrick,aorrick3@wisc.edu,Male,,aorrick3,90248 Delaware Plaza\\n5,Mommy,,mbauchop4@360.cn,,5,mdwane4,\\n6,Rossy,Bourtoumieux,rbourtoumieux5@latimes.com,Female,,rbourtoumieux5,6 3rd Point\\n7,Raddie,Limbert,,,7,rlimbert6,\\n8,Lizzie,Gentry,lgentry7@nydailynews.com,Male,,lgentry7,\\n9,Koren,Jankowski,kjankowski8@google.es,Female,9,kjankowski8,8711 Leroy Lane\\n10,Ranee,Purseglove,,Female,,rpurseglove9,1279 Stoughton Way\\n11,Rosalinde,Hadaway,rhadawaya@google.com.au,Male,11,rhadawaya,7162 Welch Terrace\\n12,Hershel,De Bischof,,Female,,hdebischofb,\\n13,Lilli,Sibly,,Male,,lsiblyc,63204 Starling Hill\\n14,Kissie,Clorley,kclorleyd@barnesandnoble.com,Male,,kclorleyd,\\n15,Carolyn,Docwra,,Female,,cdocwrae,\\n16,Reinaldos,Fetherstan,,Male,,rfetherstanf,\\n17,Cullie,Lamshead,clamsheadg@blogtalkradio.com,,17,clamsheadg,\\n18,Noella,Tivers,ntiversh@1688.com,Female,18,ntiversh,\\n19,Burton,,,Male,19,bpfefflei,\\n20,Clim,Hender,chenderj@facebook.com,Male,,chenderj,\\n21,Konstantine,Hearnshaw,khearnshawk@mlb.com,Male,,khearnshawk,\\n22,Thaddeus,Stanesby,tstanesbyl@wix.com,Male,,tstanesbyl,\\n23,Lyndsey,,lfoukxm@flavors.me,Male,,llilleycropm,\\n24,Perice,Dast,,Male,24,pdastn,\\n25,Petr,Barnardo,pbarnardoo@buzzfeed.com,Male,25,pbarnardoo,\\n26,Jaime,Heaselgrave,jheaselgravep@wikimedia.org,,26,jheaselgravep,97329 Ludington Lane\\n27,Callida,Popescu,cpopescuq@nasa.gov,Male,,cpopescuq,67 Village Green Lane\\n28,Paulita,,psimmsr@independent.co.uk,Male,,pdaymondr,\\n29,Suzanne,Colledge,,Male,,scolledges,699 Graceland Junction\\n30,Coriss,Duthy,cduthyt@slashdot.org,Female,30,cduthyt,852 Waubesa Center\\n31,Deanne,Vere,dvereu@edublogs.org,Female,,dvereu,\\n32,Gerald,,,Male,,gwozencroftv,1843 Birchwood Hill\\n33,Shirlene,,sizonw@msu.edu,Female,,slewtyw,\\n34,Ramon,,rshovelbottomx@scribd.com,Male,,rratkex,\\n35,Shanda,Diwell,sdiwelly@state.tx.us,Male,35,sdiwelly,\\n36,Derrick,Mostin,dmostinz@reuters.com,Male,36,dmostinz,\\n37,Kit,Milton,kmilton10@hhs.gov,Female,37,kmilton10,29635 Oak Drive\\n38,Leela,Stoile,,Male,38,lstoile11,\\n39,Marrilee,Suckling,,Female,,msuckling12,\\n40,Annetta,,,Male,,asmithson13,3 Crest Line Trail\\n41,Farris,Zanassi,fzanassi14@newsvine.com,Female,,fzanassi14,\\n42,Miof mela,Gierardi,mgierardi15@issuu.com,,42,mgierardi15,\\n43,Loralyn,Fildery,,,43,lfildery16,\\n44,Fredi,Surplice,fsurplice17@comsenz.com,Male,,fsurplice17,69 Dennis Road\\n45,Gav,Gudge,ggudge18@addthis.com,Male,45,ggudge18,20 Center Court\\n46,Serene,Townby,,,46,stownby19,13102 Sutteridge Way\\n47,Alyssa,,amarquese1a@accuweather.com,Female,,ahutchinges1a,16411 Scott Drive\\n48,Boy,,,Male,,btroker1b,\\n49,Clint,,cbompas1c@walmart.com,Female,49,cdarlaston1c,06251 Nevada Park\\n50,Allegra,Ohlsen,aohlsen1d@typepad.com,Female,50,aohlsen1d,32634 Miller Hill\\n51,Mac,Delort,mdelort1e@msu.edu,Male,,mdelort1e,\\n52,Nappy,Panton,,Male,,npanton1f,\\n53,Danila,Crofts,dcrofts1g@google.com.br,Male,53,dcrofts1g,\\n54,Barbara-anne,Climie,bclimie1h@clickbank.net,Male,54,bclimie1h,245 6th Crossing\\n55,Grange,Dzenisenka,,Male,55,gdzenisenka1i,\\n56,Valeda,Oughtright,voughtright1j@nationalgeographic.com,Female,,voughtright1j,\\n57,Morgen,,mlaundon1k@cnn.com,Male,57,mchildes1k,\\n58,Adolf,Hubbins,ahubbins1l@people.com.cn,,58,ahubbins1l,\\n59,Celia,Gratrix,cgratrix1m@miibeian.gov.cn,Male,59,cgratrix1m,\\n60,Malanie,Lowne,mlowne1n@ft.com,Female,,mlowne1n,\\n61,Cherise,MacMarcuis,cmacmarcuis1o@msn.com,Female,,cmacmarcuis1o,\\n62,Margaret,O'Nion,monion1p@cdc.gov,Male,,monion1p,\\n63,Matilde,Decourcy,mdecourcy1q@msu.edu,Female,63,mdecourcy1q,584 Lillian Street\\n64,Galvin,Andreev,gandreev1r@admin.ch,Male,,gandreev1r,\\n65,Roobbie,Harrison,rharrison1s@wordpress.com,,65,rharrison1s,\\n66,Bonnibelle,Garment,,Female,66,bgarment1t,\\n67,Ruthie,Josephy,,Male,67,rjosephy1u,\\n68,Morey,,mmusgrave1v@bing.com,,,mkubis1v,\\n69,Faber,Rockall,frockall1w@shareasale.com,,,frockall1w,\\n70,Danyette,,dsmallacombe1x@timesonline.co.uk,Male,,doreagan1x,\\n71,Reiko,Couves,rcouves1y@mysql.com,Female,71,rcouves1y,2463 Summerview Way\\n72,Job,Moynihan,jmoynihan1z@behance.net,Male,72,jmoynihan1z,\\n73,Ferris,Call,fcall20@imgur.com,,73,fcall20,\\n74,Rhodie,Brookwood,,Female,,rbrookwood21,0 Loomis Road\\n75,Alberik,Hostan,,Female,75,ahostan22,\\n76,Babs,,,Male,,bturfrey23,\\n77,Parker,Billingsley,,Male,,pbillingsley24,\\n78,Tito,,thamal25@chicagotribune.com,Female,78,tpink25,\\n79,Lilyan,Newey,lnewey26@over-blog.com,Male,79,lnewey26,\\n80,April,Pirouet,apirouet27@nasa.gov,,80,apirouet27,3 Mesta Hill\\n81,Kare,McCallion,kmccallion28@dailymotion.com,,81,kmccallion28,\\n82,Olympe,Skipworth,oskipworth29@yolasite.com,Male,,oskipworth29,\\n83,Aldous,Brennenstuhl,,Male,,abrennenstuhl2a,\\n84,Francisca,Quadri,fquadri2b@oakley.com,Male,84,fquadri2b,\\n85,Camila,,,Female,85,cswains2c,7 3rd Drive\\n86,Cathie,Origin,,,,corigin2d,\\n87,Tadio,Bawles,tbawles2e@newyorker.com,Female,87,tbawles2e,\\n88,Matteo,Cartner,mcartner2f@narod.ru,Female,,mcartner2f,\\n89,Sheridan,Rayman,srayman2g@google.cn,,,srayman2g,105 Corry Trail\\n90,Horst,,hsnel2h@webmd.com,Female,,horbine2h,\\n91,Hephzibah,,,Female,,hcrawshaw2i,39528 Stephen Street\\n92,Melisent,Larmor,mlarmor2j@gizmodo.com,,,mlarmor2j,4 Kim Terrace\\n93,Jessie,Choat,,Male,,jchoat2k,96 Sloan Court\\n94,Barnabe,Martynikhin,bmartynikhin2l@flavors.me,Male,94,bmartynikhin2l,\\n95,Sherline,Bockings,,Female,95,sbockings2m,\\n96,Karim,Sillars,ksillars2n@msn.com,Female,,ksillars2n,\\n97,Lynn,,lrowlings2o@networkadvertising.org,Male,,loldman2o,\\n98,Layla,,lclaffey2p@friendfeed.com,Female,,lsute2p,\\n99,Ripley,Garrals,,Female,99,rgarrals2q,38 Monument Circle\\n100,Karyl,Cathel,,Male,,kcathel2r,\\n101,Yardley,Arthars,yarthars2s@latimes.com,Male,101,yarthars2s,\\n102,Ransell,,rfishlock2t@4shared.com,,102,rlepruvost2t,\\n103,Dawn,Cathie,,Female,103,dcathie2u,\\n104,Janot,Cusiter,jcusiter2v@google.es,Male,,jcusiter2v,\\n105,Sanson,Boldero,sboldero2w@hubpages.com,Female,105,sboldero2w,\\n106,Corey,,cwork2x@bandcamp.com,Female,106,cnare2x,\\n107,Helaine,Flaubert,hflaubert2y@state.gov,Female,107,hflaubert2y,\\n108,Gabbey,Cookes,gcookes2z@indiegogo.com,,,gcookes2z,\\n109,Juanita,Barcke,jbarcke30@indiegogo.com,Male,,jbarcke30,\\n110,Aldis,,,Female,,astarr31,\\n111,Amelita,Phillpot,aphillpot32@blinklist.com,Male,111,aphillpot32,\\n112,Layne,Tristram,ltristram33@woothemes.com,Male,,ltristram33,7936 Fuller Center\\n113,Junie,Speenden,jspeenden34@prlog.org,Male,113,jspeenden34,\\n114,Hillard,,hnelane35@webnode.com,Female,,hfourmy35,\\n115,Ginni,McGarel,,Male,115,gmcgarel36,39132 Utah Trail\\n116,Doro,Culp,,,116,dculp37,\\n117,Obediah,Goligly,,Female,,ogoligly38,38117 Ruskin Center\\n118,Hedy,Orys,horys39@com.com,Female,118,horys39,\\n119,Sarene,,sambrogi3a@mlb.com,Male,119,ssneller3a,2215 Tennessee Trail\\n120,Carlie,Raspel,,Female,120,craspel3b,79 Dovetail Street\\n121,Charlotta,Tanslie,ctanslie3c@ucla.edu,Female,121,ctanslie3c,\\n122,Ripley,Bosquet,rbosquet3d@salon.com,Male,,rbosquet3d,\\n123,Nial,,nlefridge3e@wsj.com,Male,123,netteridge3e,\\n124,Morgana,Dedman,mdedman3f@thetimes.co.uk,Male,,mdedman3f,\\n125,Waverley,Hubball,,,125,whubball3g,\\n126,Loydie,Cristofolo,lcristofolo3h@miitbeian.gov.cn,Male,,lcristofolo3h,\\n127,Clarabelle,Granleese,,Male,,cgranleese3i,\\n128,Lavina,Huitson,lhuitson3j@google.es,Male,128,lhuitson3j,\\n129,Milena,Gilby,mgilby3k@msu.edu,Female,,mgilby3k,\\n130,Lebbie,Dulany,ldulany3l@rakuten.co.jp,Female,130,ldulany3l,\\n131,Caty,,cclaybourn3m@macromedia.com,Male,131,cbonhill3m,\\n132,Ofella,Chaffyn,ochaffyn3n@seattletimes.com,Female,,ochaffyn3n,\\n133,Drake,Boyan,,Male,133,dboyan3o,2 Elgar Point\\n134,Linette,,lgouldie3p@umn.edu,Female,,lloftin3p,\\n135,Kenyon,,,Female,,kaishford3q,\\n136,Muffin,Dumphy,mdumphy3r@slate.com,Male,136,mdumphy3r,\\n137,Lettie,Blanko,lblanko3s@technorati.com,Female,,lblanko3s,\\n138,Kathryn,,,Female,138,kfresson3t,\\n139,Collen,Melloi,,Male,,cmelloi3u,90 Vera Plaza\\n140,Stanwood,,,Male,140,ssomerled3v,\\n141,Jonie,Paulat,,Female,141,jpaulat3w,58804 8th Plaza\\n142,Alis,Wilkenson,awilkenson3x@studiopress.com,Male,,awilkenson3x,925 Oak Lane\\n143,Melinda,,mdanzig3y@apple.com,Male,143,mchaperlin3y,97 Fieldstone Hill\\n144,Taber,Botting,tbotting3z@pbs.org,Female,144,tbotting3z,0711 Riverside Plaza\\n145,Marni,Critchard,mcritchard40@youtube.com,Male,145,mcritchard40,\\n146,Chlo,Duffit,,Female,,cduffit41,\\n147,Bettye,Tydd,btydd42@mozilla.com,Male,147,btydd42,\\n148,Nye,Tuting,ntuting43@shareasale.com,Male,,ntuting43,61392 Meadow Valley Pass\\n149,Brendin,Dargue,bdargue44@jigsy.com,Male,,bdargue44,20 Dryden Crossing\\n150,Esmeralda,,,Male,150,eflorez45,\\n151,Lilli,Bignold,lbignold46@seattletimes.com,Female,151,lbignold46,5026 Straubel Court\\n152,Bliss,Ledrun,,Male,,bledrun47,\\n153,Grace,Heaps,,Female,,gheaps48,72 Gateway Alley\\n154,Delphinia,Rumney,,Female,,drumney49,\\n155,Ian,,ipellington4a@live.com,,,imeany4a,8 Debs Crossing\\n156,Ysabel,,,Female,156,ygodbert4b,2 Jenna Plaza\\n157,Katinka,Culcheth,,Male,,kculcheth4c,\\n158,Catriona,Nardrup,cnardrup4d@reference.com,Female,,cnardrup4d,\\n159,Blakelee,,bbonnor4e@lulu.com,Female,159,bcorbert4e,6 Birchwood Circle\\n160,Rosita,Zanneli,rzanneli4f@home.pl,Male,160,rzanneli4f,\\n161,Joete,,,Female,,jchattell4g,\\n162,Meade,,mturton4h@yelp.com,,162,mjeschner4h,\\n163,Elberta,Macenzy,,Female,163,emacenzy4i,\\n164,Warde,,,Female,164,wberth4j,\\n165,Koren,Badrock,kbadrock4k@oakley.com,Male,165,kbadrock4k,\\n166,Jasper,Bim,jbim4l@irs.gov,Male,,jbim4l,4 Moland Junction\\n167,Dore,Prator,dprator4m@va.gov,Female,,dprator4m,\\n168,Annamarie,O'Glessane,aoglessane4n@indiatimes.com,Male,,aoglessane4n,6902 Village Green Road\\n169,Friederike,,fandrzejak4o@oracle.com,,,fmeale4o,\\n170,Hirsch,,hcreedland4p@pen.io,Male,170,hchristensen4p,\\n171,Nahum,Barbara,nbarbara4q@ifeng.com,Female,,nbarbara4q,\\n172,Bertie,Cay,bcay4r@wufoo.com,,172,bcay4r,7 Namekagon Terrace\\n173,Brana,Backs,bbacks4s@illinois.edu,Male,,bbacks4s,\\n174,Jacquette,Pointon,,Male,,jpointon4t,\\n175,Anissa,,aduhamel4u@4shared.com,Male,175,abrissard4u,40823 Scott Lane\\n176,Chrissie,Grassot,,,176,cgrassot4v,\\n177,Ferdinanda,Ziebart,,Male,,fziebart4w,\\n178,Peter,Sands,psands4x@engadget.com,,,psands4x,\\n179,Theobald,Scotsbrook,tscotsbrook4y@t-online.de,Male,179,tscotsbrook4y,\\n180,Ariel,Lyddyard,,,,alyddyard4z,\\n181,Zeke,,zcawthorn50@walmart.com,Male,181,zfortin50,\\n182,Kinny,Hallgalley,,Male,,khallgalley51,\\n183,Baudoin,Ivashov,,,183,bivashov52,026 Anderson Court\\n184,Gene,Jeandel,gjeandel53@china.com.cn,Female,,gjeandel53,\\n185,Currie,Kadwallider,ckadwallider54@nbcnews.com,Female,,ckadwallider54,\\n186,Rahal,Witten,,Female,186,rwitten55,\\n187,Kristal,Mansel,kmansel56@prnewswire.com,Female,187,kmansel56,\\n188,Valentia,Risbridge,vrisbridge57@sphinn.com,Male,188,vrisbridge57,\\n189,Frederic,Sherburn,fsherburn58@aol.com,Male,,fsherburn58,103 Haas Drive\\n190,Elsbeth,Stolz,,Female,,estolz59,\\n191,Hunfredo,,hborrott5a@nymag.com,Female,191,hfolbig5a,\\n192,Teresita,Dulake,tdulake5b@mediafire.com,Male,192,tdulake5b,\\n193,Farah,Lenden,,Female,,flenden5c,\\n194,Lyndsay,Liggins,,,194,lliggins5d,\\n195,Allys,Aleksashin,aaleksashin5e@i2i.jp,Female,195,aaleksashin5e,\\n196,Cos,,,,196,cgolson5f,\\n197,Nial,Sturman,,Female,197,nsturman5g,\\n198,Archy,Gudgen,agudgen5h@topsy.com,Female,,agudgen5h,\\n199,Terrye,Thomelin,tthomelin5i@bigcartel.com,,199,tthomelin5i,74684 Hallows Park\\n200,Quinta,Twallin,qtwallin5j@blinklist.com,Male,200,qtwallin5j,\\n201,Wynny,Senussi,,Female,,wsenussi5k,8847 Manitowish Center\\n202,Val,Bossingham,vbossingham5l@youtube.com,Male,,vbossingham5l,30153 Karstens Park\\n203,Anna-diane,Wheway,awheway5m@barnesandnoble.com,Male,,awheway5m,4127 Carey Way\\n204,Vale,Gorgler,,Male,204,vgorgler5n,\\n205,Lelah,Phlippi,lphlippi5o@usgs.gov,Male,205,lphlippi5o,20021 Banding Center\\n206,Adina,Gotecliffe,,,206,agotecliffe5p,\\n207,Clementina,Norker,cnorker5q@sun.com,Male,207,cnorker5q,47679 Vahlen Plaza\\n208,Mordecai,Shears,mshears5r@zdnet.com,Male,208,mshears5r,\\n209,Karrah,Cella,kcella5s@google.es,Female,209,kcella5s,6808 Stang Terrace\\n210,Lucina,Goodsir,lgoodsir5t@prlog.org,Male,210,lgoodsir5t,\\n211,Aida,Rosenkrantz,arosenkrantz5u@ocn.ne.jp,Female,,arosenkrantz5u,\\n212,Nev,,njoynson5v@guardian.co.uk,Female,,nbarlace5v,\\n213,Ajay,,adifrancesco5w@dion.ne.jp,Female,,amcgilroy5w,\\n214,June,Camsey,,Female,214,jcamsey5x,\\n215,Melesa,,mleng5y@wordpress.org,Male,,mmatejic5y,\\n216,Carma,Flukes,cflukes5z@archive.org,Male,,cflukes5z,3000 Merry Circle\\n217,Atlante,Greiser,agreiser60@etsy.com,Male,217,agreiser60,\\n218,Carie,Josselsohn,,,218,cjosselsohn61,\\n219,Elbertine,Lintott,,Female,,elintott62,\\n220,Flory,,fbendson63@cargocollective.com,Female,220,fshanahan63,\\n221,Amie,Dace,adace64@homestead.com,,221,adace64,\\n222,Linea,Bew,lbew65@canalblog.com,Male,,lbew65,\\n223,Teddy,,tdoddemeede66@ihg.com,Male,223,tfolkerd66,01 Little Fleur Street\\n224,Orson,,orodnight67@taobao.com,,224,owhitney67,77303 Crest Line Road\\n225,Karna,,,Male,,ktanti68,\\n226,Marysa,Axup,,Male,,maxup69,\\n227,Kelsy,Whellams,kwhellams6a@stanford.edu,Male,227,kwhellams6a,295 Anniversary Center\\n228,Noland,Lovell,nlovell6b@apache.org,Male,228,nlovell6b,\\n229,Ninetta,Leas,,Male,229,nleas6c,\\n230,Trudi,Stickler,tstickler6d@java.com,Male,,tstickler6d,\\n231,Rem,Goscomb,rgoscomb6e@fema.gov,Female,,rgoscomb6e,\\n232,Padraic,MacQueen,pmacqueen6f@cnbc.com,Male,232,pmacqueen6f,9 Texas Avenue\\n233,Conrade,Chessill,cchessill6g@imdb.com,Male,233,cchessill6g,\\n234,Sascha,Ofer,sofer6h@yale.edu,Female,234,sofer6h,1 Shasta Drive\\n235,Querida,Ogden,,Male,,qogden6i,\\n236,Vita,Lilly,,Female,236,vlilly6j,\\n237,Preston,Yakovich,pyakovich6k@go.com,,237,pyakovich6k,\\n238,Trudi,Winsor,twinsor6l@mapquest.com,Male,,twinsor6l,\\n239,Kara,Hamments,khamments6m@skyrock.com,,,khamments6m,\\n240,Britta,,,Female,,bsunner6n,258 Hoepker Way\\n241,Saxe,Kilgour,,Male,,skilgour6o,63039 Merrick Circle\\n242,Margareta,Frake,mfrake6p@wikia.com,Female,,mfrake6p,\\n243,Ivor,Surr,,Male,243,isurr6q,03 Messerschmidt Circle\\n244,Cheryl,Hegerty,,,244,chegerty6r,31732 Prentice Trail\\n245,Archy,Napton,anapton6s@microsoft.com,Female,,anapton6s,\\n246,Taddeusz,Kennea,tkennea6t@mashable.com,Female,,tkennea6t,\\n247,Ringo,Bruhnicke,rbruhnicke6u@apache.org,Male,247,rbruhnicke6u,53156 Jenna Trail\\n248,Parnell,Bradnocke,,Male,248,pbradnocke6v,\\n249,Barnabas,Benedettini,bbenedettini6w@youtu.be,Female,,bbenedettini6w,\\n250,Chaim,Everex,ceverex6x@topsy.com,Female,,ceverex6x,\\n251,Janessa,McGlone,,Male,,jmcglone6y,67066 Columbus Crossing\\n252,Mabelle,Smither,,,,msmither6z,\\n253,Deidre,,druddiman70@bizjournals.com,Female,253,dbullas70,\\n254,Johan,Gormally,jgormally71@netlog.com,Female,254,jgormally71,\\n255,Sanderson,Busswell,sbusswell72@list-manage.com,Male,255,sbusswell72,\\n256,Pavlov,Janik,pjanik73@wiley.com,Female,256,pjanik73,9901 Arkansas Terrace\\n257,Jecho,Pyson,jpyson74@businesswire.com,Female,257,jpyson74,21482 Scott Road\\n258,Reuven,Dagleas,rdagleas75@businesswire.com,,258,rdagleas75,\\n259,Valerie,Woliter,,Male,259,vwoliter76,\\n260,Archibaldo,Ghilks,aghilks77@slate.com,Female,260,aghilks77,54824 Maple Wood Crossing\\n261,Daryle,Jacobsz,djacobsz78@noaa.gov,Female,261,djacobsz78,9441 Superior Terrace\\n262,Carolina,Thompstone,cthompstone79@goodreads.com,Male,262,cthompstone79,\\n263,Tootsie,McConville,tmcconville7a@posterous.com,,,tmcconville7a,\\n264,Carlotta,Pickford,cpickford7b@forbes.com,,264,cpickford7b,\\n265,Gustie,,gsakins7c@bizjournals.com,Male,,glibermore7c,\\n266,Jake,Bathersby,jbathersby7d@dyndns.org,Male,266,jbathersby7d,031 Gina Lane\\n267,Randy,,rdaelman7e@networkadvertising.org,Female,267,rpuddifer7e,\\n268,Paddy,Bestall,pbestall7f@hubpages.com,Female,268,pbestall7f,75299 Bunting Street\\n269,Kelsy,McDonell,kmcdonell7g@youtube.com,Male,,kmcdonell7g,\\n270,Doe,Roggers,,Male,,droggers7h,\\n271,Siegfried,Campany,,,271,scampany7i,\\n272,Ellerey,Auld,,,272,eauld7j,\\n273,Cherin,Girardet,,Male,,cgirardet7k,\\n274,Amara,Leeming,aleeming7l@storify.com,Female,274,aleeming7l,\\n275,Hedy,Perritt,hperritt7m@reference.com,Female,275,hperritt7m,\\n276,Odelle,,obramsom7n@msn.com,Female,,odurdy7n,87338 Boyd Center\\n277,Baxy,,bharder7o@fotki.com,Female,,blammin7o,\\n278,Rivkah,,,Female,,rsmales7p,14 Twin Pines Court\\n279,Mignon,Vedekhov,mvedekhov7q@dedecms.com,Female,279,mvedekhov7q,\\n280,Deeyn,Haburne,dhaburne7r@globo.com,Female,,dhaburne7r,126 Jackson Pass\\n281,Susanna,,,Male,281,strever7s,\\n282,Inge,Blasik,,Male,,iblasik7t,\\n283,Kimmi,,kbreakwell7u@nih.gov,Female,,kleyfield7u,\\n284,Haskel,Tasseler,htasseler7v@dedecms.com,Female,,htasseler7v,70 Gulseth Place\\n285,Jameson,McGuckin,,Female,,jmcguckin7w,\\n286,Cordula,Lux,clux7x@facebook.com,Female,,clux7x,\\n287,Eward,Cawtheray,,Female,287,ecawtheray7y,960 Autumn Leaf Lane\\n288,Nelie,Rudgerd,,Female,288,nrudgerd7z,\\n289,Pasquale,Whyte,,Male,289,pwhyte80,7938 Oneill Center\\n290,Wilbert,,,Male,290,wadamolli81,\\n291,Pail,Crosher,,Male,,pcrosher82,\\n292,Wallace,De Laci,wdelaci83@deliciousdays.com,Male,292,wdelaci83,5171 Towne Street\\n293,Kimberly,McGaughie,kmcgaughie84@marketwatch.com,Male,293,kmcgaughie84,\\n294,Lucky,Geillier,lgeillier85@alexa.com,Male,294,lgeillier85,\\n295,Ida,Chapiro,ichapiro86@biblegateway.com,Female,295,ichapiro86,\\n296,Inness,Shewon,ishewon87@ucoz.ru,Male,,ishewon87,\\n297,Melody,McMeanma,,,,mmcmeanma88,\\n298,Cristina,Boissier,,Male,298,cboissier89,\\n299,Thornton,Docherty,tdocherty8a@admin.ch,Female,,tdocherty8a,417 Orin Crossing\\n300,Lyndy,,lromao8b@hibu.com,Male,,lhoyte8b,\\n301,Alley,Sigsworth,asigsworth8c@netscape.com,Male,301,asigsworth8c,9146 Gale Plaza\\n302,Antonia,Rosendale,arosendale8d@1688.com,Female,,arosendale8d,\\n303,Letizia,Grossman,,Male,,lgrossman8e,\\n304,Seward,Saxby,,Female,304,ssaxby8f,33 Mesta Circle\\n305,Des,Chrystie,dchrystie8g@uiuc.edu,Female,305,dchrystie8g,\\n306,Farra,Strowan,fstrowan8h@homestead.com,Male,306,fstrowan8h,21 Mccormick Drive\\n307,Waverly,Ayars,wayars8i@scientificamerican.com,Female,,wayars8i,54522 Autumn Leaf Drive\\n308,Silvie,,scrotty8j@friendfeed.com,Female,308,shinkes8j,2200 American Ash Way\\n309,Margi,Collumbine,mcollumbine8k@nymag.com,,,mcollumbine8k,\\n310,Melisse,,mdemangeot8l@cbsnews.com,,,mbritian8l,834 Doe Crossing Plaza\\n311,Moina,Leggott,mleggott8m@angelfire.com,Male,,mleggott8m,\\n312,Solomon,,senrico8n@tinypic.com,Male,,sethelstone8n,\\n313,Lorens,Dulany,ldulany8o@weather.com,Male,,ldulany8o,\\n314,Trina,Banes,tbanes8p@answers.com,Male,314,tbanes8p,\\n315,Whittaker,Ackers,wackers8q@wufoo.com,Male,315,wackers8q,\\n316,Abie,Merveille,,Female,316,amerveille8r,\\n317,Farand,,fvaan8s@stumbleupon.com,Female,,fparkeson8s,\\n318,Dorena,Blackledge,,,318,dblackledge8t,775 Forest Dale Pass\\n319,Bale,Palle,bpalle8u@msu.edu,Female,319,bpalle8u,\\n320,Katrina,MacKniely,kmackniely8v@kickstarter.com,Female,,kmackniely8v,\\n321,Bianka,Sotworth,,Female,,bsotworth8w,\\n322,Margareta,Gegg,mgegg8x@va.gov,Male,,mgegg8x,36978 Continental Circle\\n323,Miquela,,mbaudinelli8y@reuters.com,Female,323,mmcveigh8y,8094 Pennsylvania Street\\n324,Austina,Codrington,acodrington8z@so-net.ne.jp,Female,,acodrington8z,\\n325,Emelen,Yurinov,eyurinov90@usatoday.com,Female,325,eyurinov90,\\n326,Herminia,Barfield,hbarfield91@cdc.gov,Female,,hbarfield91,\\n327,Titus,Gowanlock,tgowanlock92@vkontakte.ru,Female,327,tgowanlock92,\\n328,Min,Doutch,,Male,,mdoutch93,\\n329,Staffard,Gasken,sgasken94@tinyurl.com,Male,329,sgasken94,32892 Kinsman Park\\n330,Rhett,Simek,,Female,330,rsimek95,8858 Muir Pass\\n331,Odette,,,Male,,ocockerill96,\\n332,Koenraad,Herreros,,Male,,kherreros97,\\n333,Christyna,Ronchi,cronchi98@china.com.cn,Male,333,cronchi98,5854 Dapin Way\\n334,Floris,Alejo,falejo99@si.edu,Female,,falejo99,\\n335,Edithe,,esumption9a@thetimes.co.uk,Female,335,emcgillacoell9a,\\n336,Nessie,Joblin,njoblin9b@examiner.com,Female,,njoblin9b,8841 Farmco Circle\\n337,Teresina,Irwin,tirwin9c@census.gov,Male,337,tirwin9c,29 Hooker Hill\\n338,Trenton,Shann,tshann9d@discovery.com,Female,338,tshann9d,\\n339,Gaspard,,gdowthwaite9e@whitehouse.gov,Male,339,gband9e,\\n340,Demeter,Ricket,dricket9f@nba.com,Female,340,dricket9f,\\n341,Allin,Perel,,Male,,aperel9g,\\n342,Marijn,,mgwyer9h@howstuffworks.com,,,malden9h,\\n343,Marga,Alfonzo,malfonzo9i@nsw.gov.au,Male,,malfonzo9i,\\n344,Jillana,Lethbrig,jlethbrig9j@nifty.com,Female,,jlethbrig9j,\\n345,Josefina,Yuryshev,jyuryshev9k@xinhuanet.com,Female,,jyuryshev9k,178 Dottie Center\\n346,Rosene,Benardette,rbenardette9l@addtoany.com,Female,,rbenardette9l,2133 Dayton Terrace\\n347,Colas,Fancy,cfancy9m@wikimedia.org,Female,,cfancy9m,739 4th Circle\\n348,Gerianne,Cuttle,,Female,348,gcuttle9n,\\n349,Darleen,Kharchinski,dkharchinski9o@virginia.edu,Female,,dkharchinski9o,\\n350,Dayle,,,Male,350,dmeharry9p,9 Monterey Way\\n351,Corri,Reveley,creveley9q@devhub.com,,,creveley9q,\\n352,Hilario,Neilan,hneilan9r@usnews.com,Female,352,hneilan9r,\\n353,Rhys,Tuhy,,Male,,rtuhy9s,\\n354,Devi,Trayford,dtrayford9t@dropbox.com,Male,354,dtrayford9t,65 Meadow Ridge Terrace\\n355,Brenda,,bmcarley9u@parallels.com,Male,,byateman9u,\\n356,Hyacintha,Yurtsev,hyurtsev9v@bravesites.com,,356,hyurtsev9v,\\n357,Dorian,,dfishlock9w@princeton.edu,,,dsenescall9w,7564 Caliangt Court\\n358,Tate,Adriaens,tadriaens9x@bandcamp.com,Male,,tadriaens9x,57921 Di Loreto Alley\\n359,Franny,Beaten,fbeaten9y@xing.com,Female,,fbeaten9y,\\n360,Jaquith,,jreef9z@cloudflare.com,Female,360,jtommei9z,\\n361,Georges,Abramovici,gabramovicia0@netscape.com,Female,,gabramovicia0,\\n362,Kenyon,,ksieura1@unc.edu,Female,362,kfendleya1,\\n363,Dorelle,Leneham,dlenehama2@yellowbook.com,Male,363,dlenehama2,31 Cordelia Point\\n364,Danika,,dboribala3@nytimes.com,Male,364,dpavlenkoa3,\\n365,Worth,Krabbe,wkrabbea4@mozilla.org,Male,365,wkrabbea4,19 Farragut Drive\\n366,Paulie,Garrett,pgarretta5@tripod.com,,366,pgarretta5,002 Monument Street\\n367,Asher,Faulconer,afaulconera6@usgs.gov,Female,,afaulconera6,\\n368,Philippine,Phair,,Female,,pphaira7,\\n369,Kelcy,Longland,,Female,369,klonglanda8,\\n370,Levin,Clements,,Female,370,lclementsa9,80 Walton Terrace\\n371,Henry,Flipek,hflipekaa@exblog.jp,Female,371,hflipekaa,19 Forest Run Point\\n372,Mirabel,Breens,,Male,,mbreensab,\\n373,Laetitia,Dellar,ldellarac@ed.gov,Female,373,ldellarac,\\n374,Danya,Glowach,,Female,,dglowachad,\\n375,Gian,Pippard,gpippardae@cnn.com,Male,,gpippardae,\\n376,Salomi,Wildin,swildinaf@people.com.cn,Female,376,swildinaf,\\n377,Robinett,Pascow,,Female,,rpascowag,\\n378,Gearalt,,gismayah@aol.com,Male,378,grathborneah,\\n379,Grady,Swanger,gswangerai@deviantart.com,Male,,gswangerai,\\n380,Jeanelle,,jreichardtaj@archive.org,Female,380,jbeecraftaj,\\n381,Scarlett,Steinham,ssteinhamak@ameblo.jp,Male,,ssteinhamak,49 Pine View Crossing\\n382,Ariel,Lugden,alugdenal@fema.gov,Female,,alugdenal,\\n383,Antonella,,atankardam@delicious.com,,,acairneyam,\\n384,Abraham,Barneville,,Female,384,abarnevillean,\\n385,Bondon,Innott,binnottao@mlb.com,Male,385,binnottao,\\n386,Anabel,Streeter,astreeterap@eventbrite.com,Male,386,astreeterap,34502 Browning Parkway\\n387,Emelda,,euppettaq@japanpost.jp,Female,,emaplethorpaq,\\n388,Rem,Tunnicliffe,,Male,,rtunnicliffear,3739 Starling Road\\n389,Jehanna,Pearch,jpearchas@free.fr,Male,,jpearchas,\\n390,Elfrieda,Baybutt,ebaybuttat@jimdo.com,Female,390,ebaybuttat,\\n391,Jdavie,Franks,jfranksau@intel.com,Female,391,jfranksau,\\n392,Horten,,hcornockav@cnn.com,Male,,hmccarlichav,\\n393,Waldemar,,wglendzaaw@com.com,Female,393,wfrisbyaw,\\n394,Morganne,Thunderchief,mthunderchiefax@cnbc.com,Male,394,mthunderchiefax,\\n395,Thacher,Lidyard,tlidyarday@purevolume.com,Female,395,tlidyarday,\\n396,Inglis,,iburdikinaz@cdc.gov,Female,396,itimmermannaz,\\n397,Giuseppe,,ghowtonb0@constantcontact.com,Male,,gcolegateb0,5 Holy Cross Way\\n398,Carol,Pailin,cpailinb1@devhub.com,Female,,cpailinb1,\\n399,Christin,Braganza,cbraganzab2@creativecommons.org,Female,399,cbraganzab2,\\n400,Red,Jardein,rjardeinb3@omniture.com,Male,400,rjardeinb3,\\n401,Abrahan,,amathanb4@soup.io,Male,401,abewsheab4,\\n402,Alys,,adukelowb5@lulu.com,Male,402,ahancellb5,\\n403,Harriette,Polendine,hpolendineb6@examiner.com,Female,403,hpolendineb6,\\n404,Micky,Heinsius,,Male,404,mheinsiusb7,43891 Hansons Road\\n405,Jack,Greenleaf,,Male,405,jgreenleafb8,4 Mcguire Point\\n406,Forest,Beattie,fbeattieb9@odnoklassniki.ru,Male,406,fbeattieb9,\\n407,Tracey,,tcrossleyba@ftc.gov,,,trosomanba,\\n408,Abbye,Crosskill,,Female,408,acrosskillbb,\\n409,Nial,Deeny,,Female,,ndeenybc,\\n410,Perla,,,Female,410,pabramovbd,\\n411,Gennie,Cullnean,,Female,411,gcullneanbe,\\n412,Bobette,,bgotliffebf@slideshare.net,Male,,bilewiczbf,\\n413,Jamey,Halksworth,jhalksworthbg@people.com.cn,Female,413,jhalksworthbg,\\n414,Josy,Aps,japsbh@cnn.com,Male,,japsbh,4 Waxwing Road\\n415,Elianore,Samett,esamettbi@addthis.com,Male,415,esamettbi,\\n416,Falito,Wiggins,fwigginsbj@amazon.co.uk,Female,416,fwigginsbj,\\n417,Alanah,MacCurtain,amaccurtainbk@state.tx.us,Male,417,amaccurtainbk,\\n418,Monro,Weatherburn,mweatherburnbl@networksolutions.com,Male,,mweatherburnbl,\\n419,Dagmar,Frankom,dfrankombm@uol.com.br,Female,,dfrankombm,\\n420,Shawnee,Chitham,schithambn@jalbum.net,Female,420,schithambn,\\n421,Dionis,Iannetti,diannettibo@google.com,Male,421,diannettibo,\\n422,Nina,Redwall,nredwallbp@reverbnation.com,Female,422,nredwallbp,\\n423,Jeralee,,jwoodusbq@narod.ru,Female,,jliverbq,\\n424,Doug,Madders,,Male,,dmaddersbr,\\n425,Vinita,Bowlands,vbowlandsbs@pinterest.com,Female,,vbowlandsbs,\\n426,Roselle,,rpossebt@senate.gov,Female,,rsissotbt,6344 Ruskin Trail\\n427,Nara,Serjent,nserjentbu@usnews.com,Female,427,nserjentbu,\\n428,Hadley,Romi,hromibv@nsw.gov.au,Male,428,hromibv,\\n429,Melantha,Dadds,mdaddsbw@unesco.org,Female,,mdaddsbw,\\n430,Marquita,Braker,mbrakerbx@parallels.com,Male,,mbrakerbx,\\n431,Pearla,Littlepage,plittlepageby@google.com.br,Male,,plittlepageby,\\n432,Tobie,McCarney,tmccarneybz@hatena.ne.jp,Female,432,tmccarneybz,\\n433,Basil,Kearle,bkearlec0@tuttocitta.it,Male,433,bkearlec0,\\n434,Alejandrina,Gooda,,Female,434,agoodac1,96185 Holmberg Trail\\n435,Florinda,Chadband,fchadbandc2@unesco.org,Female,435,fchadbandc2,317 Trailsway Court\\n436,Florentia,Heindrick,,Male,436,fheindrickc3,\\n437,Kaspar,,kfeyc4@usgs.gov,,,kbranganc4,72722 Crownhardt Drive\\n438,Caterina,Blackey,cblackeyc5@ustream.tv,Male,,cblackeyc5,66 Wayridge Point\\n439,Dawn,Bysaker,dbysakerc6@time.com,Male,439,dbysakerc6,\\n440,Torey,,tmurrhardtc7@com.com,Male,440,tmatthessenc7,78089 Hauk Place\\n441,Stacy,Balmforth,sbalmforthc8@sogou.com,Female,441,sbalmforthc8,\\n442,Dolley,Casacchia,dcasacchiac9@independent.co.uk,,,dcasacchiac9,29 Huxley Alley\\n443,Camile,Leacock,cleacockca@who.int,Male,,cleacockca,\\n444,Latrina,Wong,lwongcb@china.com.cn,Female,444,lwongcb,4 Gerald Alley\\n445,Bondie,,bchippendalecc@unesco.org,Male,445,bradleycc,\\n446,Markus,Mebes,,Female,446,mmebescd,\\n447,Chicky,Copello,,Male,447,ccopelloce,90 Lien Center\\n448,Noach,Harriman,nharrimancf@cnbc.com,Female,448,nharrimancf,\\n449,Tom,Coleman,,Male,,tcolemancg,07298 Blaine Court\\n450,Gray,,,Female,450,gstutelych,5134 Homewood Park\\n451,Lind,Martindale,lmartindaleci@businessweek.com,Female,451,lmartindaleci,\\n452,Alair,Trineman,,Female,452,atrinemancj,\\n453,Bennie,Robjant,brobjantck@va.gov,,,brobjantck,\\n454,Emmi,,ewimescl@dailymotion.com,Female,454,ecordycl,\\n455,Benetta,,,Male,455,bspraggoncm,828 Graceland Parkway\\n456,Isahella,Myring,imyringcn@vkontakte.ru,Male,,imyringcn,\\n457,Alphonso,,,Female,,amanuaudco,\\n458,Mal,Cuttin,mcuttincp@sciencedaily.com,Female,,mcuttincp,080 Shopko Court\\n459,Marnie,,mhritzkocq@stumbleupon.com,,459,mdymentcq,\\n460,Madelaine,,mwharriercr@bluehost.com,Male,460,mkeelycr,27 Granby Trail\\n461,Florina,Children,fchildrencs@facebook.com,Male,,fchildrencs,\\n462,Viviyan,Loweth,vlowethct@hc360.com,Female,462,vlowethct,903 Iowa Avenue\\n463,Avie,Crumpe,acrumpecu@clickbank.net,,463,acrumpecu,\\n464,Morena,Kershaw,mkershawcv@simplemachines.org,,,mkershawcv,\\n465,Fan,Duran,fdurancw@jugem.jp,Male,,fdurancw,\\n466,Wash,,wsooleycx@reddit.com,Female,,wdeatoncx,\\n467,Kirby,Brunesco,kbrunescocy@home.pl,,467,kbrunescocy,82 Hanover Park\\n468,Marcille,,mvermancz@economist.com,Female,,muttingcz,3679 Oneill Alley\\n469,Deidre,,decclestoned0@scribd.com,,469,dzavatterod0,\\n470,Marcelle,St Clair,,Male,,mstclaird1,715 Springview Pass\\n471,Essa,,ewoodalld2@ow.ly,Male,,estaried2,31134 Sutherland Point\\n472,Sheelah,Fearnyhough,sfearnyhoughd3@jigsy.com,Male,,sfearnyhoughd3,\\n473,Avram,,,Female,473,apuntd4,\\n474,Joceline,Ludye,jludyed5@sciencedirect.com,Male,,jludyed5,\\n475,D'arcy,Pettiward,dpettiwardd6@seesaa.net,Male,,dpettiwardd6,34 Monterey Road\\n476,Gina,Siggers,gsiggersd7@census.gov,,476,gsiggersd7,\\n477,Yolande,Sabban,,,,ysabband8,\\n478,Tedra,,,Female,478,tmershd9,\\n479,Dwain,Guiness,dguinessda@tamu.edu,,479,dguinessda,\\n480,Pierette,Ainger,,Male,,paingerdb,4 Manley Drive\\n481,Dinny,,dfadelldc@addthis.com,Male,,djacquemetdc,\\n482,Khalil,Geistmann,,Male,,kgeistmanndd,\\n483,Tobe,Chesser,tchesserde@springer.com,Female,,tchesserde,\\n484,Naomi,Atter,natterdf@wsj.com,Male,484,natterdf,\\n485,Wainwright,,,Male,485,wkochlindg,\\n486,Zeke,Scarr,zscarrdh@nasa.gov,,,zscarrdh,92 Saint Paul Park\\n487,Desiree,Swatridge,dswatridgedi@lulu.com,Male,,dswatridgedi,\\n488,Annnora,Campling,acamplingdj@dell.com,Male,488,acamplingdj,\\n489,Sarah,Morin,smorindk@scientificamerican.com,Male,,smorindk,\\n490,Silvie,Brownsey,sbrownseydl@businesswire.com,Male,490,sbrownseydl,\\n491,Dorthy,Spittal,dspittaldm@fda.gov,Female,,dspittaldm,9 Londonderry Lane\\n492,Belicia,Branscombe,bbranscombedn@etsy.com,Male,,bbranscombedn,\\n493,Rolfe,Barney,rbarneydo@kickstarter.com,Female,493,rbarneydo,\\n494,Carol-jean,Lepoidevin,clepoidevindp@blogspot.com,Male,494,clepoidevindp,9 Sloan Junction\\n495,Kendrick,Waylett,kwaylettdq@oaic.gov.au,Male,,kwaylettdq,\\n496,Gerti,Trotter,gtrotterdr@ca.gov,Male,496,gtrotterdr,73 Del Sol Circle\\n497,Hobard,Barwack,hbarwackds@opera.com,Male,,hbarwackds,\\n498,Harold,Trengove,htrengovedt@github.com,Female,,htrengovedt,\\n499,Audre,Canto,acantodu@bing.com,Female,,acantodu,\\n500,Aindrea,Aleksandrev,aaleksandrevdv@geocities.jp,Female,500,aaleksandrevdv,\\n501,Vernen,,vlocksdw@irs.gov,Male,,vleadstondw,\\n502,Lucho,Orrah,,Male,502,lorrahdx,\\n503,Lowrance,Merrilees,lmerrileesdy@nymag.com,Male,503,lmerrileesdy,\\n504,Tomasine,Stormouth,tstormouthdz@nps.gov,Female,504,tstormouthdz,\\n505,Yorgo,Mattson,ymattsone0@sohu.com,Female,,ymattsone0,96 Karstens Alley\\n506,Callie,Duigan,,Female,,cduigane1,\\n507,Lacee,Coggin,lcoggine2@g.co,,507,lcoggine2,4 Cambridge Pass\\n508,Pedro,MacAndie,pmacandiee3@prnewswire.com,Male,,pmacandiee3,\\n509,Marijo,Yankin,myankine4@hp.com,Female,,myankine4,\\n510,Ira,Helian,,Female,,iheliane5,\\n511,Melita,,mtennewelle6@umn.edu,Male,511,msautere6,\\n512,Boothe,Crossthwaite,bcrossthwaitee7@so-net.ne.jp,Female,512,bcrossthwaitee7,316 Kim Junction\\n513,Heloise,,hbryentone8@yale.edu,Male,513,haleevye8,\\n514,Andrey,,akoppkee9@scribd.com,Female,,adeversone9,\\n515,Merrily,Liddy,mliddyea@youtube.com,Female,515,mliddyea,\\n516,Pace,Keeffe,pkeeffeeb@soup.io,Male,516,pkeeffeeb,\\n517,Alecia,Bullcock,abullcockec@springer.com,Female,517,abullcockec,\\n518,Tulley,Meeny,tmeenyed@blogspot.com,Male,518,tmeenyed,\\n519,Melisse,Behr,mbehree@blogtalkradio.com,Male,519,mbehree,\\n520,Charlton,Cogar,ccogaref@themeforest.net,Female,,ccogaref,0323 Ruskin Road\\n521,Annmarie,,awhiterodeg@miitbeian.gov.cn,Male,521,agoodbairneg,\\n522,Hardy,Carrane,hcarraneeh@biglobe.ne.jp,Female,522,hcarraneeh,\\n523,Gherardo,Zappel,,,,gzappelei,06259 Walton Court\\n524,Irving,Cullimore,,Male,524,icullimoreej,3435 Main Avenue\\n525,Krissie,Buckberry,kbuckberryek@arstechnica.com,,,kbuckberryek,\\n526,Hagen,Januszewski,hjanuszewskiel@umich.edu,Female,526,hjanuszewskiel,\\n527,Golda,Standingford,gstandingfordem@umn.edu,Male,,gstandingfordem,90 Tony Pass\\n528,Celestine,Haydney,chaydneyen@canalblog.com,Male,528,chaydneyen,\\n529,Mallissa,Bronot,,Male,,mbronoteo,\\n530,Aeriela,Disley,,,530,adisleyep,\\n531,Rolph,Normanville,rnormanvilleeq@auda.org.au,Male,531,rnormanvilleeq,\\n532,Jesse,Minerdo,jminerdoer@netvibes.com,Female,,jminerdoer,\\n533,Meade,,,Female,,mverduines,\\n534,Rance,,,Female,,rblackleechet,3278 Eagan Circle\\n535,Moishe,Hayles,,Male,535,mhayleseu,59952 Pankratz Pass\\n536,Sophronia,Wevell,swevellev@webmd.com,Male,536,swevellev,6 Graceland Trail\\n537,Julius,,jhamnettew@51.la,Male,537,jcavenew,\\n538,Mirilla,,mgreensideex@deliciousdays.com,Male,,mconantex,\\n539,Krystyna,Pues,kpuesey@networksolutions.com,Female,539,kpuesey,\\n540,Maressa,Bussy,,,,mbussyez,\\n541,Rahal,Jacmar,rjacmarf0@bigcartel.com,Male,,rjacmarf0,7692 Division Alley\\n542,Hester,Mecco,hmeccof1@salon.com,,542,hmeccof1,056 Sugar Street\\n543,Darcie,,dmurrillf2@marriott.com,,,dtrevainsf2,\\n544,Nanci,Simenon,,Male,544,nsimenonf3,83 Pearson Pass\\n545,Doroteya,Bott,dbottf4@geocities.jp,Male,,dbottf4,\\n546,Ginevra,Rooke,,Female,,grookef5,\\n547,Pearce,Lye,plyef6@surveymonkey.com,Female,547,plyef6,\\n548,Jesus,,jdepinnaf7@163.com,Female,548,jnilgesf7,8997 Arrowood Way\\n549,Thurston,Kirkhouse,tkirkhousef8@soundcloud.com,Female,549,tkirkhousef8,4994 Meadow Valley Avenue\\n550,Randell,Andryushin,randryushinf9@xrea.com,Male,550,randryushinf9,\\n551,Guy,Higgoe,ghiggoefa@go.com,Female,,ghiggoefa,7763 Gateway Park\\n552,Cos,Yerlett,cyerlettfb@biglobe.ne.jp,Male,,cyerlettfb,\\n553,Jecho,Rossiter,jrossiterfc@princeton.edu,Male,553,jrossiterfc,\\n554,Freda,Mangeon,,Female,554,fmangeonfd,18 Northfield Center\\n555,Aubrette,Hawkey,,Female,555,ahawkeyfe,\\n556,Robinet,,,Male,556,rmeritff,\\n557,Genvieve,Witherop,gwitheropfg@comsenz.com,Female,557,gwitheropfg,\\n558,Beverly,Avo,,Female,558,bavofh,\\n559,Prescott,,pkamenfi@t.co,,559,phanhardtfi,\\n560,Kizzie,Bezemer,kbezemerfj@nih.gov,Female,,kbezemerfj,\\n561,Nikos,Bate,nbatefk@friendfeed.com,Male,,nbatefk,\\n562,Ray,Tegler,rteglerfl@arizona.edu,Female,562,rteglerfl,\\n563,Wilie,Ellerker,,Male,563,wellerkerfm,56969 Morningstar Place\\n564,Baird,Ranklin,branklinfn@nytimes.com,Female,,branklinfn,\\n565,Lanie,Monkhouse,,Male,565,lmonkhousefo,\\n566,Far,Cranch,fcranchfp@shop-pro.jp,Female,,fcranchfp,\\n567,Shaylyn,,squinneyfq@delicious.com,Male,,sodoranfq,325 Farragut Drive\\n568,Nicolis,Stratiff,nstratifffr@oracle.com,Male,568,nstratifffr,\\n569,Florie,Ioan,,Female,569,fioanfs,\\n570,Field,,fkleinpeltzft@springer.com,Female,570,faytonft,\\n571,Joane,,jweddellfu@ucoz.com,Female,,jmathoufu,\\n572,Nonna,Foreman,nforemanfv@dailymotion.com,Male,,nforemanfv,\\n573,Isa,Ragless,iraglessfw@xrea.com,Female,573,iraglessfw,\\n574,Max,Moyers,mmoyersfx@weather.com,Female,,mmoyersfx,\\n575,Teresina,Ettridge,tettridgefy@vinaora.com,Female,575,tettridgefy,\\n576,Sheffie,Durham,sdurhamfz@rambler.ru,Male,576,sdurhamfz,\\n577,Marius,,,Female,577,msouthwoodg0,8 Summer Ridge Parkway\\n578,Giffer,Trevarthen,gtrevartheng1@shareasale.com,Female,578,gtrevartheng1,\\n579,Marlie,Petrello,,Female,579,mpetrellog2,\\n580,Eddy,Allender,eallenderg3@woothemes.com,Male,,eallenderg3,\\n581,Tricia,Morfell,tmorfellg4@admin.ch,Male,581,tmorfellg4,\\n582,Matti,,mtabrettg5@lycos.com,Male,,mearryg5,\\n583,Crosby,Lawley,clawleyg6@upenn.edu,,,clawleyg6,\\n584,Harbert,De Freyne,hdefreyneg7@nature.com,Male,,hdefreyneg7,\\n585,Ester,Rainer,erainerg8@about.me,Male,585,erainerg8,8010 Comanche Lane\\n586,Charyl,Ladbury,cladburyg9@weibo.com,Male,,cladburyg9,\\n587,Goddart,,,Female,,graeburnga,\\n588,Celia,Weatherhead,cweatherheadgb@dropbox.com,Male,,cweatherheadgb,\\n589,Ema,Vispo,evispogc@etsy.com,Male,,evispogc,\\n590,Kristine,,kkepegd@github.io,,590,kcuffegd,\\n591,Reinaldos,Mulrenan,rmulrenange@businessweek.com,Male,591,rmulrenange,\\n592,Quentin,Taber,qtabergf@amazonaws.com,Male,592,qtabergf,\\n593,Waldon,Chesnay,wchesnaygg@wikispaces.com,,,wchesnaygg,402 Mallory Terrace\\n594,Sherry,Flowitt,,Male,,sflowittgh,\\n595,Dorie,,djoddinsgi@freewebs.com,Female,,dpetworthgi,\\n596,Arne,Piggrem,apiggremgj@fastcompany.com,,,apiggremgj,\\n597,Dilly,Vidgen,dvidgengk@slashdot.org,Female,,dvidgengk,45953 Beilfuss Alley\\n598,Sharity,,skunzelgl@gnu.org,Female,598,sfransesgl,\\n599,Issiah,Elies,,Male,599,ieliesgm,5195 Hollow Ridge Crossing\\n600,Ivy,,irenachowskign@youku.com,Male,,iowtramgn,\\n601,Issie,Gonet,igonetgo@goodreads.com,Male,,igonetgo,517 Golf View Street\\n602,Florentia,Castagneto,,,,fcastagnetogp,\\n603,Berk,Dunaway,bdunawaygq@archive.org,Male,,bdunawaygq,\\n604,Kyle,Spoole,kspoolegr@booking.com,Female,,kspoolegr,\\n605,Danika,Suttie,dsuttiegs@pinterest.com,Female,,dsuttiegs,\\n606,Loraine,,lgissopgt@deliciousdays.com,Male,606,lartzgt,\\n607,Cole,Goldsack,cgoldsackgu@nifty.com,Female,607,cgoldsackgu,\\n608,Hurleigh,Cockaday,hcockadaygv@chronoengine.com,Male,608,hcockadaygv,\\n609,Letty,Lornsen,,Male,609,llornsengw,\\n610,Riva,Vanyatin,rvanyatingx@linkedin.com,Male,,rvanyatingx,\\n611,Romain,Willcock,rwillcockgy@delicious.com,Male,,rwillcockgy,\\n612,Ramon,Burchess,rburchessgz@cloudflare.com,Male,,rburchessgz,\\n613,Aryn,Carbry,,Female,,acarbryh0,3403 Tennyson Road\\n614,Claudianus,Kuhl,ckuhlh1@furl.net,Female,614,ckuhlh1,\\n615,Ricardo,,rieldenh2@tripadvisor.com,Male,,rpurveysh2,50213 Fairfield Court\\n616,Eleonora,,,Female,,emicheleh3,\\n617,Dina,Bucklee,,Male,,dbuckleeh4,\\n618,Caprice,Wilshin,,Male,618,cwilshinh5,\\n619,Tarah,Alexsandrowicz,talexsandrowiczh6@bluehost.com,Male,619,talexsandrowiczh6,\\n620,Elianora,Shuttleworth,,Male,620,eshuttleworthh7,\\n621,Rollins,Faucherand,rfaucherandh8@lulu.com,Female,,rfaucherandh8,\\n622,Rica,Arnhold,rarnholdh9@weather.com,Female,,rarnholdh9,\\n623,Gard,,gcundictha@latimes.com,,623,gbrassillha,2 Brentwood Way\\n624,Madalyn,Crampin,,Male,624,mcrampinhb,\\n625,Chris,Moore,,Male,,cmoorehc,33770 Nancy Court\\n626,Kitty,Stoppard,kstoppardhd@imgur.com,Female,,kstoppardhd,\\n627,Farrah,Van Dalen,fvandalenhe@shutterfly.com,Male,,fvandalenhe,\\n628,Domenico,,dfalveyhf@php.net,Female,628,dleyhf,\\n629,Ferdy,Bulled,fbulledhg@1und1.de,Male,,fbulledhg,\\n630,Ramona,Treadway,rtreadwayhh@sina.com.cn,Male,,rtreadwayhh,\\n631,Yasmeen,,ygiannasihi@issuu.com,Female,,yphilipeauhi,\\n632,Sheryl,,,Male,632,sdregerhj,0 Ridgeview Place\\n633,Raymond,Gleaves,rgleaveshk@state.tx.us,Female,,rgleaveshk,\\n634,Elsa,De Biaggi,,Male,,edebiaggihl,31 Ridgeway Point\\n635,Kass,Riveles,,Male,635,kriveleshm,\\n636,Corrie,Alcott,calcotthn@cnet.com,Female,,calcotthn,\\n637,Cara,,cscardifieldho@bbc.co.uk,Female,,cgiveenho,\\n638,Jammie,Lamperti,,Male,638,jlampertihp,14 Dayton Way\\n639,Kort,Eveling,kevelinghq@hao123.com,Female,,kevelinghq,69233 Mifflin Place\\n640,Charyl,Clyburn,cclyburnhr@deliciousdays.com,Male,640,cclyburnhr,\\n641,Jordan,Kilmary,jkilmaryhs@washingtonpost.com,Female,641,jkilmaryhs,8 Glendale Court\\n642,Lancelot,,lnelseyht@cargocollective.com,Male,642,lmedforthht,\\n643,Hayes,Ragg,hragghu@deviantart.com,Male,643,hragghu,0 Portage Point\\n644,Kingston,Happs,,,,khappshv,\\n645,Hillier,Grandison,,Male,645,hgrandisonhw,\\n646,Corney,Bruni,,Female,,cbrunihx,\\n647,Gifford,,,Male,647,gaberkirderhy,\\n648,Fredericka,Ragles,fragleshz@usgs.gov,Female,,fragleshz,\\n649,Andrey,Vise,avisei0@mapquest.com,Female,,avisei0,\\n650,Boyce,Broadwell,bbroadwelli1@fotki.com,,,bbroadwelli1,98251 Hagan Point\\n651,Bondon,Boame,bboamei2@uiuc.edu,,651,bboamei2,\\n652,Gabbi,,gpaulacki3@com.com,Female,652,gpourei3,92851 Norway Maple Plaza\\n653,Garth,Wainman,gwainmani4@dot.gov,Male,,gwainmani4,\\n654,Erna,Skrine,eskrinei5@hp.com,Male,,eskrinei5,\\n655,Thane,Lutman,,Female,655,tlutmani6,\\n656,Peterus,Benz,pbenzi7@epa.gov,Male,656,pbenzi7,\\n657,Carlin,,cbroadburyi8@reference.com,Male,,cquerrardi8,\\n658,Erda,Oliveti,eolivetii9@cnet.com,Female,658,eolivetii9,\\n659,Connie,Sabater,csabateria@ehow.com,Male,659,csabateria,\\n660,Gauthier,Rayson,graysonib@stanford.edu,Female,,graysonib,\\n661,Tomkin,Brittain,tbrittainic@cnbc.com,Female,661,tbrittainic,79 Independence Drive\\n662,Marmaduke,Mulholland,mmulhollandid@engadget.com,Female,662,mmulhollandid,0496 Golf View Circle\\n663,Brannon,Jacquemot,bjacquemotie@sfgate.com,Male,,bjacquemotie,0832 Jenna Point\\n664,Gwenni,,,,,gpadleyif,\\n665,Chev,Camplen,ccamplenig@epa.gov,Male,,ccamplenig,\\n666,Waring,Simonnet,wsimonnetih@slideshare.net,Male,666,wsimonnetih,\\n667,Zedekiah,Firby,,Female,667,zfirbyii,30313 Holy Cross Point\\n668,Dyanne,Starbeck,,Male,668,dstarbeckij,\\n669,Pammy,Biaggi,,Male,669,pbiaggiik,\\n670,Tedmund,Hoffmann,thoffmannil@ted.com,Male,670,thoffmannil,\\n671,Jesus,Braniff,jbraniffim@nba.com,Male,671,jbraniffim,\\n672,Mariette,Kidney,mkidneyin@whitehouse.gov,Male,672,mkidneyin,\\n673,Colan,,cmaccaigio@blogtalkradio.com,Female,673,cocurriganio,\\n674,Cris,Outhwaite,,Male,,couthwaiteip,49117 Burrows Court\\n675,Gwendolin,Revey,,Male,,greveyiq,\\n676,Jany,Clemmen,,Male,,jclemmenir,\\n677,Janith,,jbeddingis@berkeley.edu,Male,677,jgilkisonis,\\n678,Chrysler,Humbie,chumbieit@java.com,Female,678,chumbieit,\\n679,Onfre,Shearer,osheareriu@apple.com,Male,,osheareriu,\\n680,Myrtle,Hargate,mhargateiv@google.co.jp,Female,,mhargateiv,\\n681,Jan,Boatswain,,Male,,jboatswainiw,675 Pond Center\\n682,Kevan,Coale,,Male,,kcoaleix,\\n683,Sergei,Jentges,sjentgesiy@nyu.edu,,683,sjentgesiy,\\n684,Deborah,Worvill,dworvilliz@mozilla.org,Male,684,dworvilliz,\\n685,Kristoffer,Iacovielli,kiacoviellij0@house.gov,Female,685,kiacoviellij0,44 Stang Lane\\n686,Alice,Verrall,averrallj1@cnn.com,Female,686,averrallj1,\\n687,Berne,Jankin,bjankinj2@statcounter.com,Male,,bjankinj2,\\n688,Ursa,Jones,ujonesj3@pinterest.com,Male,,ujonesj3,\\n689,Isabella,Maber,imaberj4@nytimes.com,Female,,imaberj4,\\n690,Averyl,Mealand,,,690,amealandj5,76160 3rd Street\\n691,Darwin,Lazenbury,dlazenburyj6@narod.ru,,691,dlazenburyj6,\\n692,Sergent,Treadgall,,Female,,streadgallj7,\\n693,Mimi,Gerrietz,,Male,,mgerrietzj8,\\n694,Judye,Mathely,jmathelyj9@phoca.cz,,,jmathelyj9,\\n695,Mollie,Rabbitts,mrabbittsja@marketwatch.com,Female,,mrabbittsja,\\n696,Willey,Pauncefoot,wpauncefootjb@goo.ne.jp,Male,696,wpauncefootjb,\\n697,Theda,Gwillim,,Female,,tgwillimjc,7 Warrior Crossing\\n698,Alexis,Roddick,aroddickjd@goo.ne.jp,Female,698,aroddickjd,47 1st Hill\\n699,Eugene,Raynton,erayntonje@indiatimes.com,Male,699,erayntonje,\\n700,Karalee,Cartman,kcartmanjf@deviantart.com,Male,,kcartmanjf,\\n701,Roi,Wallentin,rwallentinjg@yahoo.co.jp,Male,701,rwallentinjg,\\n702,Jacquelynn,Fanshaw,jfanshawjh@mayoclinic.com,Female,,jfanshawjh,94002 Gulseth Court\\n703,Barbabra,Reavell,,Female,703,breavellji,7346 Little Fleur Plaza\\n704,Perkin,Bazire,pbazirejj@smugmug.com,,,pbazirejj,4 Pine View Alley\\n705,Kat,McGlade,,Female,705,kmcgladejk,1 Bultman Trail\\n706,Yale,Hasnney,yhasnneyjl@deliciousdays.com,Male,,yhasnneyjl,\\n707,Larisa,,lbiersjm@foxnews.com,Female,707,lhardwickjm,\\n708,Osmund,Enevoldsen,oenevoldsenjn@arizona.edu,Male,708,oenevoldsenjn,\\n709,Tammie,Schooley,,Female,,tschooleyjo,\\n710,Augustina,Backshaw,abackshawjp@walmart.com,Female,710,abackshawjp,2 Boyd Parkway\\n711,Carina,Francombe,,Female,,cfrancombejq,9241 Sage Circle\\n712,Bowie,Olwen,,Male,,bolwenjr,\\n713,Imelda,,ibalsomjs@netlog.com,,713,isandemanjs,\\n714,Laina,Tellenbrook,ltellenbrookjt@google.es,Male,,ltellenbrookjt,7 Hermina Crossing\\n715,Joseph,McCarrell,,Male,,jmccarrellju,\\n716,Banky,Halwell,bhalwelljv@vinaora.com,Male,,bhalwelljv,1009 Glendale Trail\\n717,Pen,Weston,pwestonjw@typepad.com,Male,717,pwestonjw,223 Marcy Pass\\n718,Josefina,McCahill,jmccahilljx@ucla.edu,Male,718,jmccahilljx,400 Talmadge Alley\\n719,Barbra,Billanie,,Female,,bbillaniejy,\\n720,Errol,Dollen,edollenjz@hexun.com,Male,,edollenjz,\\n721,Worth,,wsteddallk0@list-manage.com,Male,721,whaithwaitek0,90203 Weeping Birch Lane\\n722,Melonie,Hamper,,Female,722,mhamperk1,\\n723,Chrisy,Forber,cforberk2@spotify.com,Female,,cforberk2,\\n724,Melvyn,Reddings,,Female,,mreddingsk3,27 Hagan Center\\n725,Millie,Haggerstone,,Male,725,mhaggerstonek4,8 Sheridan Circle\\n726,Lyman,Mordey,,Female,726,lmordeyk5,\\n727,Linda,Muffin,,,727,lmuffink6,\\n728,Reinhold,,rbriknerk7@vk.com,Female,728,rkleek7,\\n729,Lynne,,lgerriek8@constantcontact.com,Female,729,lwintourk8,\\n730,Blinnie,,bbetkek9@bigcartel.com,,,bmarteletk9,\\n731,Myranda,Kunze,mkunzeka@imageshack.us,Male,731,mkunzeka,\\n732,Brittany,,bgurnettkb@canalblog.com,Male,,bgougekb,\\n733,Jean,,jglavinkc@yelp.com,Male,733,jrudallkc,69267 Sommers Terrace\\n734,Eleonora,Westwood,ewestwoodkd@princeton.edu,Female,,ewestwoodkd,\\n735,Jessee,Pindar,jpindarke@fda.gov,Male,735,jpindarke,21161 Manufacturers Trail\\n736,Roma,Harden,rhardenkf@clickbank.net,Male,,rhardenkf,6997 La Follette Center\\n737,Rosette,Shire,rshirekg@nifty.com,Male,,rshirekg,\\n738,Rich,Gumbley,,Female,,rgumbleykh,\\n739,Madonna,Roomes,mroomeski@kickstarter.com,Female,,mroomeski,\\n740,Nat,Hoyte,nhoytekj@nyu.edu,Female,,nhoytekj,8 Ramsey Place\\n741,Theodor,Hellin,,Female,741,thellinkk,1 New Castle Lane\\n742,Hamnet,Hackford,hhackfordkl@nationalgeographic.com,,,hhackfordkl,647 Farragut Drive\\n743,Irv,Riddles,iriddleskm@about.com,Female,,iriddleskm,\\n744,Blakeley,,bdymokekn@accuweather.com,Female,,bbattyllkn,168 Farragut Center\\n745,Darbie,Beddo,,,745,dbeddoko,2 Westerfield Point\\n746,Faythe,Dufore,fduforekp@cnet.com,Male,,fduforekp,83968 Golf Way\\n747,Candie,,,,,cjerromkq,\\n748,Leah,Hurburt,,Female,,lhurburtkr,\\n749,Dinnie,Potell,dpotellks@java.com,Male,749,dpotellks,4 Vernon Way\\n750,Caitlin,Applewhite,capplewhitekt@businessweek.com,Male,,capplewhitekt,95291 Schurz Parkway\\n751,Marie,,mferranku@webeden.co.uk,,751,mshoulerku,60858 American Ash Drive\\n752,Kennedy,Stillman,kstillmankv@sfgate.com,Female,,kstillmankv,7 Dawn Street\\n753,Garner,Syers,gsyerskw@msu.edu,Female,753,gsyerskw,1110 Bluestem Drive\\n754,Correy,Village,,Female,,cvillagekx,\\n755,Deidre,Greenrde,dgreenrdeky@scribd.com,Female,755,dgreenrdeky,\\n756,Reade,,rpethrickkz@unblog.fr,Female,756,rkelcherkz,\\n757,Herman,Wethey,hwetheyl0@canalblog.com,Male,757,hwetheyl0,1516 Lillian Avenue\\n758,Nester,Pauletti,npaulettil1@pagesperso-orange.fr,Male,,npaulettil1,\\n759,Raquela,Rennles,rrennlesl2@bbb.org,,,rrennlesl2,47 Ruskin Alley\\n760,Verena,O'Riordan,voriordanl3@samsung.com,Female,,voriordanl3,\\n761,Nahum,Readwin,,Male,761,nreadwinl4,274 Northridge Road\\n762,Marika,Wogan,mwoganl5@amazon.co.jp,Female,762,mwoganl5,\\n763,Chloris,,,Male,,cgrigoliisl6,\\n764,Judd,O'Sherrin,josherrinl7@pinterest.com,,764,josherrinl7,\\n765,Margit,,mjeffersl8@weather.com,Female,765,mloreitl8,\\n766,Kellby,,kmugridgel9@bing.com,Female,766,kgrubel9,52 Vera Crossing\\n767,Kirsteni,Nijssen,knijssenla@dmoz.org,Male,767,knijssenla,\\n768,Jemmie,Ritchie,jritchielb@behance.net,Male,768,jritchielb,\\n769,Gerta,Celand,gcelandlc@qq.com,Male,,gcelandlc,\\n770,Caren,,caddisonld@qq.com,Female,,chenrichsld,\\n771,Selena,,sdowbekinle@goodreads.com,Male,771,syerringtonle,\\n772,Dorian,Southern,dsouthernlf@sitemeter.com,Male,772,dsouthernlf,0187 Farmco Center\\n773,Gregorius,,gtropmanlg@gov.uk,Female,,giveslg,\\n774,Brantley,Youdell,byoudelllh@cargocollective.com,Male,,byoudelllh,\\n775,Kele,Aggiss,kaggissli@comcast.net,Male,,kaggissli,\\n776,Dexter,Coggell,dcoggelllj@go.com,Male,776,dcoggelllj,\\n777,Lilah,Mille,lmillelk@scientificamerican.com,Male,,lmillelk,\\n778,Robinet,Mellmoth,rmellmothll@facebook.com,Female,,rmellmothll,\\n779,Kissiah,Raulston,kraulstonlm@sogou.com,Male,,kraulstonlm,0852 Scoville Drive\\n780,Ibby,,ikleinplacln@delicious.com,Female,,icorcoranln,\\n781,Krisha,Welsby,kwelsbylo@gizmodo.com,Male,781,kwelsbylo,\\n782,Damien,Pleasants,,Female,,dpleasantslp,5 Morningstar Junction\\n783,Bev,Duchart,,Male,783,bduchartlq,08 Arrowood Street\\n784,Nels,Prise,npriselr@microsoft.com,Male,784,npriselr,3 Autumn Leaf Place\\n785,Roanne,MacCarlich,,Female,,rmaccarlichls,\\n786,Berton,Oppie,boppielt@ted.com,Female,786,boppielt,2580 Bartillon Center\\n787,Bellanca,Woolfoot,bwoolfootlu@ca.gov,Female,787,bwoolfootlu,942 Hermina Crossing\\n788,Kally,Franke,kfrankelv@shop-pro.jp,Male,788,kfrankelv,\\n789,Elvin,Blaxeland,eblaxelandlw@cnbc.com,Female,789,eblaxelandlw,201 Fieldstone Center\\n790,Brady,Lunck,bluncklx@biglobe.ne.jp,Male,,bluncklx,388 Division Road\\n791,Ilsa,Hakey,ihakeyly@webmd.com,,,ihakeyly,\\n792,Andreana,,acookneylz@ovh.net,Female,792,agullylz,025 Petterle Court\\n793,Kiele,,kmidgleym0@theatlantic.com,Male,,kmatthiusm0,88515 Scott Junction\\n794,Charil,Iston,cistonm1@stanford.edu,Male,,cistonm1,\\n795,Blondelle,Nisby,bnisbym2@prweb.com,Male,,bnisbym2,\\n796,Bern,Alebrooke,balebrookem3@feedburner.com,Female,796,balebrookem3,23 Pleasure Alley\\n797,Bary,Lundbeck,blundbeckm4@usnews.com,,,blundbeckm4,\\n798,Carlita,Garrish,cgarrishm5@epa.gov,Male,,cgarrishm5,\\n799,Phillida,Aimable,paimablem6@de.vu,Female,799,paimablem6,94 Goodland Parkway\\n800,Doll,Antonignetti,,Male,,dantonignettim7,\\n801,Turner,Fidelus,tfidelusm8@cocolog-nifty.com,Female,,tfidelusm8,\\n802,Vitoria,Harse,vharsem9@yolasite.com,Female,,vharsem9,2 Mallory Park\\n803,Gustie,Dockwray,gdockwrayma@ft.com,,803,gdockwrayma,\\n804,Simmonds,Bolliver,,Male,,sbollivermb,\\n805,Lesya,,,Male,,lrahlmc,044 Hudson Place\\n806,Zelma,Darko,zdarkomd@nature.com,Female,,zdarkomd,\\n807,Avery,Housam,ahousamme@craigslist.org,Female,807,ahousamme,\\n808,Alessandro,Flower,aflowermf@squarespace.com,Male,808,aflowermf,\\n809,Lexy,Blazewski,,Female,809,lblazewskimg,\\n810,Rosalynd,Handling,rhandlingmh@phpbb.com,Male,,rhandlingmh,\\n811,Jammie,Cranton,jcrantonmi@csmonitor.com,,,jcrantonmi,\\n812,Rollins,,rlitherlandmj@umich.edu,Female,,rrissommj,\\n813,Keefer,,khucmk@indiegogo.com,,813,klavignemk,61 Sunnyside Point\\n814,Evey,Worsalls,eworsallsml@tumblr.com,Female,,eworsallsml,\\n815,Margarete,Kesper,mkespermm@icio.us,Male,,mkespermm,\\n816,Palmer,Shipton,pshiptonmn@goo.gl,Male,,pshiptonmn,\\n817,Kacie,Faccini,kfaccinimo@nasa.gov,Female,,kfaccinimo,\\n818,Tommy,Coniam,,Female,,tconiammp,1068 Autumn Leaf Pass\\n819,Kip,Key,kkeymq@mozilla.org,Male,819,kkeymq,891 Spenser Court\\n820,Dalton,Axtell,daxtellmr@businessweek.com,Male,820,daxtellmr,\\n821,Norman,Gibbon,,Male,,ngibbonms,6 Reindahl Place\\n822,Ianthe,Mullaney,,,,imullaneymt,32 Muir Court\\n823,Tiffie,Medcalf,tmedcalfmu@rambler.ru,Female,823,tmedcalfmu,\\n824,Alfons,Nabbs,anabbsmv@scientificamerican.com,Male,824,anabbsmv,\\n825,Tobin,Brasener,tbrasenermw@unc.edu,Female,825,tbrasenermw,\\n826,Winnifred,Stoller,,Male,,wstollermx,\\n827,Zachary,Twizell,ztwizellmy@slate.com,Male,827,ztwizellmy,10 Roth Way\\n828,Sidonnie,Redan,sredanmz@joomla.org,Female,828,sredanmz,7525 Cambridge Hill\\n829,Ellissa,Alexis,,,,ealexisn0,15962 Hoepker Drive\\n830,Misty,Sorby,msorbyn1@loc.gov,Female,,msorbyn1,37046 Truax Place\\n831,Sebastian,Hollingsbee,shollingsbeen2@bravesites.com,Female,831,shollingsbeen2,092 Menomonie Place\\n832,Howie,Beining,hbeiningn3@fc2.com,Male,832,hbeiningn3,\\n833,Victoir,Arnauduc,varnauducn4@hostgator.com,Male,,varnauducn4,\\n834,Cate,Pim,cpimn5@cyberchimps.com,Female,,cpimn5,\\n835,Elisabeth,Olyfant,,Female,,eolyfantn6,79 Coolidge Circle\\n836,Fayre,Kleinplac,fkleinplacn7@dailymail.co.uk,Female,836,fkleinplacn7,\\n837,Whittaker,Gebby,wgebbyn8@comcast.net,Male,,wgebbyn8,\\n838,Kora,Bondy,,Male,838,kbondyn9,\\n839,Tana,Limpricht,tlimprichtna@uiuc.edu,,839,tlimprichtna,\\n840,Tallia,Bruneau,tbruneaunb@dmoz.org,Male,,tbruneaunb,\\n841,Almeda,Rawe,arawenc@hud.gov,Female,,arawenc,\\n842,Annetta,Laugharne,alaugharnend@whitehouse.gov,Male,,alaugharnend,198 Hansons Lane\\n843,Grange,Izakson,gizaksonne@independent.co.uk,Female,843,gizaksonne,\\n844,Jayme,Gowthrop,jgowthropnf@google.fr,Female,844,jgowthropnf,\\n845,Rem,Rojahn,rrojahnng@amazon.de,Male,,rrojahnng,\\n846,Mel,Gawn,mgawnnh@example.com,Male,846,mgawnnh,23 Farragut Plaza\\n847,Evita,Hubatsch,,,,ehubatschni,\\n848,Yves,Amerighi,yamerighinj@instagram.com,Female,848,yamerighinj,\\n849,Berenice,Papez,,,849,bpapeznk,\\n850,Tremain,Kynder,tkyndernl@google.com.au,Male,,tkyndernl,\\n851,Celestina,Blowes,,Female,,cblowesnm,\\n852,Marisa,Santer,msanternn@samsung.com,Female,,msanternn,\\n853,Shelly,,sputtnamno@bluehost.com,,853,sdaoustno,\\n854,Lyssa,Tolcharde,ltolchardenp@mayoclinic.com,,,ltolchardenp,\\n855,Berkley,Giordano,bgiordanonq@bigcartel.com,Female,855,bgiordanonq,7 Morning Street\\n856,Padraic,Gilston,pgilstonnr@linkedin.com,Female,,pgilstonnr,\\n857,Silva,,ssummerhayesns@google.com.br,Male,,sguirardns,46 Rowland Way\\n858,Marjy,Lexa,,Female,858,mlexant,\\n859,Ahmed,Lees,,Male,,aleesnu,\\n860,Honor,,hpriestnv@opera.com,Female,,hcrossgrovenv,33422 Vermont Center\\n861,Pierre,Kleimt,,Male,,pkleimtnw,239 Shelley Court\\n862,Lidia,Episcopio,lepiscopionx@odnoklassniki.ru,Male,862,lepiscopionx,209 Di Loreto Court\\n863,Adena,Baldick,abaldickny@phpbb.com,Male,863,abaldickny,\\n864,Issie,Seviour,iseviournz@dion.ne.jp,Male,864,iseviournz,\\n865,Wolf,,wtyreso0@twitpic.com,Female,865,wsuerzo0,\\n866,Alane,Folland,afollando1@ftc.gov,Female,,afollando1,18480 Kings Center\\n867,Alyse,,acogleo2@topsy.com,Male,,abritlando2,\\n868,Bank,McGarrie,bmcgarrieo3@linkedin.com,Female,,bmcgarrieo3,\\n869,Morty,Mawhinney,mmawhinneyo4@nyu.edu,,869,mmawhinneyo4,\\n870,Dulcie,Stait,dstaito5@ted.com,Female,,dstaito5,\\n871,Bastien,Peyton,,Female,,bpeytono6,\\n872,Ara,,,Female,,alidbettero7,\\n873,Sosanna,Siddall,,Male,873,ssiddallo8,\\n874,Holly,Czaja,,Female,874,hczajao9,\\n875,Drona,Blanche,,Male,,dblancheoa,\\n876,Kessiah,Nesbitt,knesbittob@globo.com,Male,876,knesbittob,\\n877,Ricca,Eastby,reastbyoc@howstuffworks.com,Female,,reastbyoc,988 Bluestem Parkway\\n878,Elsbeth,Mingard,emingardod@chron.com,Male,,emingardod,\\n879,Francois,Brood,fbroodoe@deliciousdays.com,Male,,fbroodoe,02 Johnson Street\\n880,Waly,Rosenzveig,wrosenzveigof@ehow.com,Male,880,wrosenzveigof,80249 Spenser Junction\\n881,Andros,Rate,,Female,,arateog,\\n882,Flinn,,,,882,fshannonoh,\\n883,Jenica,Chuter,,Male,,jchuteroi,\\n884,Ernst,Dundridge,edundridgeoj@about.me,Male,,edundridgeoj,\\n885,Olag,Garnsey,ogarnseyok@engadget.com,Male,,ogarnseyok,47 Carey Hill\\n886,Lilith,Penticost,lpenticostol@google.com.au,Male,886,lpenticostol,\\n887,Jaimie,Trimme,jtrimmeom@cafepress.com,Male,,jtrimmeom,\\n888,Corenda,Burnie,,Female,888,cburnieon,\\n889,Erek,Mellem,,,,emellemoo,\\n890,Carmelle,Portigall,cportigallop@printfriendly.com,Male,890,cportigallop,\\n891,Alikee,Bonds,,Male,891,abondsoq,672 Burning Wood Hill\\n892,Jessamyn,Vitte,,Female,,jvitteor,\\n893,Sharleen,Hibling,,Female,,shiblingos,\\n894,Leighton,Ibbotson,libbotsonot@nasa.gov,Male,894,libbotsonot,65376 Anniversary Terrace\\n895,Sergio,Dickenson,sdickensonou@dagondesign.com,Male,,sdickensonou,79 Melrose Way\\n896,Tam,Braisted,tbraistedov@spotify.com,Male,,tbraistedov,\\n897,Cordi,Lyes,,Male,897,clyesow,\\n898,Juliana,Tille,,Male,898,jtilleox,\\n899,Nelia,Langthorne,,Female,899,nlangthorneoy,\\n900,Kristofer,Bilbie,,Male,,kbilbieoz,91979 Sullivan Point\\n901,Mitchel,Cokayne,,Female,,mcokaynep0,\\n902,Lindsey,Ivasyushkin,livasyushkinp1@oracle.com,Male,,livasyushkinp1,\\n903,Haslett,Parkman,,Female,,hparkmanp2,\\n904,Rhodia,Cuddehy,rcuddehyp3@indiegogo.com,Male,,rcuddehyp3,\\n905,Glad,Gonsalvo,ggonsalvop4@geocities.jp,Male,905,ggonsalvop4,2 Upham Court\\n906,Adeline,McGrae,amcgraep5@hostgator.com,Female,,amcgraep5,\\n907,Gavra,Moule,gmoulep6@blinklist.com,Female,907,gmoulep6,\\n908,Inigo,Davydoch,,Female,908,idavydochp7,\\n909,Cammie,Longhorn,clonghornp8@rediff.com,Female,909,clonghornp8,275 Toban Center\\n910,Nyssa,Quogan,,Male,,nquoganp9,84043 Marcy Way\\n911,Niki,Monk,,Female,911,nmonkpa,\\n912,Dennie,Laister,,Male,912,dlaisterpb,4 Mariners Cove Street\\n913,Venita,,vhambletonpc@accuweather.com,Male,913,vhaestierpc,\\n914,Karoly,O'Monahan,komonahanpd@google.fr,Male,914,komonahanpd,\\n915,Gordan,,gbogaertpe@wired.com,Male,915,gblowickpe,52 Calypso Plaza\\n916,Elfrieda,Arnoud,earnoudpf@webs.com,Female,,earnoudpf,78343 Monument Park\\n917,Eleanor,,eworvillpg@vimeo.com,Male,,emanginotpg,\\n918,Isadore,Rumming,,Female,,irummingph,\\n919,Mignon,Granger,,Female,,mgrangerpi,9864 Harbort Way\\n920,Hermine,Dering,hderingpj@t.co,Male,920,hderingpj,\\n921,Chrisse,Bavridge,cbavridgepk@arizona.edu,Female,921,cbavridgepk,\\n922,Simona,Peverell,,Male,,speverellpl,\\n923,Shelby,Brannan,sbrannanpm@china.com.cn,Male,923,sbrannanpm,\\n924,Valry,Waistell,vwaistellpn@accuweather.com,Female,,vwaistellpn,96 Shelley Trail\\n925,Berget,Fairs,,Female,,bfairspo,6085 Talisman Court\\n926,Melvin,,mmedendorppp@adobe.com,Male,,mrashleighpp,\\n927,Vere,Chinn,vchinnpq@rediff.com,Male,,vchinnpq,2 Walton Plaza\\n928,Morlee,Guiot,,Female,,mguiotpr,\\n929,Talya,,tmchaleps@dropbox.com,Male,,tjoslynps,\\n930,Philipa,Lennon,plennonpt@shutterfly.com,Male,930,plennonpt,\\n931,Delia,Dahmke,ddahmkepu@amazon.com,Male,931,ddahmkepu,\\n932,Sally,Frondt,sfrondtpv@wordpress.com,Female,,sfrondtpv,\\n933,Aloysia,,aploughwrightpw@paginegialle.it,Female,,aduftonpw,4692 Anderson Hill\\n934,Joan,,jclaessenspx@seesaa.net,Male,934,jferrespx,\\n935,Byran,,,,,bloitertonpy,20542 Onsgard Plaza\\n936,Luther,,,Male,936,lmawerpz,\\n937,Mallory,Plomer,,Male,937,mplomerq0,\\n938,Odelle,Purkess,,,,opurkessq1,\\n939,Abigail,Sangra,,Male,,asangraq2,\\n940,Sophie,Totton,stottonq3@psu.edu,Male,940,stottonq3,\\n941,Marika,Brient,mbrientq4@stumbleupon.com,Male,941,mbrientq4,\\n942,Constantina,Aland,calandq5@addtoany.com,Male,942,calandq5,36 Meadow Vale Plaza\\n943,Philly,Eudall,peudallq6@de.vu,Female,,peudallq6,60541 Hansons Way\\n944,Egor,Rayment,,Male,,eraymentq7,\\n945,Emmalynne,Alldridge,,Male,,ealldridgeq8,5 Larry Hill\\n946,Fredrika,,fphizacleaq9@merriam-webster.com,Male,946,fschaumakerq9,\\n947,Porty,Brougham,pbroughamqa@wsj.com,Female,,pbroughamqa,\\n948,Celestina,Schofield,cschofieldqb@google.com,,948,cschofieldqb,\\n949,Stacee,Moulsdall,smoulsdallqc@japanpost.jp,Male,949,smoulsdallqc,\\n950,Frederico,,,Female,,fkyngeqd,0115 Coolidge Road\\n951,Edmund,Apfelmann,eapfelmannqe@cloudflare.com,Female,,eapfelmannqe,211 Mesta Plaza\\n952,Mavis,Battabee,mbattabeeqf@flickr.com,Female,952,mbattabeeqf,\\n953,Marthe,Penketh,mpenkethqg@dyndns.org,Male,,mpenkethqg,5971 Walton Plaza\\n954,Polly,Huitson,,Female,954,phuitsonqh,\\n955,Yoshi,Jales,yjalesqi@skyrock.com,,,yjalesqi,\\n956,Corilla,Ilive,ciliveqj@mapquest.com,Female,956,ciliveqj,\\n957,Birdie,Newton,bnewtonqk@fastcompany.com,,,bnewtonqk,36052 Kedzie Way\\n958,Garald,Woonton,gwoontonql@ox.ac.uk,Female,,gwoontonql,\\n959,Bliss,Kaplan,bkaplanqm@bloglovin.com,Female,959,bkaplanqm,7 Brickson Park Lane\\n960,Sinclare,Leyborne,,Male,960,sleyborneqn,\\n961,Avram,Le Leu,aleleuqo@shutterfly.com,Female,,aleleuqo,8 Karstens Plaza\\n962,Prudi,Dermott,,Female,,pdermottqp,\\n963,Tiffani,Gaythor,tgaythorqq@ucoz.com,Female,963,tgaythorqq,\\n964,Sissy,Stoving,sstovingqr@dropbox.com,Male,964,sstovingqr,\\n965,Aubree,Wychard,awychardqs@wikipedia.org,Male,965,awychardqs,\\n966,Al,Barbrook,abarbrookqt@shutterfly.com,Male,966,abarbrookqt,\\n967,Susie,Gillyatt,,Male,967,sgillyattqu,\\n968,Krispin,Anders,kandersqv@1688.com,Male,968,kandersqv,410 Forest Circle\\n969,Tadeas,Lafoy,tlafoyqw@craigslist.org,,969,tlafoyqw,\\n970,Ricki,Tyer,rtyerqx@marketwatch.com,Female,970,rtyerqx,\\n971,Neale,Leyninye,,Male,971,nleyninyeqy,\\n972,Ingeborg,,icashfordqz@dailymotion.com,Female,,igunstonqz,\\n973,Normand,Bonett,nbonettr0@jiathis.com,Male,,nbonettr0,6991 Old Shore Alley\\n974,Lori,Stockney,,Male,,lstockneyr1,\\n975,Codie,Tame,ctamer2@zdnet.com,Male,975,ctamer2,\\n976,Tanny,Hedge,thedger3@booking.com,Male,,thedger3,\\n977,Dede,Conochie,dconochier4@blog.com,Female,977,dconochier4,\\n978,Tymothy,Watsam,twatsamr5@google.ca,Female,978,twatsamr5,67161 Prentice Road\\n979,Cliff,Ashwood,cashwoodr6@usa.gov,Male,,cashwoodr6,\\n980,Ransom,Brampton,,Male,980,rbramptonr7,735 Messerschmidt Plaza\\n981,Ethelind,Bonnette,,Female,,ebonnetter8,\\n982,Willey,Tie,,Male,,wtier9,\\n983,Adorne,,abrashra@cloudflare.com,Male,983,atremeerra,\\n984,Bonni,Measor,bmeasorrb@nifty.com,Female,,bmeasorrb,\\n985,Cozmo,Alkin,calkinrc@princeton.edu,Male,985,calkinrc,3997 Lake View Plaza\\n986,Herc,Gooderick,hgooderickrd@foxnews.com,Male,986,hgooderickrd,\\n987,Lea,McEnhill,lmcenhillre@163.com,Male,987,lmcenhillre,\\n988,Lynna,Castilljo,,Male,988,lcastilljorf,\\n989,Aurelea,Anderbrugge,aanderbruggerg@mysql.com,Female,,aanderbruggerg,\\n990,Savina,Hoyle,shoylerh@fastcompany.com,Male,,shoylerh,\\n991,Georas,Westgarth,gwestgarthri@cbsnews.com,Male,,gwestgarthri,\\n992,Jobye,Crossthwaite,jcrossthwaiterj@desdev.cn,,992,jcrossthwaiterj,\\n993,Flory,O'Dowgaine,fodowgainerk@home.pl,Female,993,fodowgainerk,\\n994,Kathlin,Sives,ksivesrl@japanpost.jp,Male,994,ksivesrl,981 Lillian Place\\n995,Montgomery,Fassbindler,mfassbindlerrm@ehow.com,Female,995,mfassbindlerrm,\\n996,Paddy,Ryce,,,,prycern,81692 Sugar Lane\\n997,Karry,Avann,,Male,,kavannro,\\n998,Alvin,Twist,atwistrp@ca.gov,Male,998,atwistrp,169 Rigney Alley\\n999,Obadias,Deshon,,Male,999,odeshonrq,4728 Sugar Trail\\n1000,Junia,,,Male,1000,jcorteneyrr,\\n''')"
   ]
  },
  {
   "cell_type": "code",
   "execution_count": 17,
   "id": "670313e5-c357-493d-8d38-5b0a6ab4b0ae",
   "metadata": {},
   "outputs": [
    {
     "name": "stdout",
     "output_type": "stream",
     "text": [
      "+---+----------+------------+--------------------+------+----+--------------+--------------------+\n",
      "| id|first_name|   last_name|               email|gender| age|      username|            location|\n",
      "+---+----------+------------+--------------------+------+----+--------------+--------------------+\n",
      "|  1|      Chip|    Gannaway|                NULL|Female|   1|    cgannaway0|                NULL|\n",
      "|  2|     Benny|      Habbon|bhabbon1@hatena.n...|  NULL|NULL|      bhabbon1|                NULL|\n",
      "|  3|        Ev|     Foyster|efoyster2@nature.com|  Male|NULL|     efoyster2|  2948 Badeau Street|\n",
      "|  4|    Ailene|      Orrick|   aorrick3@wisc.edu|  Male|NULL|      aorrick3|90248 Delaware Plaza|\n",
      "|  5|     Mommy|        NULL|    mbauchop4@360.cn|  NULL|   5|       mdwane4|                NULL|\n",
      "|  6|     Rossy|Bourtoumieux|rbourtoumieux5@la...|Female|NULL|rbourtoumieux5|         6 3rd Point|\n",
      "|  7|    Raddie|     Limbert|                NULL|  NULL|   7|     rlimbert6|                NULL|\n",
      "|  8|    Lizzie|      Gentry|lgentry7@nydailyn...|  Male|NULL|      lgentry7|                NULL|\n",
      "|  9|     Koren|   Jankowski|kjankowski8@googl...|Female|   9|   kjankowski8|     8711 Leroy Lane|\n",
      "| 10|     Ranee|  Purseglove|                NULL|Female|NULL|  rpurseglove9|  1279 Stoughton Way|\n",
      "| 11| Rosalinde|     Hadaway|rhadawaya@google....|  Male|  11|     rhadawaya|  7162 Welch Terrace|\n",
      "| 12|   Hershel|  De Bischof|                NULL|Female|NULL|   hdebischofb|                NULL|\n",
      "| 13|     Lilli|       Sibly|                NULL|  Male|NULL|       lsiblyc| 63204 Starling Hill|\n",
      "| 14|    Kissie|     Clorley|kclorleyd@barnesa...|  Male|NULL|     kclorleyd|                NULL|\n",
      "| 15|   Carolyn|      Docwra|                NULL|Female|NULL|      cdocwrae|                NULL|\n",
      "| 16| Reinaldos|  Fetherstan|                NULL|  Male|NULL|  rfetherstanf|                NULL|\n",
      "| 17|    Cullie|    Lamshead|clamsheadg@blogta...|  NULL|  17|    clamsheadg|                NULL|\n",
      "| 18|    Noella|      Tivers|   ntiversh@1688.com|Female|  18|      ntiversh|                NULL|\n",
      "| 19|    Burton|        NULL|                NULL|  Male|  19|     bpfefflei|                NULL|\n",
      "| 20|      Clim|      Hender|chenderj@facebook...|  Male|NULL|      chenderj|                NULL|\n",
      "+---+----------+------------+--------------------+------+----+--------------+--------------------+\n",
      "only showing top 20 rows\n",
      "\n"
     ]
    }
   ],
   "source": [
    "df_spark = spark.read.csv(\n",
    "    'test2.csv',\n",
    "    inferSchema=True,\n",
    "    header=True\n",
    ")\n",
    "df_spark.show()"
   ]
  },
  {
   "cell_type": "markdown",
   "id": "2adfed11-2ac2-4f5d-b901-e1f938e49376",
   "metadata": {},
   "source": [
    "## 8.2. Drop columns on null values"
   ]
  },
  {
   "cell_type": "code",
   "execution_count": 18,
   "id": "1ff9b271-30c3-4bde-b600-49d554f81d10",
   "metadata": {},
   "outputs": [
    {
     "name": "stdout",
     "output_type": "stream",
     "text": [
      "+---+------------+---------+--------------------+------+---+------------+--------------------+\n",
      "| id|  first_name|last_name|               email|gender|age|    username|            location|\n",
      "+---+------------+---------+--------------------+------+---+------------+--------------------+\n",
      "|  9|       Koren|Jankowski|kjankowski8@googl...|Female|  9| kjankowski8|     8711 Leroy Lane|\n",
      "| 11|   Rosalinde|  Hadaway|rhadawaya@google....|  Male| 11|   rhadawaya|  7162 Welch Terrace|\n",
      "| 30|      Coriss|    Duthy|cduthyt@slashdot.org|Female| 30|     cduthyt|  852 Waubesa Center|\n",
      "| 37|         Kit|   Milton|   kmilton10@hhs.gov|Female| 37|   kmilton10|     29635 Oak Drive|\n",
      "| 45|         Gav|    Gudge|ggudge18@addthis.com|  Male| 45|    ggudge18|     20 Center Court|\n",
      "| 50|     Allegra|   Ohlsen|aohlsen1d@typepad...|Female| 50|   aohlsen1d|   32634 Miller Hill|\n",
      "| 54|Barbara-anne|   Climie|bclimie1h@clickba...|  Male| 54|   bclimie1h|    245 6th Crossing|\n",
      "| 63|     Matilde| Decourcy| mdecourcy1q@msu.edu|Female| 63| mdecourcy1q|  584 Lillian Street|\n",
      "| 71|       Reiko|   Couves| rcouves1y@mysql.com|Female| 71|   rcouves1y| 2463 Summerview Way|\n",
      "|144|       Taber|  Botting|  tbotting3z@pbs.org|Female|144|  tbotting3z|0711 Riverside Plaza|\n",
      "|151|       Lilli|  Bignold|lbignold46@seattl...|Female|151|  lbignold46| 5026 Straubel Court|\n",
      "|205|       Lelah|  Phlippi| lphlippi5o@usgs.gov|  Male|205|  lphlippi5o|20021 Banding Center|\n",
      "|207|  Clementina|   Norker|   cnorker5q@sun.com|  Male|207|   cnorker5q|  47679 Vahlen Plaza|\n",
      "|209|      Karrah|    Cella|  kcella5s@google.es|Female|209|    kcella5s|  6808 Stang Terrace|\n",
      "|227|       Kelsy| Whellams|kwhellams6a@stanf...|  Male|227| kwhellams6a|295 Anniversary C...|\n",
      "|232|     Padraic| MacQueen|pmacqueen6f@cnbc.com|  Male|232| pmacqueen6f|      9 Texas Avenue|\n",
      "|234|      Sascha|     Ofer|    sofer6h@yale.edu|Female|234|     sofer6h|      1 Shasta Drive|\n",
      "|247|       Ringo|Bruhnicke|rbruhnicke6u@apac...|  Male|247|rbruhnicke6u|   53156 Jenna Trail|\n",
      "|256|      Pavlov|    Janik|  pjanik73@wiley.com|Female|256|    pjanik73|9901 Arkansas Ter...|\n",
      "|257|       Jecho|    Pyson|jpyson74@business...|Female|257|    jpyson74|    21482 Scott Road|\n",
      "+---+------------+---------+--------------------+------+---+------------+--------------------+\n",
      "only showing top 20 rows\n",
      "\n",
      "+---+----------+------------+--------------------+------+----+--------------+--------------------+\n",
      "| id|first_name|   last_name|               email|gender| age|      username|            location|\n",
      "+---+----------+------------+--------------------+------+----+--------------+--------------------+\n",
      "|  1|      Chip|    Gannaway|                NULL|Female|   1|    cgannaway0|                NULL|\n",
      "|  2|     Benny|      Habbon|bhabbon1@hatena.n...|  NULL|NULL|      bhabbon1|                NULL|\n",
      "|  3|        Ev|     Foyster|efoyster2@nature.com|  Male|NULL|     efoyster2|  2948 Badeau Street|\n",
      "|  4|    Ailene|      Orrick|   aorrick3@wisc.edu|  Male|NULL|      aorrick3|90248 Delaware Plaza|\n",
      "|  5|     Mommy|        NULL|    mbauchop4@360.cn|  NULL|   5|       mdwane4|                NULL|\n",
      "|  6|     Rossy|Bourtoumieux|rbourtoumieux5@la...|Female|NULL|rbourtoumieux5|         6 3rd Point|\n",
      "|  7|    Raddie|     Limbert|                NULL|  NULL|   7|     rlimbert6|                NULL|\n",
      "|  8|    Lizzie|      Gentry|lgentry7@nydailyn...|  Male|NULL|      lgentry7|                NULL|\n",
      "|  9|     Koren|   Jankowski|kjankowski8@googl...|Female|   9|   kjankowski8|     8711 Leroy Lane|\n",
      "| 10|     Ranee|  Purseglove|                NULL|Female|NULL|  rpurseglove9|  1279 Stoughton Way|\n",
      "| 11| Rosalinde|     Hadaway|rhadawaya@google....|  Male|  11|     rhadawaya|  7162 Welch Terrace|\n",
      "| 12|   Hershel|  De Bischof|                NULL|Female|NULL|   hdebischofb|                NULL|\n",
      "| 13|     Lilli|       Sibly|                NULL|  Male|NULL|       lsiblyc| 63204 Starling Hill|\n",
      "| 14|    Kissie|     Clorley|kclorleyd@barnesa...|  Male|NULL|     kclorleyd|                NULL|\n",
      "| 15|   Carolyn|      Docwra|                NULL|Female|NULL|      cdocwrae|                NULL|\n",
      "| 16| Reinaldos|  Fetherstan|                NULL|  Male|NULL|  rfetherstanf|                NULL|\n",
      "| 17|    Cullie|    Lamshead|clamsheadg@blogta...|  NULL|  17|    clamsheadg|                NULL|\n",
      "| 18|    Noella|      Tivers|   ntiversh@1688.com|Female|  18|      ntiversh|                NULL|\n",
      "| 19|    Burton|        NULL|                NULL|  Male|  19|     bpfefflei|                NULL|\n",
      "| 20|      Clim|      Hender|chenderj@facebook...|  Male|NULL|      chenderj|                NULL|\n",
      "+---+----------+------------+--------------------+------+----+--------------+--------------------+\n",
      "only showing top 20 rows\n",
      "\n",
      "+---+----------+------------+--------------------+------+----+--------------+--------------------+\n",
      "| id|first_name|   last_name|               email|gender| age|      username|            location|\n",
      "+---+----------+------------+--------------------+------+----+--------------+--------------------+\n",
      "|  1|      Chip|    Gannaway|                NULL|Female|   1|    cgannaway0|                NULL|\n",
      "|  2|     Benny|      Habbon|bhabbon1@hatena.n...|  NULL|NULL|      bhabbon1|                NULL|\n",
      "|  3|        Ev|     Foyster|efoyster2@nature.com|  Male|NULL|     efoyster2|  2948 Badeau Street|\n",
      "|  4|    Ailene|      Orrick|   aorrick3@wisc.edu|  Male|NULL|      aorrick3|90248 Delaware Plaza|\n",
      "|  5|     Mommy|        NULL|    mbauchop4@360.cn|  NULL|   5|       mdwane4|                NULL|\n",
      "|  6|     Rossy|Bourtoumieux|rbourtoumieux5@la...|Female|NULL|rbourtoumieux5|         6 3rd Point|\n",
      "|  7|    Raddie|     Limbert|                NULL|  NULL|   7|     rlimbert6|                NULL|\n",
      "|  8|    Lizzie|      Gentry|lgentry7@nydailyn...|  Male|NULL|      lgentry7|                NULL|\n",
      "|  9|     Koren|   Jankowski|kjankowski8@googl...|Female|   9|   kjankowski8|     8711 Leroy Lane|\n",
      "| 10|     Ranee|  Purseglove|                NULL|Female|NULL|  rpurseglove9|  1279 Stoughton Way|\n",
      "| 11| Rosalinde|     Hadaway|rhadawaya@google....|  Male|  11|     rhadawaya|  7162 Welch Terrace|\n",
      "| 12|   Hershel|  De Bischof|                NULL|Female|NULL|   hdebischofb|                NULL|\n",
      "| 13|     Lilli|       Sibly|                NULL|  Male|NULL|       lsiblyc| 63204 Starling Hill|\n",
      "| 14|    Kissie|     Clorley|kclorleyd@barnesa...|  Male|NULL|     kclorleyd|                NULL|\n",
      "| 15|   Carolyn|      Docwra|                NULL|Female|NULL|      cdocwrae|                NULL|\n",
      "| 16| Reinaldos|  Fetherstan|                NULL|  Male|NULL|  rfetherstanf|                NULL|\n",
      "| 17|    Cullie|    Lamshead|clamsheadg@blogta...|  NULL|  17|    clamsheadg|                NULL|\n",
      "| 18|    Noella|      Tivers|   ntiversh@1688.com|Female|  18|      ntiversh|                NULL|\n",
      "| 19|    Burton|        NULL|                NULL|  Male|  19|     bpfefflei|                NULL|\n",
      "| 20|      Clim|      Hender|chenderj@facebook...|  Male|NULL|      chenderj|                NULL|\n",
      "+---+----------+------------+--------------------+------+----+--------------+--------------------+\n",
      "only showing top 20 rows\n",
      "\n",
      "+---+----------+------------+--------------------+------+----+--------------+--------------------+\n",
      "| id|first_name|   last_name|               email|gender| age|      username|            location|\n",
      "+---+----------+------------+--------------------+------+----+--------------+--------------------+\n",
      "|  3|        Ev|     Foyster|efoyster2@nature.com|  Male|NULL|     efoyster2|  2948 Badeau Street|\n",
      "|  4|    Ailene|      Orrick|   aorrick3@wisc.edu|  Male|NULL|      aorrick3|90248 Delaware Plaza|\n",
      "|  6|     Rossy|Bourtoumieux|rbourtoumieux5@la...|Female|NULL|rbourtoumieux5|         6 3rd Point|\n",
      "|  9|     Koren|   Jankowski|kjankowski8@googl...|Female|   9|   kjankowski8|     8711 Leroy Lane|\n",
      "| 10|     Ranee|  Purseglove|                NULL|Female|NULL|  rpurseglove9|  1279 Stoughton Way|\n",
      "| 11| Rosalinde|     Hadaway|rhadawaya@google....|  Male|  11|     rhadawaya|  7162 Welch Terrace|\n",
      "| 13|     Lilli|       Sibly|                NULL|  Male|NULL|       lsiblyc| 63204 Starling Hill|\n",
      "| 26|     Jaime| Heaselgrave|jheaselgravep@wik...|  NULL|  26| jheaselgravep|97329 Ludington Lane|\n",
      "| 27|   Callida|     Popescu|  cpopescuq@nasa.gov|  Male|NULL|     cpopescuq|67 Village Green ...|\n",
      "| 29|   Suzanne|    Colledge|                NULL|  Male|NULL|    scolledges|699 Graceland Jun...|\n",
      "| 30|    Coriss|       Duthy|cduthyt@slashdot.org|Female|  30|       cduthyt|  852 Waubesa Center|\n",
      "| 32|    Gerald|        NULL|                NULL|  Male|NULL|  gwozencroftv| 1843 Birchwood Hill|\n",
      "| 37|       Kit|      Milton|   kmilton10@hhs.gov|Female|  37|     kmilton10|     29635 Oak Drive|\n",
      "| 40|   Annetta|        NULL|                NULL|  Male|NULL|   asmithson13|  3 Crest Line Trail|\n",
      "| 44|     Fredi|    Surplice|fsurplice17@comse...|  Male|NULL|   fsurplice17|      69 Dennis Road|\n",
      "| 45|       Gav|       Gudge|ggudge18@addthis.com|  Male|  45|      ggudge18|     20 Center Court|\n",
      "| 46|    Serene|      Townby|                NULL|  NULL|  46|     stownby19|13102 Sutteridge Way|\n",
      "| 47|    Alyssa|        NULL|amarquese1a@accuw...|Female|NULL| ahutchinges1a|   16411 Scott Drive|\n",
      "| 49|     Clint|        NULL|cbompas1c@walmart...|Female|  49|  cdarlaston1c|   06251 Nevada Park|\n",
      "| 50|   Allegra|      Ohlsen|aohlsen1d@typepad...|Female|  50|     aohlsen1d|   32634 Miller Hill|\n",
      "+---+----------+------------+--------------------+------+----+--------------+--------------------+\n",
      "only showing top 20 rows\n",
      "\n"
     ]
    },
    {
     "name": "stderr",
     "output_type": "stream",
     "text": [
      "24/05/18 15:40:00 WARN GarbageCollectionMetrics: To enable non-built-in garbage collector(s) List(G1 Concurrent GC), users should configure it(them) to spark.eventLog.gcMetrics.youngGenerationGarbageCollectors or spark.eventLog.gcMetrics.oldGenerationGarbageCollectors\n"
     ]
    }
   ],
   "source": [
    "df_spark.na.drop().show() # how='any' as default, drops where any row columns contains null\n",
    "df_spark.na.drop(how='all').show() # Drops where all row columns are null\n",
    "df_spark.na.drop(how='any', thresh=2).show() # Drops where all row columns that are not null are equal or above threshold\n",
    "df_spark.na.drop(how='any', subset=['location']).show() # Drops where all row columns that contains any nulls on specific column"
   ]
  },
  {
   "cell_type": "markdown",
   "id": "74e523b6-88cb-4391-a1ab-41ff961ab9dd",
   "metadata": {},
   "source": [
    "# 9. Filtering"
   ]
  },
  {
   "cell_type": "code",
   "execution_count": 37,
   "id": "395d68a6-bba8-4027-a4be-4e1b3abbb30b",
   "metadata": {},
   "outputs": [
    {
     "name": "stdout",
     "output_type": "stream",
     "text": [
      "+---+----------+---------+--------------------+------+----+------------+--------------------+\n",
      "| id|first_name|last_name|               email|gender| age|    username|            location|\n",
      "+---+----------+---------+--------------------+------+----+------------+--------------------+\n",
      "| 40|   Annetta|     NULL|                NULL|  Male|NULL| asmithson13|  3 Crest Line Trail|\n",
      "|110|     Aldis|     NULL|                NULL|Female|NULL|    astarr31|                NULL|\n",
      "|301|     Alley|Sigsworth|asigsworth8c@nets...|  Male| 301|asigsworth8c|     9146 Gale Plaza|\n",
      "|386|    Anabel| Streeter|astreeterap@event...|  Male| 386| astreeterap|34502 Browning Pa...|\n",
      "|939|   Abigail|   Sangra|                NULL|  Male|NULL|   asangraq2|                NULL|\n",
      "+---+----------+---------+--------------------+------+----+------------+--------------------+\n",
      "\n"
     ]
    }
   ],
   "source": [
    "# Filtering with SQL notation\n",
    "df_spark.filter('SUBSTR(username, 0, 2) == \"as\"').show()"
   ]
  },
  {
   "cell_type": "code",
   "execution_count": 47,
   "id": "0668c2a4-b2d8-41e2-b060-4e5a527f0b81",
   "metadata": {},
   "outputs": [
    {
     "name": "stdout",
     "output_type": "stream",
     "text": [
      "+---+----------+---------+--------------------+------+----+-------------+--------------------+\n",
      "| id|first_name|last_name|               email|gender| age|     username|            location|\n",
      "+---+----------+---------+--------------------+------+----+-------------+--------------------+\n",
      "|  5|     Mommy|     NULL|    mbauchop4@360.cn|  NULL|   5|      mdwane4|                NULL|\n",
      "| 19|    Burton|     NULL|                NULL|  Male|  19|    bpfefflei|                NULL|\n",
      "| 23|   Lyndsey|     NULL|  lfoukxm@flavors.me|  Male|NULL| llilleycropm|                NULL|\n",
      "| 28|   Paulita|     NULL|psimmsr@independe...|  Male|NULL|    pdaymondr|                NULL|\n",
      "| 32|    Gerald|     NULL|                NULL|  Male|NULL| gwozencroftv| 1843 Birchwood Hill|\n",
      "| 33|  Shirlene|     NULL|      sizonw@msu.edu|Female|NULL|      slewtyw|                NULL|\n",
      "| 34|     Ramon|     NULL|rshovelbottomx@sc...|  Male|NULL|      rratkex|                NULL|\n",
      "| 40|   Annetta|     NULL|                NULL|  Male|NULL|  asmithson13|  3 Crest Line Trail|\n",
      "| 47|    Alyssa|     NULL|amarquese1a@accuw...|Female|NULL|ahutchinges1a|   16411 Scott Drive|\n",
      "| 48|       Boy|     NULL|                NULL|  Male|NULL|    btroker1b|                NULL|\n",
      "| 49|     Clint|     NULL|cbompas1c@walmart...|Female|  49| cdarlaston1c|   06251 Nevada Park|\n",
      "| 57|    Morgen|     NULL|  mlaundon1k@cnn.com|  Male|  57|   mchildes1k|                NULL|\n",
      "| 68|     Morey|     NULL|mmusgrave1v@bing.com|  NULL|NULL|     mkubis1v|                NULL|\n",
      "| 70|  Danyette|     NULL|dsmallacombe1x@ti...|  Male|NULL|   doreagan1x|                NULL|\n",
      "| 76|      Babs|     NULL|                NULL|  Male|NULL|   bturfrey23|                NULL|\n",
      "| 78|      Tito|     NULL|thamal25@chicagot...|Female|  78|      tpink25|                NULL|\n",
      "| 85|    Camila|     NULL|                NULL|Female|  85|    cswains2c|         7 3rd Drive|\n",
      "| 90|     Horst|     NULL|   hsnel2h@webmd.com|Female|NULL|    horbine2h|                NULL|\n",
      "| 91| Hephzibah|     NULL|                NULL|Female|NULL|  hcrawshaw2i|39528 Stephen Street|\n",
      "| 97|      Lynn|     NULL|lrowlings2o@netwo...|  Male|NULL|    loldman2o|                NULL|\n",
      "+---+----------+---------+--------------------+------+----+-------------+--------------------+\n",
      "only showing top 20 rows\n",
      "\n",
      "+---+----------+---------+--------------------+------+----+-------------+--------------------+\n",
      "| id|first_name|last_name|               email|gender| age|     username|            location|\n",
      "+---+----------+---------+--------------------+------+----+-------------+--------------------+\n",
      "|  5|     Mommy|     NULL|    mbauchop4@360.cn|  NULL|   5|      mdwane4|                NULL|\n",
      "| 19|    Burton|     NULL|                NULL|  Male|  19|    bpfefflei|                NULL|\n",
      "| 23|   Lyndsey|     NULL|  lfoukxm@flavors.me|  Male|NULL| llilleycropm|                NULL|\n",
      "| 28|   Paulita|     NULL|psimmsr@independe...|  Male|NULL|    pdaymondr|                NULL|\n",
      "| 32|    Gerald|     NULL|                NULL|  Male|NULL| gwozencroftv| 1843 Birchwood Hill|\n",
      "| 33|  Shirlene|     NULL|      sizonw@msu.edu|Female|NULL|      slewtyw|                NULL|\n",
      "| 34|     Ramon|     NULL|rshovelbottomx@sc...|  Male|NULL|      rratkex|                NULL|\n",
      "| 40|   Annetta|     NULL|                NULL|  Male|NULL|  asmithson13|  3 Crest Line Trail|\n",
      "| 47|    Alyssa|     NULL|amarquese1a@accuw...|Female|NULL|ahutchinges1a|   16411 Scott Drive|\n",
      "| 48|       Boy|     NULL|                NULL|  Male|NULL|    btroker1b|                NULL|\n",
      "| 49|     Clint|     NULL|cbompas1c@walmart...|Female|  49| cdarlaston1c|   06251 Nevada Park|\n",
      "| 57|    Morgen|     NULL|  mlaundon1k@cnn.com|  Male|  57|   mchildes1k|                NULL|\n",
      "| 68|     Morey|     NULL|mmusgrave1v@bing.com|  NULL|NULL|     mkubis1v|                NULL|\n",
      "| 70|  Danyette|     NULL|dsmallacombe1x@ti...|  Male|NULL|   doreagan1x|                NULL|\n",
      "| 76|      Babs|     NULL|                NULL|  Male|NULL|   bturfrey23|                NULL|\n",
      "| 78|      Tito|     NULL|thamal25@chicagot...|Female|  78|      tpink25|                NULL|\n",
      "| 85|    Camila|     NULL|                NULL|Female|  85|    cswains2c|         7 3rd Drive|\n",
      "| 90|     Horst|     NULL|   hsnel2h@webmd.com|Female|NULL|    horbine2h|                NULL|\n",
      "| 91| Hephzibah|     NULL|                NULL|Female|NULL|  hcrawshaw2i|39528 Stephen Street|\n",
      "| 97|      Lynn|     NULL|lrowlings2o@netwo...|  Male|NULL|    loldman2o|                NULL|\n",
      "+---+----------+---------+--------------------+------+----+-------------+--------------------+\n",
      "only showing top 20 rows\n",
      "\n"
     ]
    }
   ],
   "source": [
    "# Filtering with numpy indexes\n",
    "df_spark.filter(df_spark['last_name'].isNull()).show()\n",
    "df_spark.filter(df_spark['first_name'].isNull() | df_spark['last_name'].isNull()).show()"
   ]
  }
 ],
 "metadata": {
  "kernelspec": {
   "display_name": "Python 3 (ipykernel)",
   "language": "python",
   "name": "python3"
  },
  "language_info": {
   "codemirror_mode": {
    "name": "ipython",
    "version": 3
   },
   "file_extension": ".py",
   "mimetype": "text/x-python",
   "name": "python",
   "nbconvert_exporter": "python",
   "pygments_lexer": "ipython3",
   "version": "3.12.3"
  }
 },
 "nbformat": 4,
 "nbformat_minor": 5
}
